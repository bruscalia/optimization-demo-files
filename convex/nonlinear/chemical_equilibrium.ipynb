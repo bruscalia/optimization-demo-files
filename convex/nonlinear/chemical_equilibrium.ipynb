{
 "cells": [
  {
   "attachments": {},
   "cell_type": "markdown",
   "metadata": {},
   "source": [
    "# Chemical equilibrium"
   ]
  },
  {
   "attachments": {},
   "cell_type": "markdown",
   "metadata": {},
   "source": [
    "This example is based on Bracken, J., & McCormick, G.P. (1968). Selected applications of nonlinear programming.\n",
    "\n",
    "- $m$ number of chemical elements\n",
    "- $n$ number of compounds\n",
    "- $I$ set of chemical elements of index $i$\n",
    "- $J$ set o compounds of index $j$\n",
    "- $x_{j}$ moles of compound $j$\n",
    "- $s$ total number of moles $s = \\sum_{j \\in J} x_{j}$\n",
    "- $a_{i, j}$ number of moles of $i$ in mole of compound $j$\n",
    "- $b_{i}$ total number moles of element $i$ in the mixture\n",
    "\n",
    "| $j$ | Compound | $(F^0/RT)_{j}$ | $c_{j}$ | H | N | O |\n",
    "| --- | --- | --- | --- | --- | --- | --- |\n",
    "| 1 | $H$ | -10.021 | -6.089 | 1 | - | - |\n",
    "| 2 | $H_2$ | -21.096 | -17.164 | 2 | - | - |\n",
    "| 3 | $H_2O$ | -37.986 | -34.054 | 2 | - | 1 |\n",
    "| 4 | $N$ | -9.846 | -5.914 | - | 1 | - |\n",
    "| 5 | $N_2$ | -28.653 | -24.721 | - | 2 | - |\n",
    "| 6 | $NH$ | -18.918 | -14.986 | 1 | 1 | - |\n",
    "| 7 | $NO$ | -28.032 | -24.100 | - | 1 | 1 |\n",
    "| 8 | $O$ | -14.640 | -10.708 | - | - | 1 |\n",
    "| 9 | $O_2$ | -30.594 | -26.662 | - | - | 2 |\n",
    "| 10 | $OH$ | -26.111 | -22.179 | 1 | - | 1 |"
   ]
  },
  {
   "attachments": {},
   "cell_type": "markdown",
   "metadata": {},
   "source": [
    "$$\n",
    "\\begin{align}\n",
    "    \\text{min} \\quad & \\sum_{j \\in J} x_j [c_j + \\ln{( \\frac{x_j}{s} )}] \\\\\n",
    "    \\text{s.t.} \\quad & \\sum_{j \\in J} a_{i, j} x_{j} = b_{i} & \\forall \\; i \\in I \\\\\n",
    "    & x_{j} \\geq 0 & \\forall \\; j \\in J \\\\\n",
    "\\end{align}\n",
    "$$"
   ]
  },
  {
   "attachments": {},
   "cell_type": "markdown",
   "metadata": {},
   "source": [
    "Suppose an inlet of 1/2 $N_2 H_4$ + 1/2 $O_2$"
   ]
  },
  {
   "cell_type": "code",
   "execution_count": 1,
   "metadata": {},
   "outputs": [],
   "source": [
    "import numpy as np\n",
    "from scipy.optimize import minimize, LinearConstraint"
   ]
  },
  {
   "cell_type": "code",
   "execution_count": 2,
   "metadata": {},
   "outputs": [],
   "source": [
    "c = - np.array([6.089, 17.164, 34.054, 5.914, 24.721, 14.986, 24.100, 10.708, 26.662, 22.179])\n",
    "\n",
    "A = np.array([\n",
    "    [1, 2, 2, 0, 0, 1, 0, 0, 0, 1],\n",
    "    [0, 0, 0, 1, 2, 1, 1, 0, 0, 0],\n",
    "    [0, 0, 1, 0, 0, 0, 1, 1, 2, 1]\n",
    "])\n",
    "\n",
    "b = np.array([2, 1, 1])"
   ]
  },
  {
   "cell_type": "code",
   "execution_count": 3,
   "metadata": {},
   "outputs": [],
   "source": [
    "def obj_fun(x, c):\n",
    "    s = np.sum(x)\n",
    "    aux = c + np.log(x.clip(1e-3, np.inf) / s)\n",
    "    return aux.dot(x)"
   ]
  },
  {
   "cell_type": "code",
   "execution_count": 4,
   "metadata": {},
   "outputs": [],
   "source": [
    "cons = LinearConstraint(A, lb=b, ub=b)\n",
    "bounds = [(0.0, np.inf)] * len(c)"
   ]
  },
  {
   "cell_type": "code",
   "execution_count": 5,
   "metadata": {},
   "outputs": [
    {
     "name": "stdout",
     "output_type": "stream",
     "text": [
      "     fun: -47.76102969978895\n",
      "     jac: array([ -9.78553629, -19.57101583, -34.79228926, -12.96713018,\n",
      "       -25.9382472 , -22.38243341, -28.1889534 , -15.22098398,\n",
      "       -30.44572687, -25.00593281])\n",
      " message: 'Optimization terminated successfully'\n",
      "    nfev: 207\n",
      "     nit: 17\n",
      "    njev: 17\n",
      "  status: 0\n",
      " success: True\n",
      "       x: array([0.04065125, 0.14761051, 0.78307842, 0.00141717, 0.48506618,\n",
      "       0.00099799, 0.02745248, 0.01796472, 0.03726574, 0.0969729 ])\n"
     ]
    }
   ],
   "source": [
    "sol = minimize(obj_fun, np.ones_like(c), args=(c,), constraints=cons, bounds=bounds)\n",
    "print(sol)"
   ]
  },
  {
   "cell_type": "code",
   "execution_count": null,
   "metadata": {},
   "outputs": [],
   "source": []
  }
 ],
 "metadata": {
  "kernelspec": {
   "display_name": "venv",
   "language": "python",
   "name": "python3"
  },
  "language_info": {
   "codemirror_mode": {
    "name": "ipython",
    "version": 3
   },
   "file_extension": ".py",
   "mimetype": "text/x-python",
   "name": "python",
   "nbconvert_exporter": "python",
   "pygments_lexer": "ipython3",
   "version": "3.10.6"
  },
  "orig_nbformat": 4
 },
 "nbformat": 4,
 "nbformat_minor": 2
}
