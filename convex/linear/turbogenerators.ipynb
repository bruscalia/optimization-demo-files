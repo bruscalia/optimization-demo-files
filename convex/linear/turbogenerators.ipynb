{
 "cells": [
  {
   "attachments": {},
   "cell_type": "markdown",
   "metadata": {},
   "source": [
    "# Boiler/Turbo-Generator System\n",
    "\n",
    "*Optimization of Chemical Processes*, Edgar & Himmelblau (2001) - Example 11.4"
   ]
  },
  {
   "attachments": {},
   "cell_type": "markdown",
   "metadata": {},
   "source": [
    "## Statement\n",
    "\n",
    "Two turbo-generators (TG) are used to supply electric power and process steam to an industrial unit. The TGs are designed such that their capacity to collect steam at each pressure level differ.\n",
    "\n",
    "Consider each TG is fed high pressure steam and and has three possible extraction points: medium pressure steam, low pressure steam, and condensate. The electric power generated assumes a 100% thermal efficiency converting the difference between total enthalpy in the inlet and outlet of the TGs.\n",
    "\n",
    "To meet industrial demands for medium and low pressure steam, two bypass valves might be opened. The first takes high pressure steam from source and converts it into medium pressure steam. The second converts medium pressure steam into low pressure.\n",
    "\n",
    "| Steam Pressure | Enthalpy [MWh/ton] |\n",
    "| --- | --- |\n",
    "| High | 0.878 |\n",
    "| Medium | 0.819 |\n",
    "| Low | 0.808 |\n",
    "| Condensate | 0.125 |\n",
    "\n",
    "$ $\n",
    "\n",
    "| Resource | Demand |\n",
    "| --- | --- |\n",
    "| Medium Steam [ton/h] | 123.2 |\n",
    "| Low Steam [ton/h] | 45.6 |\n",
    "| Electric Power [MW] | 24.55 |\n",
    "\n",
    "$ $\n",
    "\n",
    "| Property | TG1 | TG2 |\n",
    "| --- | --- | --- |\n",
    "| Max Gen [MW] | 6.25 | 9.00 |\n",
    "| Min Gen [MW] | 2.50 | 3.00 |\n",
    "| Max inlet [ton/h] | 87.09 | 110.67 |\n",
    "| Max condensate [ton/h] | 28.12 | 0.00 |\n",
    "| Max internal* [ton/h] | 59.87 | 64.41 |\n",
    "\n",
    "$ $\n",
    "\n",
    "| Property | Value |\n",
    "| --- | --- |\n",
    "| Fuel Cost [$/MWh] | 5.73 |\n",
    "| Boiler Efficiency | 0.75 |\n",
    "| Steam cost** [$/ton] | 5.75 |\n",
    "| Electric base cost [$/MWh] | 23.90 |\n",
    "| Penalty below 12MW [$/MWh] | 9.83 |\n",
    "\n",
    "*Extracted at low pressure + condensate\n",
    "\n",
    "**Steam cost equation:\n",
    "\n",
    "$5.73 / 0.75 \\text{\\$/MWh} \\cdot (0.878 - 0.125) \\text{MWh/ton} = 5.75 \\text{\\$/ton}$"
   ]
  },
  {
   "cell_type": "code",
   "execution_count": 1,
   "metadata": {},
   "outputs": [],
   "source": [
    "import numpy as np\n",
    "import pandas as pd\n",
    "import pyomo.environ as pyo"
   ]
  },
  {
   "cell_type": "markdown",
   "metadata": {},
   "source": [
    "## Optimization problem"
   ]
  },
  {
   "cell_type": "code",
   "execution_count": 2,
   "metadata": {},
   "outputs": [],
   "source": [
    "model = pyo.ConcreteModel()"
   ]
  },
  {
   "attachments": {},
   "cell_type": "markdown",
   "metadata": {},
   "source": [
    "## Sets\n",
    "- $T$ : Turbogenerators\n",
    "- $S$ : Steam levels"
   ]
  },
  {
   "cell_type": "code",
   "execution_count": 3,
   "metadata": {},
   "outputs": [],
   "source": [
    "model.T = pyo.Set(initialize=[1, 2])\n",
    "model.S = pyo.Set(initialize=[\"hi\", \"med\", \"low\", \"cond\"])"
   ]
  },
  {
   "attachments": {},
   "cell_type": "markdown",
   "metadata": {},
   "source": [
    "## Parameters"
   ]
  },
  {
   "cell_type": "code",
   "execution_count": 4,
   "metadata": {},
   "outputs": [],
   "source": [
    "# Power limits per TG\n",
    "model.max_gen = pyo.Param(model.T, initialize={1: 6.25, 2: 9.0})\n",
    "model.min_gen = pyo.Param(model.T, initialize={1: 2.5, 2: 3.0})\n",
    "\n",
    "# Flow limits per TG\n",
    "model.max_inlet = pyo.Param(model.T, initialize={1: 87.09, 2: 110.67})\n",
    "model.max_internal = pyo.Param(model.T, initialize={1: 59.87, 2: 64.41})\n",
    "model.max_condensate = pyo.Param(model.T, initialize={1: 28.12, 2: 0.0})\n",
    "\n",
    "# Steam and power demands\n",
    "model.mid_dem = pyo.Param(initialize=123.2)\n",
    "model.low_dem = pyo.Param(initialize=45.6)\n",
    "model.ele_dem = pyo.Param(initialize=24.55)\n",
    "\n",
    "# Costs\n",
    "model.steam_cost = pyo.Param(initialize=5.75)\n",
    "model.ele_cost = pyo.Param(initialize=23.9)\n",
    "model.pen_cost = pyo.Param(initialize=9.83)\n",
    "model.min_contract = pyo.Param(initialize=12.0)\n",
    "\n",
    "# Enthalpy\n",
    "model.enthalpy = pyo.Param(model.S, initialize={\"hi\":0.878, \"med\":0.819, \"low\":0.808, \"cond\":0.125})"
   ]
  },
  {
   "attachments": {},
   "cell_type": "markdown",
   "metadata": {},
   "source": [
    "## Decision Variables"
   ]
  },
  {
   "cell_type": "code",
   "execution_count": 5,
   "metadata": {},
   "outputs": [],
   "source": [
    "# Power generation must be within bounds\n",
    "def rule_power_bounds(model, t):\n",
    "    return (model.min_gen[t], model.max_gen[t])\n",
    "\n",
    "# Steam flow\n",
    "model.steam_cons = pyo.Var(within=pyo.NonNegativeReals)\n",
    "model.flow = pyo.Var(model.T, model.S, within=pyo.NonNegativeReals)\n",
    "\n",
    "# By-pass valves\n",
    "model.bypass_med = pyo.Var(within=pyo.NonNegativeReals)\n",
    "model.bypass_low = pyo.Var(within=pyo.NonNegativeReals)\n",
    "\n",
    "# Electrical power\n",
    "model.power_gen = pyo.Var(model.T, bounds=rule_power_bounds, within=pyo.NonNegativeReals)\n",
    "model.purch_power = pyo.Var(within=pyo.NonNegativeReals)\n",
    "model.penalty_power = pyo.Var(within=pyo.NonNegativeReals)"
   ]
  },
  {
   "cell_type": "markdown",
   "metadata": {},
   "source": [
    "## Constraints"
   ]
  },
  {
   "cell_type": "markdown",
   "metadata": {},
   "source": [
    "### Material Balances"
   ]
  },
  {
   "cell_type": "code",
   "execution_count": 6,
   "metadata": {},
   "outputs": [],
   "source": [
    "# Balance for medium extraction\n",
    "def rule_med_gen(model):\n",
    "    return sum(model.flow[t, \"med\"] for t in model.T) + (model.bypass_med - model.bypass_low)\n",
    "\n",
    "model.med_gen = pyo.Expression(rule=rule_med_gen)\n",
    "\n",
    "# Balance for low extraction\n",
    "def rule_low_gen(model):\n",
    "    return sum(model.flow[t, \"low\"] for t in model.T) + model.bypass_low\n",
    "\n",
    "model.low_gen = pyo.Expression(rule=rule_low_gen)\n",
    "\n",
    "# Balance on the inlet\n",
    "def rule_steam_balance_inlet(model):\n",
    "    return model.steam_cons == sum(model.flow[t, \"hi\"] for t in model.T) + model.bypass_med\n",
    "\n",
    "model.cstr_steam_balance_inlet = pyo.Constraint(rule=rule_steam_balance_inlet)\n",
    "\n",
    "# Global balance\n",
    "def rule_steam_balance_global(model):\n",
    "    return model.steam_cons == sum(model.flow[t, \"cond\"] for t in model.T) + model.med_gen + model.low_gen\n",
    "\n",
    "model.cstr_steam_balance_global = pyo.Constraint(rule=rule_steam_balance_global)\n",
    "\n",
    "# Balance per turbine\n",
    "def rule_steam_turbine(model, t):\n",
    "    return 2 * model.flow[t, \"hi\"] == sum(model.flow[t, s] for s in model.S)\n",
    "\n",
    "model.cstr_steam_turbine = pyo.Constraint(model.T, rule=rule_steam_turbine)"
   ]
  },
  {
   "cell_type": "markdown",
   "metadata": {},
   "source": [
    "### Energy Balance"
   ]
  },
  {
   "cell_type": "code",
   "execution_count": 7,
   "metadata": {},
   "outputs": [],
   "source": [
    "def rule_energy_balance(model, t):\n",
    "    return 2 * (model.enthalpy[\"hi\"] * model.flow[t, \"hi\"]) \\\n",
    "        - sum(model.enthalpy[s] * model.flow[t, s] for s in model.S) \\\n",
    "            == model.power_gen[t]\n",
    "            \n",
    "model.cstr_energy_balance = pyo.Constraint(model.T, rule=rule_energy_balance)"
   ]
  },
  {
   "attachments": {},
   "cell_type": "markdown",
   "metadata": {},
   "source": [
    "### Turbogenerator capacity constraints"
   ]
  },
  {
   "cell_type": "code",
   "execution_count": 8,
   "metadata": {},
   "outputs": [],
   "source": [
    "# Max inlet\n",
    "def rule_max_inlet(model, t):\n",
    "    return model.flow[t, \"hi\"] <= model.max_inlet[t]\n",
    "\n",
    "model.cstr_max_inlet = pyo.Constraint(model.T, rule=rule_max_inlet)\n",
    "\n",
    "# Max internal\n",
    "def rule_max_internal(model, t):\n",
    "    return model.flow[t, \"cond\"] + model.flow[t, \"low\"] <= model.max_internal[t]\n",
    "\n",
    "model.cstr_max_internal = pyo.Constraint(model.T, rule=rule_max_internal)\n",
    "\n",
    "# Max condensate\n",
    "def rule_max_cond(model, t):\n",
    "    return model.flow[t, \"cond\"] <= model.max_condensate[t]\n",
    "\n",
    "model.cstr_max_cond = pyo.Constraint(model.T, rule=rule_max_cond)"
   ]
  },
  {
   "cell_type": "markdown",
   "metadata": {},
   "source": [
    "### Energy demands"
   ]
  },
  {
   "cell_type": "code",
   "execution_count": 9,
   "metadata": {},
   "outputs": [],
   "source": [
    "# Min med gen\n",
    "def rule_mid_dem(model):\n",
    "    return model.mid_dem <= model.med_gen\n",
    "\n",
    "model.cstr_mid_dem = pyo.Constraint(rule=rule_mid_dem)\n",
    "\n",
    "# Min low gen\n",
    "def rule_low_dem(model):\n",
    "    return model.low_dem <= model.low_gen\n",
    "\n",
    "model.cstr_low_dem = pyo.Constraint(rule=rule_low_dem)\n",
    "\n",
    "# Power demand\n",
    "def rule_ele_dem(model):\n",
    "    return model.ele_dem <= sum(model.power_gen[t] for t in model.T) + model.purch_power\n",
    "\n",
    "model.cstr_ele_dem = pyo.Constraint(rule=rule_ele_dem)\n",
    "\n",
    "# Purchase power contract\n",
    "def rule_ele_contract(model):\n",
    "    return model.min_contract <= model.penalty_power + model.purch_power\n",
    "\n",
    "model.cstr_ele_contract = pyo.Constraint(rule=rule_ele_contract)"
   ]
  },
  {
   "cell_type": "markdown",
   "metadata": {},
   "source": [
    "## Objective"
   ]
  },
  {
   "cell_type": "code",
   "execution_count": 10,
   "metadata": {},
   "outputs": [],
   "source": [
    "# Minimize operational costs\n",
    "def obj_fun(model):\n",
    "    return model.steam_cost * model.steam_cons \\\n",
    "        + model.ele_cost * model.purch_power\\\n",
    "            + model.pen_cost * model.penalty_power\n",
    "\n",
    "model.obj = pyo.Objective(rule=obj_fun, sense=pyo.minimize)"
   ]
  },
  {
   "cell_type": "code",
   "execution_count": 11,
   "metadata": {},
   "outputs": [],
   "source": [
    "# model.write(\"turbogenerators.lp\", io_options={'symbolic_solver_labels': True})"
   ]
  },
  {
   "cell_type": "markdown",
   "metadata": {},
   "source": [
    "## Solve"
   ]
  },
  {
   "cell_type": "code",
   "execution_count": 12,
   "metadata": {},
   "outputs": [],
   "source": [
    "cbc = pyo.SolverFactory(\"cbc\")"
   ]
  },
  {
   "cell_type": "code",
   "execution_count": 13,
   "metadata": {},
   "outputs": [
    {
     "name": "stdout",
     "output_type": "stream",
     "text": [
      "Welcome to the CBC MILP Solver \n",
      "Version: 2.10.8 \n",
      "Build Date: May  5 2022 \n",
      "\n",
      "command line - C:\\Users\\Bruno\\Documents\\Programas\\Cbc\\bin\\cbc.exe -printingOptions all -import C:\\Users\\Bruno\\AppData\\Local\\Temp\\tmpgvidye8z.pyomo.lp -stat=1 -solve -solu C:\\Users\\Bruno\\AppData\\Local\\Temp\\tmpgvidye8z.pyomo.soln (default strategy 1)\n",
      "Option for printingOptions changed from normal to all\n",
      "Presolve 10 (-7) rows, 13 (-3) columns and 37 (-14) elements\n",
      "Statistics for presolved model\n",
      "\n",
      "\n",
      "Problem has 10 rows, 13 columns (5 with objective) and 37 elements\n",
      "There are 2 singletons with objective \n",
      "Column breakdown:\n",
      "7 of type 0.0->inf, 4 of type 0.0->up, 0 of type lo->inf, \n",
      "2 of type lo->up, 0 of type free, 0 of type fixed, \n",
      "0 of type -inf->0.0, 0 of type -inf->up, 0 of type 0.0->1.0 \n",
      "Row breakdown:\n",
      "5 of type E 0.0, 0 of type E 1.0, 0 of type E -1.0, \n",
      "1 of type E other, 0 of type G 0.0, 0 of type G 1.0, \n",
      "3 of type G other, 0 of type L 0.0, 0 of type L 1.0, \n",
      "1 of type L other, 0 of type Range 0.0->1.0, 0 of type Range other, \n",
      "0 of type Free \n",
      "Presolve 10 (-7) rows, 13 (-3) columns and 37 (-14) elements\n",
      "0  Obj 254.74935 Primal inf 230.74758 (9)\n",
      "11  Obj 1268.6494\n",
      "Optimal - objective value 1268.6494\n",
      "After Postsolve, objective 1268.6494, infeasibilities - dual 0 (0), primal 0 (0)\n",
      "Optimal objective 1268.649385 - 11 iterations time 0.002, Presolve 0.00\n",
      "Total time (CPU seconds):       0.01   (Wallclock seconds):       0.01\n",
      "\n"
     ]
    }
   ],
   "source": [
    "sol = cbc.solve(model, tee=True)"
   ]
  },
  {
   "cell_type": "code",
   "execution_count": 14,
   "metadata": {},
   "outputs": [
    {
     "name": "stdout",
     "output_type": "stream",
     "text": [
      "obj : Size=1, Index=None, Active=True\n",
      "    Key  : Active : Value\n",
      "    None :   True : 1268.6493959\n"
     ]
    }
   ],
   "source": [
    "model.obj.display()"
   ]
  },
  {
   "cell_type": "code",
   "execution_count": 15,
   "metadata": {},
   "outputs": [
    {
     "name": "stdout",
     "output_type": "stream",
     "text": [
      "flow : Size=8, Index=flow_index\n",
      "    Key         : Lower : Value     : Upper : Fixed : Stale : Domain\n",
      "    (1, 'cond') :     0 : 3.7454582 :  None : False : False : NonNegativeReals\n",
      "      (1, 'hi') :     0 : 61.875458 :  None : False : False : NonNegativeReals\n",
      "     (1, 'low') :     0 :       0.0 :  None : False : False : NonNegativeReals\n",
      "     (1, 'med') :     0 :     58.13 :  None : False : False : NonNegativeReals\n",
      "    (2, 'cond') :     0 :       0.0 :  None : False : False : NonNegativeReals\n",
      "      (2, 'hi') :     0 :    110.67 :  None : False : False : NonNegativeReals\n",
      "     (2, 'low') :     0 :      45.6 :  None : False : False : NonNegativeReals\n",
      "     (2, 'med') :     0 :     65.07 :  None : False : False : NonNegativeReals\n"
     ]
    }
   ],
   "source": [
    "model.flow.display()"
   ]
  },
  {
   "cell_type": "code",
   "execution_count": 16,
   "metadata": {},
   "outputs": [
    {
     "name": "stdout",
     "output_type": "stream",
     "text": [
      "power_gen : Size=2, Index=T\n",
      "    Key : Lower : Value   : Upper : Fixed : Stale : Domain\n",
      "      1 :   2.5 :    6.25 :  6.25 : False : False : NonNegativeReals\n",
      "      2 :   3.0 : 7.03113 :   9.0 : False : False : NonNegativeReals\n"
     ]
    }
   ],
   "source": [
    "model.power_gen.display()"
   ]
  },
  {
   "cell_type": "code",
   "execution_count": 17,
   "metadata": {},
   "outputs": [
    {
     "data": {
      "text/plain": [
       "123.19999999999999"
      ]
     },
     "execution_count": 17,
     "metadata": {},
     "output_type": "execute_result"
    }
   ],
   "source": [
    "model.med_gen(model)"
   ]
  },
  {
   "cell_type": "code",
   "execution_count": null,
   "metadata": {},
   "outputs": [],
   "source": []
  }
 ],
 "metadata": {
  "kernelspec": {
   "display_name": "Python 3.10.6 ('venv': venv)",
   "language": "python",
   "name": "python3"
  },
  "language_info": {
   "codemirror_mode": {
    "name": "ipython",
    "version": 3
   },
   "file_extension": ".py",
   "mimetype": "text/x-python",
   "name": "python",
   "nbconvert_exporter": "python",
   "pygments_lexer": "ipython3",
   "version": "3.9.7"
  },
  "orig_nbformat": 4,
  "vscode": {
   "interpreter": {
    "hash": "74cc81cb9fe1c1e193d3e0c529c6f5e8b7e2394a8ce57de487f07b5929c4a8c2"
   }
  }
 },
 "nbformat": 4,
 "nbformat_minor": 2
}
