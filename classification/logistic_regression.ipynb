{
 "cells": [
  {
   "attachments": {},
   "cell_type": "markdown",
   "metadata": {},
   "source": [
    "# Logistic regression - A nonlinear optimization perspective"
   ]
  },
  {
   "cell_type": "code",
   "execution_count": 1,
   "metadata": {},
   "outputs": [],
   "source": [
    "import numpy as np\n",
    "import matplotlib.pyplot as plt\n",
    "import time\n",
    "from sklearn.linear_model import LogisticRegression as LogisticSklearn\n",
    "from sklearn import datasets\n",
    "from sklearn.metrics import confusion_matrix, accuracy_score\n",
    "from sklearn.model_selection import train_test_split"
   ]
  },
  {
   "attachments": {},
   "cell_type": "markdown",
   "metadata": {},
   "source": [
    "Notice sklearn is used as benchmark model"
   ]
  },
  {
   "attachments": {},
   "cell_type": "markdown",
   "metadata": {},
   "source": [
    "## Custom operators"
   ]
  },
  {
   "cell_type": "code",
   "execution_count": 2,
   "metadata": {},
   "outputs": [],
   "source": [
    "from logistic import LogisticRegression\n",
    "from optimizers import QuasiNewton, ConjugateGradient, Newton, SteepestDescent"
   ]
  },
  {
   "attachments": {},
   "cell_type": "markdown",
   "metadata": {},
   "source": [
    "## Iris dataset"
   ]
  },
  {
   "cell_type": "code",
   "execution_count": 3,
   "metadata": {},
   "outputs": [],
   "source": [
    "# import some data to play with\n",
    "iris = datasets.load_iris()\n",
    "X = iris.data[:, :]\n",
    "y = iris.target"
   ]
  },
  {
   "cell_type": "code",
   "execution_count": 4,
   "metadata": {},
   "outputs": [
    {
     "name": "stdout",
     "output_type": "stream",
     "text": [
      "[[50  0  0]\n",
      " [ 0 49  1]\n",
      " [ 0  1 49]]\n",
      "Accuracy: 0.987\n",
      "Duration of 0.0199 seconds\n"
     ]
    }
   ],
   "source": [
    "start = time.time()\n",
    "\n",
    "# Create an instance of Logistic Regression Classifier and fit the data.\n",
    "logistic_sklearn = LogisticSklearn(penalty='none', solver='lbfgs')\n",
    "logistic_sklearn.fit(X, y)\n",
    "\n",
    "end = time.time()\n",
    "duration = end - start\n",
    "\n",
    "print(confusion_matrix(y, logistic_sklearn.predict(X)))\n",
    "print(f\"Accuracy: {accuracy_score(y, logistic_sklearn.predict(X)):.3f}\")\n",
    "\n",
    "print(f\"Duration of {duration:.4f} seconds\")"
   ]
  },
  {
   "cell_type": "code",
   "execution_count": 5,
   "metadata": {},
   "outputs": [
    {
     "name": "stdout",
     "output_type": "stream",
     "text": [
      "[[50  0  0]\n",
      " [ 0 49  1]\n",
      " [ 0  1 49]]\n",
      "Accuracy: 0.987\n",
      "Iter: 317\n",
      "Duration of 0.5046 seconds\n"
     ]
    }
   ],
   "source": [
    "start = time.time()\n",
    "\n",
    "logistic = LogisticRegression(optimizer=ConjugateGradient, f_tol=1e-6, max_iter=500, preprocess=True)\n",
    "logistic.fit(X, y)\n",
    "\n",
    "end = time.time()\n",
    "duration = end - start\n",
    "\n",
    "print(confusion_matrix(y, logistic.predict(X)))\n",
    "print(f\"Accuracy: {accuracy_score(y, logistic.predict(X)):.3f}\")\n",
    "\n",
    "n_iter = logistic.opt.result[\"iter\"]\n",
    "print(f\"Iter: {n_iter}\")\n",
    "\n",
    "print(f\"Duration of {duration:.4f} seconds\")"
   ]
  },
  {
   "cell_type": "code",
   "execution_count": 6,
   "metadata": {},
   "outputs": [
    {
     "name": "stdout",
     "output_type": "stream",
     "text": [
      "[[50  0  0]\n",
      " [ 0 49  1]\n",
      " [ 0  1 49]]\n",
      "Accuracy: 0.987\n",
      "Iter: 70\n",
      "Duration of 0.0486 seconds\n"
     ]
    }
   ],
   "source": [
    "start = time.time()\n",
    "\n",
    "logistic = LogisticRegression(optimizer=QuasiNewton, f_tol=1e-6, max_iter=500, preprocess=True)\n",
    "logistic.fit(X, y)\n",
    "\n",
    "end = time.time()\n",
    "duration = end - start\n",
    "\n",
    "print(confusion_matrix(y, logistic.predict(X)))\n",
    "print(f\"Accuracy: {accuracy_score(y, logistic.predict(X)):.3f}\")\n",
    "\n",
    "n_iter = logistic.opt.result[\"iter\"]\n",
    "print(f\"Iter: {n_iter}\")\n",
    "\n",
    "print(f\"Duration of {duration:.4f} seconds\")"
   ]
  },
  {
   "attachments": {},
   "cell_type": "markdown",
   "metadata": {},
   "source": [
    "sklearn is faster for sure, but our quasi-newton optimizer is not bad..."
   ]
  },
  {
   "cell_type": "code",
   "execution_count": 7,
   "metadata": {},
   "outputs": [
    {
     "name": "stdout",
     "output_type": "stream",
     "text": [
      "[[50  0  0]\n",
      " [ 0 48  2]\n",
      " [ 0  1 49]]\n",
      "Accuracy: 0.980\n",
      "Iter: 501\n",
      "Duration of 0.5713 seconds\n"
     ]
    }
   ],
   "source": [
    "start = time.time()\n",
    "\n",
    "logistic = LogisticRegression(optimizer=SteepestDescent, f_tol=1e-6, max_iter=500, preprocess=True)\n",
    "logistic.fit(X, y)\n",
    "\n",
    "end = time.time()\n",
    "duration = end - start\n",
    "\n",
    "print(confusion_matrix(y, logistic.predict(X)))\n",
    "print(f\"Accuracy: {accuracy_score(y, logistic.predict(X)):.3f}\")\n",
    "\n",
    "n_iter = logistic.opt.result[\"iter\"]\n",
    "print(f\"Iter: {n_iter}\")\n",
    "\n",
    "print(f\"Duration of {duration:.4f} seconds\")"
   ]
  },
  {
   "attachments": {},
   "cell_type": "markdown",
   "metadata": {},
   "source": [
    "And steepest descent never got there..."
   ]
  },
  {
   "attachments": {},
   "cell_type": "markdown",
   "metadata": {},
   "source": [
    "## Breast cancer dataset"
   ]
  },
  {
   "cell_type": "code",
   "execution_count": 8,
   "metadata": {},
   "outputs": [],
   "source": [
    "breast = datasets.load_breast_cancer()\n",
    "\n",
    "X = breast.data\n",
    "y = breast.target\n",
    "\n",
    "X_train, X_test, y_train, y_test = train_test_split(X, y, test_size=0.2, random_state=12)\n",
    "\n",
    "norm_factor = X_train.std(axis=0)\n",
    "\n",
    "X_train = X_train / norm_factor\n",
    "X_test = X_test / norm_factor"
   ]
  },
  {
   "cell_type": "code",
   "execution_count": 9,
   "metadata": {},
   "outputs": [
    {
     "name": "stdout",
     "output_type": "stream",
     "text": [
      "[[161   3]\n",
      " [  2 289]]\n",
      "[[45  3]\n",
      " [ 0 66]]\n",
      "Accuracy: 0.974\n"
     ]
    }
   ],
   "source": [
    "# Create an instance of Logistic Regression Classifier and fit the data.\n",
    "logistic_sklearn = LogisticSklearn(penalty='l2', solver='lbfgs', max_iter=1000, tol=1e-6)\n",
    "logistic_sklearn.fit(X_train, y_train)\n",
    "\n",
    "y_train_p = logistic_sklearn.predict(X_train)\n",
    "y_pred = logistic_sklearn.predict(X_test)\n",
    "\n",
    "print(confusion_matrix(y_train, y_train_p))\n",
    "print(confusion_matrix(y_test, y_pred))\n",
    "print(f\"Accuracy: {accuracy_score(y_test, y_pred):.3f}\")"
   ]
  },
  {
   "cell_type": "code",
   "execution_count": 10,
   "metadata": {},
   "outputs": [
    {
     "name": "stdout",
     "output_type": "stream",
     "text": [
      "[[160   4]\n",
      " [  1 290]]\n",
      "[[45  3]\n",
      " [ 0 66]]\n",
      "Accuracy: 0.974\n"
     ]
    }
   ],
   "source": [
    "logistic = LogisticRegression(f_tol=1e-6, l2=1e-4, max_iter=1000, preprocess=True, optimizer=QuasiNewton)\n",
    "logistic.fit(X_train, y_train)\n",
    "\n",
    "y_train_p = logistic.predict(X_train)\n",
    "y_pred = logistic.predict(X_test)\n",
    "\n",
    "print(confusion_matrix(y_train, y_train_p))\n",
    "print(confusion_matrix(y_test, y_pred))\n",
    "print(f\"Accuracy: {accuracy_score(y_test, y_pred):.3f}\")"
   ]
  },
  {
   "cell_type": "markdown",
   "metadata": {},
   "source": [
    "Ground truth: Lines\\\n",
    "Prediction: Columns"
   ]
  },
  {
   "cell_type": "code",
   "execution_count": null,
   "metadata": {},
   "outputs": [],
   "source": []
  }
 ],
 "metadata": {
  "kernelspec": {
   "display_name": "Python 3.9.7 ('venv': venv)",
   "language": "python",
   "name": "python3"
  },
  "language_info": {
   "codemirror_mode": {
    "name": "ipython",
    "version": 3
   },
   "file_extension": ".py",
   "mimetype": "text/x-python",
   "name": "python",
   "nbconvert_exporter": "python",
   "pygments_lexer": "ipython3",
   "version": "3.9.7"
  },
  "orig_nbformat": 4,
  "vscode": {
   "interpreter": {
    "hash": "f31556fa699a0d2c27e62fd442b8ff5384e61bdfda7127e2a0306c958f8d8edc"
   }
  }
 },
 "nbformat": 4,
 "nbformat_minor": 2
}
