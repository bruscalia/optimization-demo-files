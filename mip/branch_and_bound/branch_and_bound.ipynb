{
 "cells": [
  {
   "attachments": {},
   "cell_type": "markdown",
   "metadata": {},
   "source": [
    "# Branch and Bound from scratch"
   ]
  },
  {
   "cell_type": "code",
   "execution_count": 1,
   "metadata": {},
   "outputs": [],
   "source": [
    "import numpy as np\n",
    "from scipy.optimize import linprog"
   ]
  },
  {
   "cell_type": "code",
   "execution_count": 2,
   "metadata": {},
   "outputs": [],
   "source": [
    "from bnb import BranchAndBound"
   ]
  },
  {
   "attachments": {},
   "cell_type": "markdown",
   "metadata": {},
   "source": [
    "## Problem 1\n",
    "\n",
    "$$\n",
    "\\begin{align}\n",
    "    \\text{maximize}~ \\;\\; & 5 x_{1} + 4 x_{2} \\\\\n",
    "    \\text{subject to}~ \\;\\; & 2 x_{1} + 3 x_{2} \\leq 12 \\\\\n",
    "    & 2 x_{1} + x_{2} \\leq 6 \\\\\n",
    "    & x_{i} \\geq 0 & \\forall \\; i \\in \\{  1, 2 \\} \\\\\n",
    "    & x_{i} \\in \\mathbb{Z} & \\forall \\; i \\in \\{  1, 2 \\}\n",
    "\\end{align}\n",
    "$$"
   ]
  },
  {
   "cell_type": "code",
   "execution_count": 3,
   "metadata": {},
   "outputs": [],
   "source": [
    "c = np.array([-5.0, -4.0])\n",
    "\n",
    "A_ub = np.array(\n",
    "    [[2.0, 3.0],\n",
    "     [2.0, 1.0]]\n",
    ")\n",
    "b_ub = np.array([12.0, 6.0])"
   ]
  },
  {
   "cell_type": "code",
   "execution_count": 4,
   "metadata": {},
   "outputs": [
    {
     "name": "stdout",
     "output_type": "stream",
     "text": [
      "        message: Optimal integer solution found\n",
      "        success: True\n",
      "         status: 0\n",
      "            fun: -18.0\n",
      "              x: [ 2.000e+00  2.000e+00]\n",
      "            nit: 0\n",
      "          lower:  residual: [ 0.000e+00  2.000e+00]\n",
      "                 marginals: [ 3.000e+00  0.000e+00]\n",
      "          upper:  residual: [       inf        inf]\n",
      "                 marginals: [ 0.000e+00  0.000e+00]\n",
      "          eqlin:  residual: []\n",
      "                 marginals: []\n",
      "        ineqlin:  residual: [ 2.000e+00  0.000e+00]\n",
      "                 marginals: [-0.000e+00 -4.000e+00]\n",
      " mip_node_count: 0\n",
      " mip_dual_bound: 0.0\n",
      "        mip_gap: 0\n",
      "       explored: 4\n",
      "       fathomed: 0\n",
      "     best_bound: -18.0\n"
     ]
    }
   ],
   "source": [
    "bb = BranchAndBound(branching_rule=\"frac\", node_rule=\"bfs\")\n",
    "sol = bb(c, A_ub=A_ub, b_ub=b_ub, lb=0, ub=np.inf, integrality=None, verbose=False, mip_gap=1e-6, max_iter=1000)\n",
    "print(sol)"
   ]
  },
  {
   "cell_type": "code",
   "execution_count": 5,
   "metadata": {},
   "outputs": [
    {
     "name": "stdout",
     "output_type": "stream",
     "text": [
      "        message: Optimization terminated successfully. (HiGHS Status 7: Optimal)\n",
      "        success: True\n",
      "         status: 0\n",
      "            fun: -18.0\n",
      "              x: [ 2.000e+00  2.000e+00]\n",
      "            nit: -1\n",
      "          lower:  residual: [ 2.000e+00  2.000e+00]\n",
      "                 marginals: [ 0.000e+00  0.000e+00]\n",
      "          upper:  residual: [       inf        inf]\n",
      "                 marginals: [ 0.000e+00  0.000e+00]\n",
      "          eqlin:  residual: []\n",
      "                 marginals: []\n",
      "        ineqlin:  residual: [ 2.000e+00 -8.882e-16]\n",
      "                 marginals: [ 0.000e+00  0.000e+00]\n",
      " mip_node_count: 1\n",
      " mip_dual_bound: -18.0\n",
      "        mip_gap: 0.0\n"
     ]
    }
   ],
   "source": [
    "sol_scipy = linprog(c, A_ub=A_ub, b_ub=b_ub, integrality=np.ones(2))\n",
    "print(sol_scipy)"
   ]
  },
  {
   "attachments": {},
   "cell_type": "markdown",
   "metadata": {},
   "source": [
    "## Problem 2\n",
    "\n",
    "$$\n",
    "\\begin{align}\n",
    "    \\text{max} \\quad & \\sum_{i \\in I}{c_{i} x_{i}} \\\\\n",
    "    \\text{s.t.} \\quad & \\sum_{i \\in I}{w_{i} x_{i}} \\leq k_{w} & \\forall ~i \\in I\\\\\n",
    "    & \\sum_{i \\in I}{v_{i} x_{i}} \\leq k_{v} & \\forall ~i \\in I\\\\\n",
    "    & x_{i} \\in \\left \\{ 0, 1 \\right \\} & \\forall ~i \\in I\\\\\n",
    "\\end{align}\n",
    "$$"
   ]
  },
  {
   "cell_type": "code",
   "execution_count": 6,
   "metadata": {},
   "outputs": [],
   "source": [
    "# Set random seed\n",
    "np.random.seed(42)\n",
    "N = 10\n",
    "\n",
    "# Weight associated with each item\n",
    "w = np.random.normal(loc=5.0, scale=1.0, size=N).clip(0.5, 10.0)\n",
    "v = np.random.normal(loc=6.0, scale=2.0, size=N).clip(0.5, 10.0)\n",
    "\n",
    "# Price associated with each item\n",
    "c = -np.random.normal(loc=10.0, scale=1.0, size=N).clip(0.5, 20.0)\n",
    "\n",
    "# knapsack capacity\n",
    "kw = 21.0\n",
    "kv = 22.0\n",
    "\n",
    "A_ub = np.atleast_2d([w, v])\n",
    "b_ub = np.array([kw, kv])"
   ]
  },
  {
   "cell_type": "code",
   "execution_count": 7,
   "metadata": {},
   "outputs": [
    {
     "name": "stdout",
     "output_type": "stream",
     "text": [
      "        message: Optimal integer solution found\n",
      "        success: True\n",
      "         status: 0\n",
      "            fun: -41.726493076490556\n",
      "              x: [ 1.000e+00  1.000e+00  0.000e+00  0.000e+00  0.000e+00\n",
      "                   1.000e+00  0.000e+00  1.000e+00  0.000e+00  0.000e+00]\n",
      "            nit: 0\n",
      "          lower:  residual: [ 1.000e+00  0.000e+00  0.000e+00  0.000e+00\n",
      "                              0.000e+00  1.000e+00  0.000e+00  0.000e+00\n",
      "                              0.000e+00  0.000e+00]\n",
      "                 marginals: [ 0.000e+00  0.000e+00  0.000e+00  0.000e+00\n",
      "                              0.000e+00  0.000e+00  0.000e+00  0.000e+00\n",
      "                              0.000e+00  0.000e+00]\n",
      "          upper:  residual: [ 0.000e+00  0.000e+00  0.000e+00  0.000e+00\n",
      "                              0.000e+00  0.000e+00  0.000e+00  0.000e+00\n",
      "                              0.000e+00  0.000e+00]\n",
      "                 marginals: [-1.147e+01 -9.774e+00 -1.007e+01 -8.575e+00\n",
      "                             -9.456e+00 -1.011e+01 -8.849e+00 -1.038e+01\n",
      "                             -9.399e+00 -9.708e+00]\n",
      "          eqlin:  residual: []\n",
      "                 marginals: []\n",
      "        ineqlin:  residual: [ 1.083e-01  3.544e-01]\n",
      "                 marginals: [-0.000e+00 -0.000e+00]\n",
      " mip_node_count: 0\n",
      " mip_dual_bound: 0.0\n",
      "        mip_gap: 0\n",
      "       explored: 170\n",
      "       fathomed: 0\n",
      "     best_bound: -41.726493076490556\n"
     ]
    }
   ],
   "source": [
    "bb = BranchAndBound(branching_rule=\"frac\", node_rule=\"bfs\")\n",
    "sol = bb(c, A_ub=A_ub, b_ub=b_ub, lb=0, ub=1, integrality=None, verbose=False, mip_gap=1e-4, max_iter=1000)\n",
    "print(sol)"
   ]
  },
  {
   "cell_type": "code",
   "execution_count": 8,
   "metadata": {},
   "outputs": [
    {
     "name": "stdout",
     "output_type": "stream",
     "text": [
      "        message: Optimization terminated successfully. (HiGHS Status 7: Optimal)\n",
      "        success: True\n",
      "         status: 0\n",
      "            fun: -41.726493076490556\n",
      "              x: [ 1.000e+00  1.000e+00  0.000e+00  0.000e+00  0.000e+00\n",
      "                   1.000e+00  0.000e+00  1.000e+00  0.000e+00  0.000e+00]\n",
      "            nit: -1\n",
      "          lower:  residual: [ 1.000e+00  1.000e+00  0.000e+00  0.000e+00\n",
      "                              0.000e+00  1.000e+00  0.000e+00  1.000e+00\n",
      "                              0.000e+00  0.000e+00]\n",
      "                 marginals: [ 0.000e+00  0.000e+00  0.000e+00  0.000e+00\n",
      "                              0.000e+00  0.000e+00  0.000e+00  0.000e+00\n",
      "                              0.000e+00  0.000e+00]\n",
      "          upper:  residual: [ 0.000e+00  0.000e+00  1.000e+00  1.000e+00\n",
      "                              1.000e+00  0.000e+00  1.000e+00  0.000e+00\n",
      "                              1.000e+00  1.000e+00]\n",
      "                 marginals: [ 0.000e+00  0.000e+00  0.000e+00  0.000e+00\n",
      "                              0.000e+00  0.000e+00  0.000e+00  0.000e+00\n",
      "                              0.000e+00  0.000e+00]\n",
      "          eqlin:  residual: []\n",
      "                 marginals: []\n",
      "        ineqlin:  residual: [ 1.083e-01  3.544e-01]\n",
      "                 marginals: [ 0.000e+00  0.000e+00]\n",
      " mip_node_count: 1\n",
      " mip_dual_bound: -41.726493076490556\n",
      "        mip_gap: 0.0\n"
     ]
    }
   ],
   "source": [
    "sol_scipy = linprog(c, A_ub=A_ub, b_ub=b_ub, bounds=(0, 1), integrality=np.ones(N))\n",
    "print(sol_scipy)"
   ]
  },
  {
   "cell_type": "code",
   "execution_count": null,
   "metadata": {},
   "outputs": [],
   "source": []
  }
 ],
 "metadata": {
  "kernelspec": {
   "display_name": "venv",
   "language": "python",
   "name": "python3"
  },
  "language_info": {
   "codemirror_mode": {
    "name": "ipython",
    "version": 3
   },
   "file_extension": ".py",
   "mimetype": "text/x-python",
   "name": "python",
   "nbconvert_exporter": "python",
   "pygments_lexer": "ipython3",
   "version": "3.9.7"
  },
  "orig_nbformat": 4,
  "vscode": {
   "interpreter": {
    "hash": "de1a91be499ddcec5aac67271792eccb3b18f305fe77ec0c9c29c96c386e4626"
   }
  }
 },
 "nbformat": 4,
 "nbformat_minor": 2
}
