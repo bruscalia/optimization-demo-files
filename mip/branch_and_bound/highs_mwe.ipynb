{
 "cells": [
  {
   "cell_type": "markdown",
   "metadata": {},
   "source": [
    "# HiGHS minimal working example"
   ]
  },
  {
   "cell_type": "markdown",
   "metadata": {},
   "source": [
    "$$\n",
    "\\begin{align}\n",
    "    \\text{max}~ \\quad & 5 x_{1} + 4 x_{2} \\\\\n",
    "    \\text{s.t.}~ \\quad & 2 x_{1} + 3 x_{2} \\leq 12 \\\\\n",
    "    & 2 x_{1} + x_{2} \\leq 6 \\\\\n",
    "    & x_{i} \\geq 0 & \\forall \\; i \\in \\{  1, 2 \\} \\\\\n",
    "    & x_{i} \\in \\mathbb{Z} & \\forall \\; i \\in \\{  1, 2 \\}\n",
    "\\end{align}\n",
    "$$"
   ]
  },
  {
   "cell_type": "code",
   "execution_count": 1,
   "metadata": {},
   "outputs": [],
   "source": [
    "import pyomo.environ as pyo\n",
    "from pyomo.contrib.appsi.solvers.highs import Highs"
   ]
  },
  {
   "cell_type": "code",
   "execution_count": 2,
   "metadata": {},
   "outputs": [],
   "source": [
    "model = pyo.ConcreteModel()\n",
    "\n",
    "model.x = pyo.Var([1, 2], within=pyo.NonNegativeIntegers)\n",
    "\n",
    "model.c1 = pyo.Constraint(expr=2 * model.x[1] + 3 * model.x[2] <= 12)\n",
    "model.c2 = pyo.Constraint(expr=2 * model.x[1] + model.x[2] <= 6)\n",
    "\n",
    "model.obj = pyo.Objective(expr=5 * model.x[1] + 4 * model.x[2], sense=pyo.maximize)"
   ]
  },
  {
   "cell_type": "code",
   "execution_count": 3,
   "metadata": {},
   "outputs": [
    {
     "name": "stdout",
     "output_type": "stream",
     "text": [
      "termination_condition: TerminationCondition.optimal\n",
      "best_feasible_objective: 18.0\n",
      "best_objective_bound: 18.0\n"
     ]
    }
   ],
   "source": [
    "solver = Highs()\n",
    "solver.highs_options = {\"time_limit\": 10}  # log_file = \"Highs.log\" can be helpful\n",
    "res = solver.solve(model)\n",
    "print(res)"
   ]
  },
  {
   "cell_type": "code",
   "execution_count": 4,
   "metadata": {},
   "outputs": [
    {
     "name": "stdout",
     "output_type": "stream",
     "text": [
      "x : Size=2, Index=x_index\n",
      "    Key : Lower : Value              : Upper : Fixed : Stale : Domain\n",
      "      1 :     0 : 2.0000000000000004 :  None : False : False : NonNegativeIntegers\n",
      "      2 :     0 :                2.0 :  None : False : False : NonNegativeIntegers\n"
     ]
    }
   ],
   "source": [
    "model.x.display()"
   ]
  },
  {
   "cell_type": "code",
   "execution_count": null,
   "metadata": {},
   "outputs": [],
   "source": []
  }
 ],
 "metadata": {
  "kernelspec": {
   "display_name": "venv",
   "language": "python",
   "name": "python3"
  },
  "language_info": {
   "codemirror_mode": {
    "name": "ipython",
    "version": 3
   },
   "file_extension": ".py",
   "mimetype": "text/x-python",
   "name": "python",
   "nbconvert_exporter": "python",
   "pygments_lexer": "ipython3",
   "version": "3.9.7"
  },
  "orig_nbformat": 4
 },
 "nbformat": 4,
 "nbformat_minor": 2
}
