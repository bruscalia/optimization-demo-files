{
 "cells": [
  {
   "cell_type": "code",
   "execution_count": 1,
   "metadata": {},
   "outputs": [],
   "source": [
    "import numpy as np\n",
    "import pandas as pd\n",
    "from scipy.optimize import linprog"
   ]
  },
  {
   "cell_type": "code",
   "execution_count": 2,
   "metadata": {},
   "outputs": [],
   "source": [
    "from bnp.branch import BranchAndPrice\n",
    "from bnp.nodes import Node"
   ]
  },
  {
   "cell_type": "code",
   "execution_count": 3,
   "metadata": {},
   "outputs": [
    {
     "name": "stdout",
     "output_type": "stream",
     "text": [
      "      w   d\n",
      "0  75.0  38\n",
      "1  71.3  44\n",
      "2  67.0  30\n",
      "3  61.4  41\n",
      "4  58.0  36\n"
     ]
    }
   ],
   "source": [
    "dataset = pd.read_csv(\"data.txt\", sep=\" \")\n",
    "print(dataset.head())"
   ]
  },
  {
   "cell_type": "code",
   "execution_count": 4,
   "metadata": {},
   "outputs": [],
   "source": [
    "def solve_knapsack(W, w, duals):\n",
    "    return linprog(-duals, A_ub=np.atleast_2d(w), b_ub=np.atleast_1d(W),\n",
    "                   bounds=(0, np.inf), integrality=1)"
   ]
  },
  {
   "cell_type": "code",
   "execution_count": 5,
   "metadata": {},
   "outputs": [],
   "source": [
    "W = 100.0\n",
    "\n",
    "w = dataset.w.values\n",
    "b = dataset.d.values\n",
    "A = np.eye(dataset.shape[0]) * (W // w)\n",
    "# c = W % w\n",
    "c = np.ones_like(w)\n",
    "\n",
    "def pricing_rule(node: Node):\n",
    "    duals = -node.sol.ineqlin.marginals\n",
    "    price_sol = solve_knapsack(W, w, duals)\n",
    "    if price_sol.fun < -1 -1e-6:\n",
    "        node.A_ub = np.hstack((node.A_ub, -price_sol.x.reshape((-1, 1))))\n",
    "        node.c = np.append(node.c, 1)\n",
    "        node.lb = np.append(node.lb, 0)\n",
    "        node.ub = np.append(node.ub, np.inf)\n",
    "        node.integrality = np.append(node.integrality, True)\n",
    "        print(f\"pricing: {price_sol.fun}\")\n",
    "        return True\n",
    "    else:\n",
    "        print(f\"No new columns\")\n",
    "        return False\n",
    "        \n",
    "\n",
    "# sol_dual = linprog(-b, A_ub=A.T, b_ub=c, bounds=(0, None))"
   ]
  },
  {
   "cell_type": "code",
   "execution_count": 6,
   "metadata": {},
   "outputs": [],
   "source": [
    "milp = BranchAndPrice(branching_rule=\"frac\")"
   ]
  },
  {
   "cell_type": "code",
   "execution_count": 7,
   "metadata": {},
   "outputs": [
    {
     "name": "stdout",
     "output_type": "stream",
     "text": [
      "pricing: -1.5909090909090908\n",
      "pricing: -1.5353535353535357\n",
      "pricing: -1.5333333333333332\n",
      "pricing: -1.5\n",
      "pricing: -1.5151515151515151\n",
      "pricing: -1.5\n",
      "pricing: -1.511111111111111\n",
      "pricing: -1.5\n",
      "pricing: -1.4\n",
      "pricing: -1.4126984126984126\n",
      "pricing: -1.4333333333333333\n",
      "pricing: -1.3333333333333333\n",
      "No new columns\n",
      "First solution is feasible but not integer\n",
      "Feasible below incumbent 1: 334.1666666666667\n",
      "Feasible below incumbent 2: 334.1666666666667\n",
      "Feasible below incumbent 3: 334.1666666666667\n",
      "Feasible below incumbent 4: 334.1666666666667\n",
      "Feasible below incumbent 5: 334.33333333333326\n",
      "Feasible below incumbent 6: 334.3333333333333\n",
      "pricing: -1.4444444444444444\n",
      "No new columns\n",
      "Feasible below incumbent 7: 335.0\n",
      "Feasible below incumbent 8: 335.1666666666667\n",
      "Feasible below incumbent 9: 335.22222222222223\n",
      "pricing: -1.3333333333333333\n",
      "No new columns\n",
      "Feasible below incumbent 10: 336.0\n",
      "No new columns\n",
      "New best sol 11: 336.0\n",
      "Fathom node 11 due to poor parent node relaxation\n",
      "Feasible below incumbent 12: 335.5\n",
      "pricing: -1.3333333333333333\n",
      "No new columns\n",
      "No new columns\n",
      "Integer but not the best 13: 336.0\n",
      "Feasible below incumbent 14: 335.66666666666663\n",
      "No new columns\n",
      "Integer but not the best 15: 336.0\n",
      "pricing: -9.0\n",
      "pricing: -1.5555555555555556\n",
      "No new columns\n",
      "Feasible below incumbent 16: 335.0\n",
      "Feasible below incumbent 17: 335.26666666666665\n",
      "pricing: -1.3636363636363638\n",
      "No new columns\n",
      "Feasible above incumbent -> Fathom 18: 336.0\n",
      "Feasible below incumbent 19: 335.3333333333333\n",
      "No new columns\n",
      "Integer but not the best 20: 336.0\n",
      "Feasible below incumbent 21: 335.3636363636364\n",
      "Feasible above incumbent -> Fathom 22: 336.0\n",
      "Feasible below incumbent 23: 335.44444444444446\n",
      "Feasible above incumbent -> Fathom 24: 336.0\n",
      "Feasible below incumbent 25: 335.79999999999995\n",
      "Feasible above incumbent -> Fathom 26: 336.0\n",
      "Feasible above incumbent -> Fathom 27: 336.33333333333326\n",
      "Feasible below incumbent 28: 335.0\n",
      "No new columns\n",
      "New best sol 29: 335.0\n",
      "Fathom node 29 due to poor parent node relaxation\n",
      "Fathom node 29 due to poor parent node relaxation\n",
      "Fathom node 29 due to poor parent node relaxation\n",
      "Feasible below incumbent 30: 334.33333333333326\n",
      "No new columns\n",
      "New best sol 31: 334.99999999999994\n",
      "pricing: -3.0\n",
      "pricing: -1.6111111111111112\n",
      "pricing: -1.3333333333333333\n",
      "No new columns\n",
      "Feasible below incumbent 32: 334.0\n",
      "Feasible below incumbent 33: 334.00000000000006\n",
      "No new columns\n",
      "New best sol 34: 334.0\n"
     ]
    }
   ],
   "source": [
    "sol = milp(c, pricing_rule=pricing_rule, A_ub=-A, b_ub=-b, lb=0, ub=np.inf, max_iter=100, verbose=True, int_tol=1e-2)"
   ]
  },
  {
   "cell_type": "code",
   "execution_count": 13,
   "metadata": {},
   "outputs": [
    {
     "data": {
      "text/plain": [
       "        message: MIP gap tolance reached 0.0000\n",
       "        success: True\n",
       "         status: 0\n",
       "            fun: 334.0\n",
       "              x: [ 3.800e+01  4.400e+01 ...  2.000e+00  6.000e+00]\n",
       "            nit: 14\n",
       "          lower:  residual: [ 3.800e+01  4.400e+01 ...  2.000e+00\n",
       "                              6.000e+00]\n",
       "                 marginals: [ 0.000e+00  0.000e+00 ...  0.000e+00\n",
       "                              0.000e+00]\n",
       "          upper:  residual: [       inf        inf ...        inf\n",
       "                                    inf]\n",
       "                 marginals: [ 0.000e+00  0.000e+00 ...  0.000e+00\n",
       "                              0.000e+00]\n",
       "          eqlin:  residual: []\n",
       "                 marginals: []\n",
       "        ineqlin:  residual: [ 0.000e+00  0.000e+00 ...  2.700e+01\n",
       "                              0.000e+00]\n",
       "                 marginals: [-1.000e+00 -1.000e+00 ... -0.000e+00\n",
       "                             -0.000e+00]\n",
       " mip_node_count: 0\n",
       " mip_dual_bound: 0.0\n",
       "        mip_gap: 0.0\n",
       "       explored: 34\n",
       "       fathomed: 4\n",
       "     best_bound: 334.0\n",
       "           node: <bnp.nodes.Node object at 0x000001F768882520>"
      ]
     },
     "execution_count": 13,
     "metadata": {},
     "output_type": "execute_result"
    }
   ],
   "source": [
    "sol"
   ]
  },
  {
   "cell_type": "code",
   "execution_count": 11,
   "metadata": {},
   "outputs": [
    {
     "data": {
      "text/plain": [
       "2162122738832"
      ]
     },
     "execution_count": 11,
     "metadata": {},
     "output_type": "execute_result"
    }
   ],
   "source": [
    "id(sol.node.parent.A_ub)"
   ]
  },
  {
   "cell_type": "code",
   "execution_count": 12,
   "metadata": {},
   "outputs": [
    {
     "data": {
      "text/plain": [
       "2162122738832"
      ]
     },
     "execution_count": 12,
     "metadata": {},
     "output_type": "execute_result"
    }
   ],
   "source": [
    "id(sol.node.A_ub)"
   ]
  },
  {
   "cell_type": "code",
   "execution_count": 8,
   "metadata": {},
   "outputs": [
    {
     "data": {
      "text/plain": [
       "(19, 34)"
      ]
     },
     "execution_count": 8,
     "metadata": {},
     "output_type": "execute_result"
    }
   ],
   "source": [
    "sol.node.A_ub.shape"
   ]
  },
  {
   "cell_type": "code",
   "execution_count": 9,
   "metadata": {},
   "outputs": [
    {
     "data": {
      "text/plain": [
       "array([38.        , 44.        , 30.        , 41.        , 10.14102564,\n",
       "        0.        ,  0.        ,  0.        ,  0.        ,  0.        ,\n",
       "        0.        ,  0.        ,  0.        ,  0.        ,  0.        ,\n",
       "        0.        ,  0.        ,  0.        ,  0.        ,  3.97435897,\n",
       "       21.        ,  1.70512821,  5.32051282,  8.97435897, 29.32051282,\n",
       "       14.52564103, 33.        , 14.67948718, 12.5       ,  1.35897436,\n",
       "       24.5       ])"
      ]
     },
     "execution_count": 9,
     "metadata": {},
     "output_type": "execute_result"
    }
   ],
   "source": [
    "sol.node.parent.sol.x"
   ]
  },
  {
   "cell_type": "code",
   "execution_count": 10,
   "metadata": {},
   "outputs": [
    {
     "data": {
      "text/plain": [
       "array([38.        , 44.        , 30.        , 41.        , 10.14102564,\n",
       "        0.        ,  0.        ,  0.        ,  0.        ,  0.        ,\n",
       "        0.        ,  0.        ,  0.        ,  0.        ,  0.        ,\n",
       "        0.        ,  0.        ,  0.        ,  0.        ,  3.97435897,\n",
       "       21.        ,  1.70512821,  5.32051282,  8.97435897, 29.32051282,\n",
       "       14.52564103, 33.        , 14.67948718, 12.5       ,  1.35897436,\n",
       "       24.5       ])"
      ]
     },
     "execution_count": 10,
     "metadata": {},
     "output_type": "execute_result"
    }
   ],
   "source": [
    "sol.node.sol.x"
   ]
  },
  {
   "cell_type": "code",
   "execution_count": 11,
   "metadata": {},
   "outputs": [
    {
     "data": {
      "text/plain": [
       "array([1, 1, 1, 1, 1, 1, 1, 1, 1, 1, 1, 1, 1, 1, 1, 1, 1, 1, 1, 1, 1, 1,\n",
       "       1, 1, 1, 1, 1, 1, 1, 1, 1])"
      ]
     },
     "execution_count": 11,
     "metadata": {},
     "output_type": "execute_result"
    }
   ],
   "source": [
    "sol.node.integrality"
   ]
  },
  {
   "cell_type": "code",
   "execution_count": 12,
   "metadata": {},
   "outputs": [
    {
     "data": {
      "text/plain": [
       "0"
      ]
     },
     "execution_count": 12,
     "metadata": {},
     "output_type": "execute_result"
    }
   ],
   "source": [
    "res = sol.node._get_residuals()\n",
    "sol.node._minimum_violation(res)"
   ]
  },
  {
   "cell_type": "code",
   "execution_count": 13,
   "metadata": {},
   "outputs": [],
   "source": [
    "mask = (res > sol.node.int_tol) & sol.node.integrality.astype(bool)"
   ]
  },
  {
   "cell_type": "code",
   "execution_count": 14,
   "metadata": {},
   "outputs": [
    {
     "data": {
      "text/plain": [
       "array([False, False, False, False,  True, False, False, False, False,\n",
       "       False, False, False, False, False, False, False, False, False,\n",
       "       False,  True, False,  True,  True,  True,  True,  True, False,\n",
       "        True,  True,  True,  True])"
      ]
     },
     "execution_count": 14,
     "metadata": {},
     "output_type": "execute_result"
    }
   ],
   "source": [
    "mask"
   ]
  },
  {
   "cell_type": "code",
   "execution_count": 15,
   "metadata": {},
   "outputs": [
    {
     "data": {
      "text/plain": [
       "array([38.,  0.,  0.,  0.,  0.,  0.,  0.,  0.,  0.,  0.,  0.,  0.,  0.,\n",
       "        0.,  0.,  0.,  0.,  0.,  0.,  0.,  0.,  0.,  0.,  0.,  0.,  0.,\n",
       "        0.,  0.,  0.,  0.,  0.])"
      ]
     },
     "execution_count": 15,
     "metadata": {},
     "output_type": "execute_result"
    }
   ],
   "source": [
    "sol.node.children[0].lb"
   ]
  },
  {
   "cell_type": "code",
   "execution_count": 16,
   "metadata": {},
   "outputs": [
    {
     "data": {
      "text/plain": [
       "array([38.,  0.,  0.,  0.,  0.,  0.,  0.,  0.,  0.,  0.,  0.,  0.,  0.,\n",
       "        0.,  0.,  0.,  0.,  0.,  0.,  0.,  0.,  0.,  0.,  0.,  0.,  0.,\n",
       "        0.,  0.,  0.,  0.,  0.])"
      ]
     },
     "execution_count": 16,
     "metadata": {},
     "output_type": "execute_result"
    }
   ],
   "source": [
    "sol.node.lb"
   ]
  },
  {
   "cell_type": "code",
   "execution_count": 100,
   "metadata": {},
   "outputs": [
    {
     "name": "stdout",
     "output_type": "stream",
     "text": [
      "Iteration 0: price-60.090909090909086; c: 1.0\n",
      "New column [0. 0. 0. 0. 0. 0. 0. 0. 1. 0. 0. 0. 2. 0. 0. 0. 1. 0. 0.]\n",
      "Iteration 1: price-55.5; c: 5.5\n",
      "New column [0. 0. 0. 0. 0. 0. 0. 1. 0. 0. 0. 0. 0. 0. 3. 0. 0. 0. 0.]\n",
      "Iteration 2: price-51.515151515151516; c: 0.0\n",
      "New column [0. 0. 0. 0. 0. 0. 1. 0. 0. 0. 0. 1. 0. 0. 0. 0. 2. 0. 0.]\n",
      "Iteration 3: price-48.93333333333334; c: 0.6000000000000085\n",
      "New column [0. 0. 0. 0. 0. 1. 0. 0. 0. 0. 1. 0. 0. 0. 0. 0. 0. 1. 1.]\n",
      "Iteration 4: price-43.199999999999996; c: 3.200000000000003\n",
      "New column [ 0.  0.  0.  0.  1.  0.  0.  0.  0.  1.  0.  0.  0. -0.  0.  0.  0.  0.\n",
      "  1.]\n",
      "Iteration 5: price-39.733333333333334; c: 6.400000000000006\n",
      "New column [0. 0. 0. 1. 0. 0. 0. 0. 0. 1. 0. 0. 0. 0. 0. 0. 0. 0. 0.]\n",
      "Iteration 6: price-33.93333333333334; c: 0.5999999999999943\n",
      "New column [0. 0. 1. 0. 0. 0. 0. 0. 0. 0. 0. 0. 0. 2. 0. 0. 0. 0. 0.]\n",
      "Iteration 7: price-28.922222222222224; c: 6.700000000000003\n",
      "New column [0. 1. 0. 0. 0. 0. 0. 0. 0. 0. 0. 0. 0. 0. 0. 2. 0. 0. 0.]\n",
      "Iteration 8: price-25.0; c: 25.0\n",
      "358.0\n"
     ]
    }
   ],
   "source": [
    "W = 100.0\n",
    "\n",
    "w = dataset.w.values\n",
    "b = dataset.d.values\n",
    "A = np.eye(dataset.shape[0]) * (W // w)\n",
    "c = W % w\n",
    "# c = np.ones_like(w)\n",
    "\n",
    "sol_dual = linprog(-b, A_ub=A.T, b_ub=c, bounds=(0, None))\n",
    "\n",
    "for _ in range(20):\n",
    "    price_sol = solve_knapsack(W, w, sol_dual.x)\n",
    "    new_col = price_sol.x\n",
    "    new_c = W - new_col.dot(w)\n",
    "    # new_c = 1\n",
    "    if price_sol.fun < -new_c:\n",
    "        print(f\"Iteration {_}: price{price_sol.fun}; c: {new_c}\")\n",
    "        print(f\"New column {new_col}\")\n",
    "        A = np.hstack((A, new_col.reshape((-1, 1))))\n",
    "        c = np.append(c, new_c)\n",
    "        sol_dual = linprog(-b, A_ub=A.T, b_ub=c, bounds=(0, None))\n",
    "    else:\n",
    "        sol = linprog(c, A_ub=-A, b_ub=-b, bounds=(0, np.inf), integrality=1)\n",
    "        print(f\"Iteration {_}: price{price_sol.fun}; c: {new_c}\")\n",
    "        break\n",
    "\n",
    "sol = linprog(c, A_ub=-A, b_ub=-b, bounds=(0, np.inf), integrality=1)\n",
    "print(sol.x.sum())"
   ]
  },
  {
   "cell_type": "code",
   "execution_count": 96,
   "metadata": {},
   "outputs": [
    {
     "data": {
      "text/plain": [
       "array([25. ,  6.7,  0.6,  6.4,  3.2,  0. ,  0. ,  5.5,  1. ,  0. ,  0.6,\n",
       "       -0. ,  0. ,  0. ,  0. ,  0. ,  0. ,  0. ,  0. ])"
      ]
     },
     "execution_count": 96,
     "metadata": {},
     "output_type": "execute_result"
    }
   ],
   "source": [
    "sol_dual.x"
   ]
  },
  {
   "cell_type": "code",
   "execution_count": 95,
   "metadata": {},
   "outputs": [
    {
     "data": {
      "text/plain": [
       "array([1., 0., 0., 0., 0., 0., 0., 0., 0., 0., 0., 0., 0., 0., 0., 0., 0.,\n",
       "       0., 0.])"
      ]
     },
     "execution_count": 95,
     "metadata": {},
     "output_type": "execute_result"
    }
   ],
   "source": [
    "new_col"
   ]
  },
  {
   "cell_type": "code",
   "execution_count": 94,
   "metadata": {},
   "outputs": [
    {
     "data": {
      "text/plain": [
       "75.0"
      ]
     },
     "execution_count": 94,
     "metadata": {},
     "output_type": "execute_result"
    }
   ],
   "source": [
    "new_col.dot(w)"
   ]
  },
  {
   "cell_type": "code",
   "execution_count": 88,
   "metadata": {},
   "outputs": [
    {
     "name": "stdout",
     "output_type": "stream",
     "text": [
      "[ 0.    0.    0.    0.    0.    0.    0.    0.    0.    0.    0.    0.\n",
      "  0.    0.    0.    0.    0.    0.    0.    0.   41.   36.   36.   36.\n",
      " 41.   30.   44.   35.    0.   38.    0.    9.25  0.    0.    0.    0.\n",
      "  0.    0.    0.  ]\n"
     ]
    }
   ],
   "source": [
    "A = np.vstack((A, np.zeros(A.shape[1])))\n",
    "b = np.append(b, -9)\n",
    "A[-1, 12] = -1\n",
    "sol = linprog(c, A_ub=-A, b_ub=-b, bounds=(0, np.inf), integrality=0)\n",
    "print(sol.x)"
   ]
  },
  {
   "cell_type": "code",
   "execution_count": 84,
   "metadata": {},
   "outputs": [
    {
     "data": {
      "text/plain": [
       "array([-4.9, -0. , -6.4, -3. , -0.2, -0. , -5.5, -1. , -2.3, -0. , -0. ,\n",
       "       -0. , -4.9, -0. , -0. , -0. , -0. , -0. , -0. ])"
      ]
     },
     "execution_count": 84,
     "metadata": {},
     "output_type": "execute_result"
    }
   ],
   "source": [
    "sol.ineqlin.marginals[:-1]"
   ]
  },
  {
   "cell_type": "code",
   "execution_count": 85,
   "metadata": {},
   "outputs": [],
   "source": [
    "price_sol = solve_knapsack(W, w, -sol.ineqlin.marginals[:-1])\n",
    "new_c = W % new_col.dot(w)"
   ]
  },
  {
   "cell_type": "code",
   "execution_count": 86,
   "metadata": {},
   "outputs": [
    {
     "data": {
      "text/plain": [
       "-19.599999999999994"
      ]
     },
     "execution_count": 86,
     "metadata": {},
     "output_type": "execute_result"
    }
   ],
   "source": [
    "price_sol.fun"
   ]
  },
  {
   "cell_type": "code",
   "execution_count": 87,
   "metadata": {},
   "outputs": [
    {
     "data": {
      "text/plain": [
       "19.599999999999994"
      ]
     },
     "execution_count": 87,
     "metadata": {},
     "output_type": "execute_result"
    }
   ],
   "source": [
    "new_c"
   ]
  },
  {
   "cell_type": "code",
   "execution_count": 74,
   "metadata": {},
   "outputs": [
    {
     "name": "stdout",
     "output_type": "stream",
     "text": [
      "Iteration 0: price-1.5909090909090908; c: 1\n",
      "Iteration 1: price-1.5353535353535357; c: 1\n",
      "Iteration 2: price-1.5333333333333332; c: 1\n",
      "Iteration 3: price-1.5; c: 1\n",
      "Iteration 4: price-1.5151515151515151; c: 1\n",
      "Iteration 5: price-1.5; c: 1\n",
      "Iteration 6: price-1.511111111111111; c: 1\n",
      "Iteration 7: price-1.4999999999999998; c: 1\n",
      "Iteration 8: price-1.4; c: 1\n",
      "Iteration 9: price-1.4126984126984126; c: 1\n",
      "Iteration 10: price-1.4333333333333331; c: 1\n",
      "Iteration 11: price-1.3333333333333333; c: 1\n",
      "        message: Optimization terminated successfully. (HiGHS Status 7: Optimal)\n",
      "        success: True\n",
      "         status: 0\n",
      "            fun: 334.0\n",
      "              x: [ 3.800e+01  4.400e+01 ...  1.000e+00  3.500e+01]\n",
      "            nit: -1\n",
      "          lower:  residual: [ 3.800e+01  4.400e+01 ...  1.000e+00\n",
      "                              3.500e+01]\n",
      "                 marginals: [ 0.000e+00  0.000e+00 ...  0.000e+00\n",
      "                              0.000e+00]\n",
      "          upper:  residual: [       inf        inf ...        inf\n",
      "                                    inf]\n",
      "                 marginals: [ 0.000e+00  0.000e+00 ...  0.000e+00\n",
      "                              0.000e+00]\n",
      "          eqlin:  residual: []\n",
      "                 marginals: []\n",
      "        ineqlin:  residual: [ 0.000e+00  0.000e+00 ...  3.100e+01\n",
      "                              3.000e+00]\n",
      "                 marginals: [ 0.000e+00  0.000e+00 ...  0.000e+00\n",
      "                              0.000e+00]\n",
      " mip_node_count: 1\n",
      " mip_dual_bound: 334.0\n",
      "        mip_gap: 0.0\n"
     ]
    }
   ],
   "source": [
    "W = 100.0\n",
    "\n",
    "w = dataset.w.values\n",
    "b = dataset.d.values\n",
    "A = np.eye(dataset.shape[0]) * (W // w)\n",
    "# c = W % w\n",
    "c = np.ones_like(w)\n",
    "\n",
    "sol_dual = linprog(-b, A_ub=A.T, b_ub=c, bounds=(0, None))\n",
    "\n",
    "for _ in range(20):\n",
    "    price_sol = solve_knapsack(W, w, sol_dual.x)\n",
    "    # new_c = W % new_col.dot(w)\n",
    "    new_c = 1\n",
    "    if price_sol.fun < -new_c:\n",
    "        print(f\"Iteration {_}: price{price_sol.fun}; c: {new_c}\")\n",
    "        new_col = price_sol.x\n",
    "        A = np.hstack((A, new_col.reshape((-1, 1))))\n",
    "        c = np.append(c, new_c)\n",
    "        sol_dual = linprog(-b, A_ub=A.T, b_ub=c, bounds=(0, None))\n",
    "    else:\n",
    "        sol = linprog(c, A_ub=-A, b_ub=-b, bounds=(0, np.inf), integrality=1)\n",
    "        break\n",
    "\n",
    "print(sol)"
   ]
  },
  {
   "cell_type": "code",
   "execution_count": 75,
   "metadata": {},
   "outputs": [
    {
     "data": {
      "text/plain": [
       "334.0"
      ]
     },
     "execution_count": 75,
     "metadata": {},
     "output_type": "execute_result"
    }
   ],
   "source": [
    "sol.x.sum()"
   ]
  },
  {
   "cell_type": "code",
   "execution_count": 65,
   "metadata": {},
   "outputs": [
    {
     "data": {
      "text/plain": [
       "25.0"
      ]
     },
     "execution_count": 65,
     "metadata": {},
     "output_type": "execute_result"
    }
   ],
   "source": [
    "new_c"
   ]
  },
  {
   "cell_type": "code",
   "execution_count": 53,
   "metadata": {},
   "outputs": [
    {
     "data": {
      "text/plain": [
       "array([0., 0., 0., 0., 0., 0., 0., 0., 1., 0., 1., 0., 0., 0., 0., 0., 0.,\n",
       "       0., 0.])"
      ]
     },
     "execution_count": 53,
     "metadata": {},
     "output_type": "execute_result"
    }
   ],
   "source": [
    "price_sol.x"
   ]
  },
  {
   "cell_type": "code",
   "execution_count": 33,
   "metadata": {},
   "outputs": [],
   "source": [
    "price_sol = solve_knapsack(W, w, sol_dual.x)\n",
    "new_col = price_sol.x\n",
    "new_c = W % new_col.dot(w)"
   ]
  },
  {
   "cell_type": "code",
   "execution_count": 45,
   "metadata": {},
   "outputs": [
    {
     "data": {
      "text/plain": [
       "array([0., 0., 0., 0., 0., 0., 0., 0., 0., 0., 0., 0., 0., 0., 0., 0., 0.,\n",
       "       0., 0.])"
      ]
     },
     "execution_count": 45,
     "metadata": {},
     "output_type": "execute_result"
    }
   ],
   "source": [
    "red_cost"
   ]
  },
  {
   "cell_type": "code",
   "execution_count": 43,
   "metadata": {},
   "outputs": [
    {
     "data": {
      "text/plain": [
       "0.0"
      ]
     },
     "execution_count": 43,
     "metadata": {},
     "output_type": "execute_result"
    }
   ],
   "source": [
    "red_cost.dot(price_sol.x).dot(price_sol.x)"
   ]
  },
  {
   "cell_type": "code",
   "execution_count": 44,
   "metadata": {},
   "outputs": [
    {
     "data": {
      "text/plain": [
       "0.0"
      ]
     },
     "execution_count": 44,
     "metadata": {},
     "output_type": "execute_result"
    }
   ],
   "source": [
    "red_cost.dot(sol.x)"
   ]
  },
  {
   "cell_type": "code",
   "execution_count": 41,
   "metadata": {},
   "outputs": [
    {
     "data": {
      "text/plain": [
       "94.39999999999999"
      ]
     },
     "execution_count": 41,
     "metadata": {},
     "output_type": "execute_result"
    }
   ],
   "source": [
    "price_sol.x.dot(c)"
   ]
  },
  {
   "cell_type": "code",
   "execution_count": 42,
   "metadata": {},
   "outputs": [
    {
     "data": {
      "text/plain": [
       "60.090909090909086"
      ]
     },
     "execution_count": 42,
     "metadata": {},
     "output_type": "execute_result"
    }
   ],
   "source": [
    "sol_dual.x.dot(new_col)"
   ]
  },
  {
   "cell_type": "code",
   "execution_count": 36,
   "metadata": {},
   "outputs": [
    {
     "data": {
      "text/plain": [
       "(19,)"
      ]
     },
     "execution_count": 36,
     "metadata": {},
     "output_type": "execute_result"
    }
   ],
   "source": [
    "new_col.shape"
   ]
  },
  {
   "cell_type": "code",
   "execution_count": 35,
   "metadata": {},
   "outputs": [
    {
     "data": {
      "text/plain": [
       "94.39999999999999"
      ]
     },
     "execution_count": 35,
     "metadata": {},
     "output_type": "execute_result"
    }
   ],
   "source": [
    "new_col.dot(c)"
   ]
  },
  {
   "cell_type": "code",
   "execution_count": 31,
   "metadata": {},
   "outputs": [
    {
     "data": {
      "text/plain": [
       "0.0"
      ]
     },
     "execution_count": 31,
     "metadata": {},
     "output_type": "execute_result"
    }
   ],
   "source": [
    "red_cost"
   ]
  },
  {
   "cell_type": "code",
   "execution_count": 30,
   "metadata": {},
   "outputs": [
    {
     "data": {
      "text/plain": [
       "        message: Optimization terminated successfully. (HiGHS Status 7: Optimal)\n",
       "        success: True\n",
       "         status: 0\n",
       "            fun: 13948.0\n",
       "              x: [ 3.800e+01  4.400e+01 ...  3.000e+00  4.000e+00]\n",
       "            nit: -1\n",
       "          lower:  residual: [ 3.800e+01  4.400e+01 ...  3.000e+00\n",
       "                              4.000e+00]\n",
       "                 marginals: [ 0.000e+00  0.000e+00 ...  0.000e+00\n",
       "                              0.000e+00]\n",
       "          upper:  residual: [       inf        inf ...        inf\n",
       "                                    inf]\n",
       "                 marginals: [ 0.000e+00  0.000e+00 ...  0.000e+00\n",
       "                              0.000e+00]\n",
       "          eqlin:  residual: []\n",
       "                 marginals: []\n",
       "        ineqlin:  residual: [ 0.000e+00  0.000e+00 ...  1.000e+00\n",
       "                              1.100e+01]\n",
       "                 marginals: [ 0.000e+00  0.000e+00 ...  0.000e+00\n",
       "                              0.000e+00]\n",
       " mip_node_count: 0\n",
       " mip_dual_bound: 13948.0\n",
       "        mip_gap: 0.0"
      ]
     },
     "execution_count": 30,
     "metadata": {},
     "output_type": "execute_result"
    }
   ],
   "source": [
    "sol"
   ]
  },
  {
   "cell_type": "code",
   "execution_count": 28,
   "metadata": {},
   "outputs": [
    {
     "name": "stdout",
     "output_type": "stream",
     "text": [
      "0.0\n",
      "22.0\n",
      "32.400000000000006\n",
      "32.199999999999996\n",
      "38.8\n",
      "46.2\n",
      "47.0\n",
      "43.5\n",
      "48.8\n",
      "3.3999999999999915\n",
      "5.799999999999972\n",
      "10.599999999999998\n",
      "19.599999999999994\n",
      "2.8000000000000043\n",
      "13.0\n",
      "1.0\n",
      "5.400000000000004\n",
      "1.6000000000000085\n",
      "1.0000000000000053\n",
      "0.0\n",
      "0.0\n",
      "0.0\n",
      "0.0\n",
      "0.0\n",
      "0.0\n",
      "0.0\n",
      "0.0\n",
      "0.0\n",
      "0.0\n",
      "0.0\n",
      "0.0\n",
      "0.0\n",
      "0.0\n",
      "0.0\n",
      "0.0\n",
      "0.0\n",
      "0.0\n",
      "0.0\n",
      "0.0\n",
      "0.0\n",
      "0.0\n",
      "0.0\n",
      "0.0\n",
      "0.0\n",
      "0.0\n",
      "0.0\n",
      "0.0\n",
      "0.0\n",
      "0.0\n",
      "0.0\n",
      "0.0\n",
      "0.0\n",
      "0.0\n",
      "0.0\n",
      "0.0\n",
      "0.0\n",
      "0.0\n",
      "0.0\n",
      "0.0\n",
      "0.0\n",
      "0.0\n",
      "0.0\n",
      "0.0\n",
      "0.0\n",
      "0.0\n",
      "0.0\n",
      "0.0\n",
      "0.0\n",
      "0.0\n",
      "0.0\n",
      "0.0\n",
      "0.0\n",
      "0.0\n",
      "0.0\n",
      "0.0\n",
      "0.0\n",
      "0.0\n",
      "0.0\n",
      "0.0\n",
      "0.0\n",
      "0.0\n",
      "0.0\n",
      "0.0\n",
      "0.0\n",
      "0.0\n",
      "0.0\n",
      "0.0\n",
      "0.0\n",
      "0.0\n",
      "0.0\n",
      "0.0\n",
      "0.0\n",
      "0.0\n",
      "0.0\n",
      "0.0\n",
      "0.0\n",
      "0.0\n",
      "0.0\n",
      "0.0\n",
      "0.0\n",
      "0.0\n",
      "0.0\n",
      "0.0\n",
      "0.0\n",
      "0.0\n",
      "0.0\n",
      "0.0\n",
      "0.0\n",
      "0.0\n",
      "0.0\n",
      "0.0\n",
      "0.0\n",
      "0.0\n",
      "0.0\n",
      "0.0\n",
      "0.0\n",
      "0.0\n",
      "0.0\n",
      "0.0\n",
      "0.0\n",
      "0.0\n",
      "0.0\n",
      "0.0\n",
      "0.0\n",
      "0.0\n",
      "0.0\n",
      "0.0\n",
      "0.0\n",
      "0.0\n",
      "0.0\n",
      "0.0\n",
      "0.0\n",
      "0.0\n",
      "0.0\n",
      "0.0\n",
      "0.0\n",
      "0.0\n",
      "0.0\n",
      "0.0\n",
      "0.0\n",
      "0.0\n",
      "0.0\n",
      "0.0\n",
      "0.0\n",
      "0.0\n",
      "0.0\n",
      "0.0\n",
      "0.0\n",
      "0.0\n",
      "0.0\n",
      "0.0\n",
      "0.0\n",
      "0.0\n",
      "0.0\n",
      "0.0\n",
      "0.0\n",
      "0.0\n",
      "0.0\n",
      "0.0\n",
      "0.0\n",
      "0.0\n",
      "0.0\n",
      "0.0\n",
      "0.0\n",
      "0.0\n",
      "0.0\n",
      "0.0\n",
      "0.0\n",
      "0.0\n",
      "0.0\n",
      "0.0\n",
      "0.0\n",
      "0.0\n",
      "0.0\n",
      "0.0\n",
      "0.0\n",
      "0.0\n",
      "0.0\n",
      "0.0\n",
      "0.0\n",
      "0.0\n",
      "0.0\n",
      "0.0\n",
      "0.0\n",
      "0.0\n",
      "0.0\n",
      "0.0\n",
      "0.0\n",
      "0.0\n",
      "0.0\n",
      "0.0\n",
      "0.0\n",
      "0.0\n",
      "0.0\n",
      "0.0\n",
      "0.0\n",
      "0.0\n",
      "0.0\n",
      "0.0\n",
      "0.0\n",
      "0.0\n",
      "0.0\n",
      "0.0\n",
      "0.0\n",
      "0.0\n",
      "0.0\n",
      "0.0\n",
      "0.0\n",
      "0.0\n",
      "0.0\n",
      "0.0\n",
      "0.0\n",
      "0.0\n",
      "0.0\n",
      "0.0\n",
      "0.0\n",
      "0.0\n",
      "0.0\n",
      "0.0\n",
      "0.0\n",
      "0.0\n",
      "0.0\n",
      "0.0\n",
      "0.0\n",
      "0.0\n",
      "0.0\n",
      "0.0\n",
      "0.0\n",
      "0.0\n",
      "0.0\n",
      "0.0\n",
      "0.0\n",
      "0.0\n",
      "0.0\n",
      "0.0\n",
      "0.0\n",
      "0.0\n",
      "0.0\n",
      "0.0\n",
      "0.0\n",
      "0.0\n",
      "0.0\n",
      "0.0\n",
      "0.0\n",
      "0.0\n",
      "0.0\n",
      "0.0\n",
      "0.0\n",
      "0.0\n",
      "0.0\n",
      "0.0\n",
      "0.0\n",
      "0.0\n",
      "0.0\n",
      "0.0\n",
      "0.0\n",
      "0.0\n",
      "0.0\n",
      "0.0\n",
      "0.0\n",
      "0.0\n",
      "0.0\n",
      "0.0\n",
      "0.0\n",
      "0.0\n",
      "0.0\n",
      "0.0\n",
      "0.0\n",
      "0.0\n",
      "0.0\n",
      "0.0\n",
      "0.0\n",
      "0.0\n",
      "0.0\n",
      "0.0\n",
      "0.0\n",
      "0.0\n",
      "0.0\n",
      "0.0\n",
      "0.0\n",
      "0.0\n",
      "0.0\n",
      "0.0\n",
      "0.0\n",
      "0.0\n",
      "0.0\n",
      "0.0\n",
      "0.0\n",
      "0.0\n",
      "0.0\n",
      "0.0\n",
      "0.0\n",
      "0.0\n",
      "0.0\n",
      "0.0\n",
      "0.0\n",
      "0.0\n",
      "0.0\n",
      "0.0\n",
      "0.0\n",
      "0.0\n",
      "0.0\n",
      "0.0\n",
      "0.0\n",
      "0.0\n",
      "0.0\n",
      "0.0\n",
      "0.0\n",
      "0.0\n",
      "0.0\n",
      "0.0\n",
      "0.0\n",
      "0.0\n",
      "0.0\n",
      "0.0\n",
      "0.0\n",
      "0.0\n",
      "0.0\n",
      "0.0\n",
      "0.0\n",
      "0.0\n",
      "0.0\n",
      "0.0\n",
      "0.0\n",
      "0.0\n",
      "0.0\n",
      "0.0\n",
      "0.0\n",
      "0.0\n",
      "0.0\n",
      "0.0\n",
      "0.0\n",
      "0.0\n",
      "0.0\n",
      "0.0\n",
      "0.0\n",
      "0.0\n",
      "0.0\n",
      "0.0\n",
      "0.0\n",
      "0.0\n",
      "0.0\n",
      "0.0\n",
      "0.0\n",
      "0.0\n",
      "0.0\n",
      "0.0\n",
      "0.0\n",
      "0.0\n",
      "0.0\n",
      "0.0\n",
      "0.0\n",
      "0.0\n",
      "0.0\n",
      "0.0\n",
      "0.0\n",
      "0.0\n",
      "0.0\n",
      "0.0\n",
      "0.0\n",
      "0.0\n",
      "0.0\n",
      "0.0\n",
      "0.0\n",
      "0.0\n",
      "0.0\n",
      "0.0\n",
      "0.0\n",
      "0.0\n",
      "0.0\n",
      "0.0\n",
      "0.0\n",
      "0.0\n",
      "0.0\n",
      "0.0\n",
      "0.0\n",
      "0.0\n",
      "0.0\n",
      "0.0\n",
      "0.0\n",
      "0.0\n",
      "0.0\n",
      "0.0\n",
      "0.0\n",
      "0.0\n",
      "0.0\n",
      "0.0\n",
      "0.0\n",
      "0.0\n",
      "0.0\n",
      "0.0\n",
      "0.0\n",
      "0.0\n",
      "0.0\n",
      "0.0\n",
      "0.0\n",
      "0.0\n",
      "0.0\n",
      "0.0\n",
      "0.0\n",
      "0.0\n",
      "0.0\n",
      "0.0\n",
      "0.0\n",
      "0.0\n",
      "0.0\n",
      "0.0\n",
      "0.0\n",
      "0.0\n",
      "0.0\n",
      "0.0\n",
      "0.0\n",
      "0.0\n",
      "0.0\n",
      "0.0\n",
      "0.0\n",
      "0.0\n",
      "0.0\n",
      "0.0\n",
      "0.0\n",
      "0.0\n",
      "0.0\n",
      "0.0\n",
      "0.0\n",
      "0.0\n",
      "0.0\n",
      "0.0\n",
      "0.0\n",
      "0.0\n",
      "0.0\n",
      "0.0\n",
      "0.0\n",
      "0.0\n",
      "0.0\n",
      "0.0\n",
      "0.0\n",
      "0.0\n",
      "0.0\n",
      "0.0\n",
      "0.0\n",
      "0.0\n",
      "0.0\n",
      "0.0\n",
      "0.0\n",
      "0.0\n",
      "0.0\n",
      "0.0\n",
      "0.0\n",
      "0.0\n",
      "0.0\n",
      "0.0\n",
      "0.0\n",
      "0.0\n",
      "0.0\n",
      "0.0\n",
      "0.0\n",
      "0.0\n",
      "0.0\n",
      "0.0\n",
      "0.0\n",
      "0.0\n",
      "0.0\n",
      "0.0\n",
      "0.0\n",
      "0.0\n",
      "0.0\n",
      "0.0\n",
      "0.0\n",
      "0.0\n",
      "0.0\n",
      "0.0\n",
      "0.0\n",
      "0.0\n",
      "0.0\n",
      "0.0\n",
      "0.0\n",
      "0.0\n",
      "0.0\n",
      "0.0\n",
      "0.0\n",
      "0.0\n",
      "0.0\n",
      "0.0\n",
      "0.0\n",
      "0.0\n",
      "0.0\n",
      "0.0\n",
      "0.0\n",
      "0.0\n",
      "0.0\n",
      "0.0\n",
      "0.0\n",
      "0.0\n",
      "0.0\n",
      "0.0\n",
      "0.0\n",
      "0.0\n",
      "0.0\n",
      "0.0\n",
      "0.0\n",
      "0.0\n",
      "0.0\n",
      "0.0\n",
      "0.0\n",
      "0.0\n",
      "0.0\n",
      "0.0\n",
      "0.0\n",
      "0.0\n",
      "0.0\n",
      "0.0\n",
      "0.0\n",
      "0.0\n",
      "0.0\n",
      "0.0\n",
      "0.0\n",
      "0.0\n",
      "0.0\n",
      "0.0\n",
      "0.0\n",
      "0.0\n",
      "0.0\n",
      "0.0\n",
      "0.0\n",
      "0.0\n",
      "0.0\n",
      "0.0\n",
      "0.0\n",
      "0.0\n",
      "0.0\n",
      "0.0\n",
      "0.0\n",
      "0.0\n",
      "0.0\n",
      "0.0\n",
      "0.0\n",
      "0.0\n",
      "0.0\n",
      "0.0\n",
      "0.0\n",
      "0.0\n",
      "0.0\n",
      "0.0\n",
      "0.0\n",
      "0.0\n",
      "0.0\n",
      "0.0\n",
      "0.0\n",
      "0.0\n",
      "0.0\n",
      "0.0\n",
      "0.0\n",
      "0.0\n",
      "0.0\n",
      "0.0\n",
      "0.0\n",
      "0.0\n",
      "0.0\n",
      "0.0\n",
      "0.0\n",
      "0.0\n",
      "0.0\n",
      "0.0\n",
      "0.0\n",
      "0.0\n",
      "0.0\n",
      "0.0\n",
      "0.0\n",
      "0.0\n",
      "0.0\n",
      "0.0\n",
      "0.0\n",
      "0.0\n",
      "0.0\n",
      "0.0\n",
      "0.0\n",
      "0.0\n",
      "0.0\n",
      "0.0\n",
      "0.0\n",
      "0.0\n",
      "0.0\n",
      "0.0\n",
      "0.0\n",
      "0.0\n",
      "0.0\n",
      "0.0\n",
      "0.0\n",
      "0.0\n",
      "0.0\n",
      "0.0\n",
      "0.0\n",
      "0.0\n",
      "0.0\n",
      "0.0\n",
      "0.0\n",
      "0.0\n",
      "0.0\n",
      "0.0\n",
      "0.0\n",
      "0.0\n",
      "0.0\n",
      "0.0\n",
      "0.0\n",
      "0.0\n",
      "0.0\n",
      "0.0\n",
      "0.0\n",
      "0.0\n",
      "0.0\n",
      "0.0\n",
      "0.0\n",
      "0.0\n",
      "0.0\n",
      "0.0\n",
      "0.0\n",
      "0.0\n",
      "0.0\n",
      "0.0\n",
      "0.0\n",
      "0.0\n",
      "0.0\n",
      "0.0\n",
      "0.0\n",
      "0.0\n",
      "0.0\n",
      "0.0\n",
      "0.0\n",
      "0.0\n",
      "0.0\n",
      "0.0\n",
      "0.0\n",
      "0.0\n",
      "0.0\n",
      "0.0\n",
      "0.0\n",
      "0.0\n",
      "0.0\n",
      "0.0\n",
      "0.0\n",
      "0.0\n",
      "0.0\n",
      "0.0\n",
      "0.0\n",
      "0.0\n",
      "0.0\n",
      "0.0\n",
      "0.0\n",
      "0.0\n",
      "0.0\n",
      "0.0\n",
      "0.0\n",
      "0.0\n",
      "0.0\n",
      "0.0\n",
      "0.0\n",
      "0.0\n",
      "0.0\n",
      "0.0\n",
      "0.0\n",
      "0.0\n",
      "0.0\n",
      "0.0\n",
      "0.0\n",
      "0.0\n",
      "0.0\n",
      "0.0\n",
      "0.0\n",
      "0.0\n",
      "0.0\n",
      "0.0\n",
      "0.0\n",
      "0.0\n",
      "0.0\n",
      "0.0\n",
      "0.0\n",
      "0.0\n",
      "0.0\n",
      "0.0\n",
      "0.0\n",
      "0.0\n",
      "0.0\n",
      "0.0\n",
      "0.0\n",
      "0.0\n",
      "0.0\n",
      "0.0\n",
      "0.0\n",
      "0.0\n",
      "0.0\n",
      "0.0\n",
      "0.0\n",
      "0.0\n",
      "0.0\n",
      "0.0\n",
      "0.0\n",
      "0.0\n",
      "0.0\n",
      "0.0\n",
      "0.0\n",
      "0.0\n",
      "0.0\n",
      "0.0\n",
      "0.0\n",
      "0.0\n",
      "0.0\n",
      "0.0\n",
      "0.0\n",
      "0.0\n",
      "0.0\n",
      "0.0\n",
      "0.0\n",
      "0.0\n",
      "0.0\n",
      "0.0\n",
      "0.0\n",
      "0.0\n",
      "0.0\n",
      "0.0\n",
      "0.0\n",
      "0.0\n",
      "0.0\n",
      "0.0\n",
      "0.0\n",
      "0.0\n",
      "0.0\n",
      "0.0\n",
      "0.0\n",
      "0.0\n",
      "0.0\n",
      "0.0\n",
      "0.0\n",
      "0.0\n",
      "0.0\n",
      "0.0\n",
      "0.0\n",
      "0.0\n",
      "0.0\n",
      "0.0\n",
      "0.0\n",
      "0.0\n",
      "0.0\n",
      "0.0\n",
      "0.0\n",
      "0.0\n",
      "0.0\n",
      "0.0\n",
      "0.0\n",
      "0.0\n",
      "0.0\n",
      "0.0\n",
      "0.0\n",
      "0.0\n",
      "0.0\n",
      "0.0\n",
      "0.0\n",
      "0.0\n",
      "0.0\n",
      "0.0\n",
      "0.0\n",
      "0.0\n",
      "0.0\n",
      "0.0\n",
      "0.0\n",
      "0.0\n",
      "0.0\n",
      "0.0\n",
      "0.0\n",
      "0.0\n",
      "0.0\n",
      "0.0\n",
      "0.0\n",
      "0.0\n",
      "0.0\n",
      "0.0\n",
      "0.0\n",
      "0.0\n",
      "0.0\n",
      "0.0\n",
      "0.0\n",
      "0.0\n",
      "0.0\n",
      "0.0\n",
      "0.0\n",
      "0.0\n",
      "0.0\n",
      "0.0\n",
      "0.0\n",
      "0.0\n",
      "0.0\n",
      "0.0\n",
      "0.0\n",
      "0.0\n",
      "0.0\n",
      "0.0\n",
      "0.0\n",
      "0.0\n",
      "0.0\n",
      "0.0\n",
      "0.0\n",
      "0.0\n",
      "0.0\n",
      "0.0\n",
      "0.0\n",
      "0.0\n",
      "0.0\n",
      "0.0\n",
      "0.0\n",
      "0.0\n",
      "0.0\n",
      "0.0\n",
      "0.0\n",
      "0.0\n",
      "0.0\n",
      "0.0\n",
      "0.0\n",
      "0.0\n",
      "0.0\n",
      "0.0\n",
      "0.0\n",
      "0.0\n",
      "0.0\n",
      "0.0\n",
      "0.0\n",
      "0.0\n",
      "0.0\n",
      "0.0\n",
      "0.0\n",
      "0.0\n",
      "0.0\n",
      "0.0\n",
      "0.0\n",
      "0.0\n",
      "0.0\n",
      "0.0\n",
      "0.0\n",
      "0.0\n",
      "0.0\n",
      "0.0\n",
      "0.0\n",
      "0.0\n",
      "0.0\n",
      "0.0\n",
      "0.0\n",
      "0.0\n",
      "0.0\n",
      "0.0\n",
      "0.0\n",
      "0.0\n",
      "0.0\n",
      "0.0\n",
      "0.0\n",
      "0.0\n",
      "0.0\n",
      "0.0\n",
      "0.0\n",
      "0.0\n",
      "0.0\n",
      "0.0\n",
      "0.0\n",
      "0.0\n",
      "0.0\n",
      "0.0\n",
      "0.0\n",
      "0.0\n",
      "0.0\n",
      "0.0\n",
      "0.0\n",
      "0.0\n",
      "0.0\n",
      "0.0\n",
      "0.0\n",
      "0.0\n",
      "0.0\n",
      "0.0\n",
      "0.0\n",
      "0.0\n",
      "0.0\n",
      "0.0\n",
      "0.0\n",
      "0.0\n",
      "0.0\n",
      "0.0\n",
      "0.0\n",
      "0.0\n",
      "0.0\n",
      "0.0\n",
      "0.0\n",
      "0.0\n",
      "0.0\n",
      "0.0\n",
      "0.0\n",
      "0.0\n",
      "0.0\n",
      "0.0\n",
      "0.0\n",
      "0.0\n",
      "0.0\n",
      "0.0\n",
      "0.0\n",
      "0.0\n",
      "0.0\n",
      "0.0\n",
      "0.0\n",
      "0.0\n",
      "0.0\n",
      "0.0\n",
      "0.0\n",
      "0.0\n",
      "0.0\n",
      "0.0\n",
      "0.0\n",
      "0.0\n",
      "0.0\n",
      "0.0\n",
      "0.0\n",
      "0.0\n",
      "0.0\n",
      "0.0\n",
      "0.0\n",
      "0.0\n",
      "0.0\n",
      "0.0\n",
      "0.0\n",
      "0.0\n",
      "0.0\n",
      "0.0\n",
      "0.0\n",
      "0.0\n",
      "0.0\n",
      "0.0\n",
      "0.0\n",
      "0.0\n",
      "0.0\n",
      "0.0\n",
      "0.0\n",
      "0.0\n",
      "0.0\n",
      "0.0\n",
      "0.0\n",
      "0.0\n",
      "0.0\n",
      "0.0\n",
      "0.0\n",
      "0.0\n",
      "0.0\n",
      "0.0\n",
      "0.0\n",
      "0.0\n",
      "0.0\n",
      "0.0\n",
      "0.0\n",
      "0.0\n",
      "0.0\n",
      "0.0\n",
      "0.0\n",
      "0.0\n",
      "0.0\n",
      "0.0\n",
      "0.0\n",
      "0.0\n",
      "0.0\n",
      "0.0\n",
      "0.0\n",
      "0.0\n",
      "0.0\n",
      "0.0\n",
      "0.0\n",
      "0.0\n",
      "0.0\n",
      "0.0\n",
      "0.0\n",
      "0.0\n",
      "0.0\n",
      "0.0\n",
      "0.0\n",
      "0.0\n",
      "0.0\n",
      "0.0\n",
      "0.0\n",
      "0.0\n",
      "0.0\n",
      "0.0\n",
      "0.0\n",
      "0.0\n",
      "0.0\n",
      "0.0\n",
      "0.0\n",
      "0.0\n",
      "0.0\n",
      "0.0\n",
      "0.0\n",
      "0.0\n",
      "0.0\n",
      "0.0\n",
      "0.0\n",
      "0.0\n",
      "0.0\n",
      "0.0\n",
      "0.0\n",
      "0.0\n",
      "0.0\n",
      "0.0\n",
      "0.0\n",
      "0.0\n",
      "0.0\n",
      "0.0\n",
      "0.0\n",
      "0.0\n",
      "0.0\n",
      "0.0\n",
      "0.0\n",
      "0.0\n",
      "0.0\n",
      "0.0\n",
      "0.0\n",
      "0.0\n",
      "0.0\n",
      "0.0\n"
     ]
    }
   ],
   "source": [
    "for i in (c - A.T.dot(sol_dual.x)):\n",
    "    print(i)"
   ]
  },
  {
   "cell_type": "code",
   "execution_count": 22,
   "metadata": {},
   "outputs": [
    {
     "data": {
      "text/plain": [
       "        message: Optimization terminated successfully. (HiGHS Status 7: Optimal)\n",
       "        success: True\n",
       "         status: 0\n",
       "            fun: 12023.4\n",
       "              x: [ 3.800e+01  4.400e+01 ...  4.000e+00  3.600e+01]\n",
       "            nit: -1\n",
       "          lower:  residual: [ 3.800e+01  4.400e+01 ...  4.000e+00\n",
       "                              3.600e+01]\n",
       "                 marginals: [ 0.000e+00  0.000e+00 ...  0.000e+00\n",
       "                              0.000e+00]\n",
       "          upper:  residual: [       inf        inf ...        inf\n",
       "                                    inf]\n",
       "                 marginals: [ 0.000e+00  0.000e+00 ...  0.000e+00\n",
       "                              0.000e+00]\n",
       "          eqlin:  residual: []\n",
       "                 marginals: []\n",
       "        ineqlin:  residual: [ 0.000e+00  0.000e+00 ...  1.000e+00\n",
       "                              1.100e+01]\n",
       "                 marginals: [ 0.000e+00  0.000e+00 ...  0.000e+00\n",
       "                              0.000e+00]\n",
       " mip_node_count: 1\n",
       " mip_dual_bound: 12023.4\n",
       "        mip_gap: 0.0"
      ]
     },
     "execution_count": 22,
     "metadata": {},
     "output_type": "execute_result"
    }
   ],
   "source": [
    "sol"
   ]
  },
  {
   "cell_type": "code",
   "execution_count": 24,
   "metadata": {},
   "outputs": [
    {
     "data": {
      "text/plain": [
       "0"
      ]
     },
     "execution_count": 24,
     "metadata": {},
     "output_type": "execute_result"
    }
   ],
   "source": [
    "_"
   ]
  },
  {
   "cell_type": "code",
   "execution_count": 23,
   "metadata": {},
   "outputs": [
    {
     "data": {
      "text/plain": [
       "68.89090909090908"
      ]
     },
     "execution_count": 23,
     "metadata": {},
     "output_type": "execute_result"
    }
   ],
   "source": [
    "np.sum(c - A.T.dot(sol_dual.x))"
   ]
  },
  {
   "cell_type": "code",
   "execution_count": 18,
   "metadata": {},
   "outputs": [
    {
     "data": {
      "text/plain": [
       "array([  0. , -22. , -32.4, -32.2, -38.8, -46.2, -47. , -43.5, -48.8,\n",
       "        -3.4,  -5.8, -10.6, -19.6,  -2.8, -13. ,  -1. ,  -5.4,  -1.6,\n",
       "        -1. ,   0. ,   0. ,   0. ,   0. ,   0. ,   0. ,   0. ,   0. ])"
      ]
     },
     "execution_count": 18,
     "metadata": {},
     "output_type": "execute_result"
    }
   ],
   "source": [
    "A.T.dot(sol_dual.x) - c"
   ]
  },
  {
   "cell_type": "code",
   "execution_count": 16,
   "metadata": {},
   "outputs": [
    {
     "data": {
      "text/plain": [
       "        message: Optimization terminated successfully. (HiGHS Status 7: Optimal)\n",
       "        success: True\n",
       "         status: 0\n",
       "            fun: 1927.3000000000006\n",
       "              x: [ 3.800e+01  0.000e+00 ...  3.000e+01  4.400e+01]\n",
       "            nit: -1\n",
       "          lower:  residual: [ 3.800e+01  0.000e+00 ...  3.000e+01\n",
       "                              4.400e+01]\n",
       "                 marginals: [ 0.000e+00  0.000e+00 ...  0.000e+00\n",
       "                              0.000e+00]\n",
       "          upper:  residual: [       inf        inf ...        inf\n",
       "                                    inf]\n",
       "                 marginals: [ 0.000e+00  0.000e+00 ...  0.000e+00\n",
       "                              0.000e+00]\n",
       "          eqlin:  residual: []\n",
       "                 marginals: []\n",
       "        ineqlin:  residual: [ 0.000e+00  0.000e+00 ...  9.000e+00\n",
       "                              3.100e+01]\n",
       "                 marginals: [ 0.000e+00  0.000e+00 ...  0.000e+00\n",
       "                              0.000e+00]\n",
       " mip_node_count: 1\n",
       " mip_dual_bound: 1927.3000000000006\n",
       "        mip_gap: 0.0"
      ]
     },
     "execution_count": 16,
     "metadata": {},
     "output_type": "execute_result"
    }
   ],
   "source": [
    "sol"
   ]
  },
  {
   "cell_type": "code",
   "execution_count": 13,
   "metadata": {},
   "outputs": [
    {
     "data": {
      "text/plain": [
       "-25.0"
      ]
     },
     "execution_count": 13,
     "metadata": {},
     "output_type": "execute_result"
    }
   ],
   "source": [
    "price_sol.fun"
   ]
  },
  {
   "cell_type": "code",
   "execution_count": 9,
   "metadata": {},
   "outputs": [
    {
     "data": {
      "text/plain": [
       "0.6000000000000085"
      ]
     },
     "execution_count": 9,
     "metadata": {},
     "output_type": "execute_result"
    }
   ],
   "source": [
    "new_c"
   ]
  },
  {
   "cell_type": "code",
   "execution_count": 6,
   "metadata": {},
   "outputs": [],
   "source": [
    "sol = linprog(c, A_ub=-A, b_ub=-b, bounds=(0, np.inf), integrality=1)"
   ]
  },
  {
   "cell_type": "code",
   "execution_count": 7,
   "metadata": {},
   "outputs": [
    {
     "data": {
      "text/plain": [
       "        message: Optimization terminated successfully. (HiGHS Status 7: Optimal)\n",
       "        success: True\n",
       "         status: 0\n",
       "            fun: 8270.300000000001\n",
       "              x: [ 3.800e+01  4.400e+01 ...  4.100e+01  4.900e+01]\n",
       "            nit: -1\n",
       "          lower:  residual: [ 3.800e+01  4.400e+01 ...  4.100e+01\n",
       "                              4.900e+01]\n",
       "                 marginals: [ 0.000e+00  0.000e+00 ...  0.000e+00\n",
       "                              0.000e+00]\n",
       "          upper:  residual: [       inf        inf ...        inf\n",
       "                                    inf]\n",
       "                 marginals: [ 0.000e+00  0.000e+00 ...  0.000e+00\n",
       "                              0.000e+00]\n",
       "          eqlin:  residual: []\n",
       "                 marginals: []\n",
       "        ineqlin:  residual: [ 0.000e+00  0.000e+00 ...  1.000e+00\n",
       "                              1.100e+01]\n",
       "                 marginals: [ 0.000e+00  0.000e+00 ...  0.000e+00\n",
       "                              0.000e+00]\n",
       " mip_node_count: 1\n",
       " mip_dual_bound: 8270.300000000001\n",
       "        mip_gap: 0.0"
      ]
     },
     "execution_count": 7,
     "metadata": {},
     "output_type": "execute_result"
    }
   ],
   "source": [
    "sol"
   ]
  },
  {
   "cell_type": "code",
   "execution_count": 37,
   "metadata": {},
   "outputs": [
    {
     "data": {
      "text/plain": [
       "array([38.,  0.,  0., ...,  0.,  0.,  0.])"
      ]
     },
     "execution_count": 37,
     "metadata": {},
     "output_type": "execute_result"
    }
   ],
   "source": [
    "sol.x"
   ]
  },
  {
   "cell_type": "code",
   "execution_count": 34,
   "metadata": {},
   "outputs": [
    {
     "data": {
      "text/plain": [
       "        message: Optimization terminated successfully. (HiGHS Status 7: Optimal)\n",
       "        success: True\n",
       "         status: 0\n",
       "            fun: -25.0\n",
       "              x: [ 1.000e+00  0.000e+00 ...  0.000e+00  0.000e+00]\n",
       "            nit: -1\n",
       "          lower:  residual: [ 1.000e+00  0.000e+00 ...  0.000e+00\n",
       "                              0.000e+00]\n",
       "                 marginals: [ 0.000e+00  0.000e+00 ...  0.000e+00\n",
       "                              0.000e+00]\n",
       "          upper:  residual: [       inf        inf ...        inf\n",
       "                                    inf]\n",
       "                 marginals: [ 0.000e+00  0.000e+00 ...  0.000e+00\n",
       "                              0.000e+00]\n",
       "          eqlin:  residual: []\n",
       "                 marginals: []\n",
       "        ineqlin:  residual: [ 2.500e+01]\n",
       "                 marginals: [ 0.000e+00]\n",
       " mip_node_count: 1\n",
       " mip_dual_bound: -25.0\n",
       "        mip_gap: 0.0"
      ]
     },
     "execution_count": 34,
     "metadata": {},
     "output_type": "execute_result"
    }
   ],
   "source": [
    "price_sol"
   ]
  },
  {
   "cell_type": "code",
   "execution_count": 25,
   "metadata": {},
   "outputs": [],
   "source": [
    "sol = linprog(c, A_ub=-A, b_ub=-b, bounds=(0, np.inf))"
   ]
  },
  {
   "cell_type": "code",
   "execution_count": 26,
   "metadata": {},
   "outputs": [],
   "source": [
    "sol_dual = linprog(-b, A_ub=A.T, b_ub=c, bounds=(0, None))"
   ]
  },
  {
   "cell_type": "code",
   "execution_count": 27,
   "metadata": {},
   "outputs": [
    {
     "data": {
      "text/plain": [
       "        message: Optimization terminated successfully. (HiGHS Status 7: Optimal)\n",
       "        success: True\n",
       "         status: 0\n",
       "            fun: -60.090909090909086\n",
       "              x: [ 0.000e+00  0.000e+00 ...  0.000e+00  0.000e+00]\n",
       "            nit: -1\n",
       "          lower:  residual: [ 0.000e+00  0.000e+00 ...  0.000e+00\n",
       "                              0.000e+00]\n",
       "                 marginals: [ 0.000e+00  0.000e+00 ...  0.000e+00\n",
       "                              0.000e+00]\n",
       "          upper:  residual: [       inf        inf ...        inf\n",
       "                                    inf]\n",
       "                 marginals: [ 0.000e+00  0.000e+00 ...  0.000e+00\n",
       "                              0.000e+00]\n",
       "          eqlin:  residual: []\n",
       "                 marginals: []\n",
       "        ineqlin:  residual: [ 1.000e+00]\n",
       "                 marginals: [ 0.000e+00]\n",
       " mip_node_count: 1\n",
       " mip_dual_bound: -60.090909090909086\n",
       "        mip_gap: 0.0"
      ]
     },
     "execution_count": 27,
     "metadata": {},
     "output_type": "execute_result"
    }
   ],
   "source": [
    "solve_knapsack(W, w, sol_dual.x)"
   ]
  },
  {
   "cell_type": "code",
   "execution_count": 12,
   "metadata": {},
   "outputs": [
    {
     "data": {
      "text/plain": [
       "-13916.306060606057"
      ]
     },
     "execution_count": 12,
     "metadata": {},
     "output_type": "execute_result"
    }
   ],
   "source": [
    "sol_dual.fun"
   ]
  },
  {
   "cell_type": "code",
   "execution_count": 11,
   "metadata": {},
   "outputs": [
    {
     "data": {
      "text/plain": [
       "array([25.        , 28.7       , 33.        , 38.6       , 42.        ,\n",
       "       46.2       , 47.        , 49.        , 49.8       ,  1.13333333,\n",
       "        2.53333333,  3.53333333,  4.9       ,  0.46666667,  2.16666667,\n",
       "        0.11111111,  0.49090909,  0.13333333,  0.06666667])"
      ]
     },
     "execution_count": 11,
     "metadata": {},
     "output_type": "execute_result"
    }
   ],
   "source": [
    "sol_dual.x"
   ]
  },
  {
   "cell_type": "code",
   "execution_count": 9,
   "metadata": {},
   "outputs": [
    {
     "data": {
      "text/plain": [
       "        message: Optimization terminated successfully. (HiGHS Status 7: Optimal)\n",
       "        success: True\n",
       "         status: 0\n",
       "            fun: 13916.306060606057\n",
       "              x: [ 3.800e+01  4.400e+01 ...  2.917e+00  3.267e+00]\n",
       "            nit: 0\n",
       "          lower:  residual: [ 3.800e+01  4.400e+01 ...  2.917e+00\n",
       "                              3.267e+00]\n",
       "                 marginals: [ 0.000e+00  0.000e+00 ...  0.000e+00\n",
       "                              0.000e+00]\n",
       "          upper:  residual: [       inf        inf ...        inf\n",
       "                                    inf]\n",
       "                 marginals: [ 0.000e+00  0.000e+00 ...  0.000e+00\n",
       "                              0.000e+00]\n",
       "          eqlin:  residual: []\n",
       "                 marginals: []\n",
       "        ineqlin:  residual: [ 0.000e+00  0.000e+00 ...  0.000e+00\n",
       "                              0.000e+00]\n",
       "                 marginals: [-2.500e+01 -2.870e+01 ... -1.333e-01\n",
       "                             -6.667e-02]\n",
       " mip_node_count: 0\n",
       " mip_dual_bound: 0.0\n",
       "        mip_gap: 0.0"
      ]
     },
     "execution_count": 9,
     "metadata": {},
     "output_type": "execute_result"
    }
   ],
   "source": [
    "sol"
   ]
  },
  {
   "cell_type": "code",
   "execution_count": null,
   "metadata": {},
   "outputs": [],
   "source": []
  }
 ],
 "metadata": {
  "kernelspec": {
   "display_name": "venv",
   "language": "python",
   "name": "python3"
  },
  "language_info": {
   "codemirror_mode": {
    "name": "ipython",
    "version": 3
   },
   "file_extension": ".py",
   "mimetype": "text/x-python",
   "name": "python",
   "nbconvert_exporter": "python",
   "pygments_lexer": "ipython3",
   "version": "3.9.7"
  },
  "orig_nbformat": 4
 },
 "nbformat": 4,
 "nbformat_minor": 2
}
