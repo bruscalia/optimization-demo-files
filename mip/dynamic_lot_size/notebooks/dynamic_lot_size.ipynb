{
 "cells": [
  {
   "attachments": {},
   "cell_type": "markdown",
   "metadata": {},
   "source": [
    "# Dynamic lot-size model as a mixed-integer programming problem"
   ]
  },
  {
   "cell_type": "code",
   "execution_count": 1,
   "metadata": {},
   "outputs": [],
   "source": [
    "import numpy as np\n",
    "import pandas as pd\n",
    "import pyomo.environ as pyo\n",
    "import matplotlib.pyplot as plt"
   ]
  },
  {
   "attachments": {},
   "cell_type": "markdown",
   "metadata": {},
   "source": [
    "## Formulation"
   ]
  },
  {
   "attachments": {},
   "cell_type": "markdown",
   "metadata": {},
   "source": [
    "$$\n",
    "\\begin{align}\n",
    "    \\text{min}~~ & \\sum_{t \\in T}{(h_{t} I_{t} + s_{t} y_{t})} \\\\\n",
    "    \\text{s.t.}~~ & I_{t} = I_{t - 1} + x_{t} - d_{t} & \\forall ~ t \\in T; t \\geq 2\\\\\n",
    "    & I_{1} = I_{0} + x_{1} - d_{1}\\\\\n",
    "    & x_{t} \\leq M y_{t} & \\forall ~ t \\in T \\\\\n",
    "    & x_{t}; I_{t} \\geq 0 & \\forall ~ t \\in T \\\\\n",
    "    & y_{t} \\in \\left \\{ 0, 1 \\right \\} & \\forall ~ t \\in T\\\\\n",
    "\\end{align}\n",
    "$$"
   ]
  },
  {
   "attachments": {},
   "cell_type": "markdown",
   "metadata": {},
   "source": [
    "## Prepare data"
   ]
  },
  {
   "cell_type": "code",
   "execution_count": 2,
   "metadata": {},
   "outputs": [
    {
     "data": {
      "text/html": [
       "<div>\n",
       "<style scoped>\n",
       "    .dataframe tbody tr th:only-of-type {\n",
       "        vertical-align: middle;\n",
       "    }\n",
       "\n",
       "    .dataframe tbody tr th {\n",
       "        vertical-align: top;\n",
       "    }\n",
       "\n",
       "    .dataframe thead th {\n",
       "        text-align: right;\n",
       "    }\n",
       "</style>\n",
       "<table border=\"1\" class=\"dataframe\">\n",
       "  <thead>\n",
       "    <tr style=\"text-align: right;\">\n",
       "      <th></th>\n",
       "      <th>setup_cost</th>\n",
       "      <th>inventory_cost</th>\n",
       "      <th>demand</th>\n",
       "    </tr>\n",
       "  </thead>\n",
       "  <tbody>\n",
       "    <tr>\n",
       "      <th>1</th>\n",
       "      <td>85</td>\n",
       "      <td>1.0</td>\n",
       "      <td>69</td>\n",
       "    </tr>\n",
       "    <tr>\n",
       "      <th>2</th>\n",
       "      <td>102</td>\n",
       "      <td>1.0</td>\n",
       "      <td>29</td>\n",
       "    </tr>\n",
       "    <tr>\n",
       "      <th>3</th>\n",
       "      <td>102</td>\n",
       "      <td>1.0</td>\n",
       "      <td>36</td>\n",
       "    </tr>\n",
       "    <tr>\n",
       "      <th>4</th>\n",
       "      <td>101</td>\n",
       "      <td>1.0</td>\n",
       "      <td>61</td>\n",
       "    </tr>\n",
       "    <tr>\n",
       "      <th>5</th>\n",
       "      <td>98</td>\n",
       "      <td>1.0</td>\n",
       "      <td>61</td>\n",
       "    </tr>\n",
       "  </tbody>\n",
       "</table>\n",
       "</div>"
      ],
      "text/plain": [
       "   setup_cost  inventory_cost  demand\n",
       "1          85             1.0      69\n",
       "2         102             1.0      29\n",
       "3         102             1.0      36\n",
       "4         101             1.0      61\n",
       "5          98             1.0      61"
      ]
     },
     "execution_count": 2,
     "metadata": {},
     "output_type": "execute_result"
    }
   ],
   "source": [
    "dataset = pd.read_csv(\"../data/input_wagner.csv\", index_col=0)\n",
    "dataset.head()"
   ]
  },
  {
   "cell_type": "code",
   "execution_count": 3,
   "metadata": {},
   "outputs": [
    {
     "name": "stdout",
     "output_type": "stream",
     "text": [
      "Maximum cost: 1234.0\n"
     ]
    }
   ],
   "source": [
    "# Obtain the maximum cost for comparison\n",
    "max_cost = dataset.setup_cost.sum()\n",
    "print(f\"Maximum cost: {max_cost:.1f}\")"
   ]
  },
  {
   "cell_type": "code",
   "execution_count": 4,
   "metadata": {},
   "outputs": [],
   "source": [
    "def get_max_antecip(t, dataset=dataset):\n",
    "    \n",
    "    total_inv = 0\n",
    "    d = dataset.demand[t]\n",
    "    s = dataset.setup_cost[t]\n",
    "    out = t\n",
    "    \n",
    "    for i in range(1, t - dataset.index[0] + 1):\n",
    "        h = dataset.inventory_cost[t - i]\n",
    "        if total_inv + h * d <= s:\n",
    "            total_inv = total_inv + h * d\n",
    "            out = t - i\n",
    "        else:\n",
    "            break\n",
    "    \n",
    "    return out\n",
    "\n",
    "\n",
    "def get_max_prod(t, dataset=dataset):\n",
    "    df = dataset.query(f\"max_antecip <= {t} & index >= {t}\")\n",
    "    return df.demand.sum()"
   ]
  },
  {
   "cell_type": "code",
   "execution_count": 5,
   "metadata": {},
   "outputs": [],
   "source": [
    "dataset[\"max_antecip\"] = [get_max_antecip(t, dataset=dataset) for t in dataset.index]\n",
    "dataset[\"max_prod\"] = [get_max_prod(t, dataset=dataset) for t in dataset.index]"
   ]
  },
  {
   "attachments": {},
   "cell_type": "markdown",
   "metadata": {},
   "source": [
    "## pyomo model"
   ]
  },
  {
   "cell_type": "code",
   "execution_count": 6,
   "metadata": {},
   "outputs": [],
   "source": [
    "model = pyo.ConcreteModel()"
   ]
  },
  {
   "cell_type": "code",
   "execution_count": 7,
   "metadata": {},
   "outputs": [],
   "source": [
    "model.T = pyo.Set(initialize=list(dataset.index))"
   ]
  },
  {
   "cell_type": "code",
   "execution_count": 8,
   "metadata": {},
   "outputs": [],
   "source": [
    "model.d = pyo.Param(model.T, initialize=dataset.demand)\n",
    "model.s = pyo.Param(model.T, initialize=dataset.setup_cost)\n",
    "model.h = pyo.Param(model.T, initialize=dataset.inventory_cost)\n",
    "model.M = pyo.Param(model.T, initialize=dataset.max_prod)"
   ]
  },
  {
   "cell_type": "code",
   "execution_count": 9,
   "metadata": {},
   "outputs": [],
   "source": [
    "model.x = pyo.Var(model.T, within=pyo.NonNegativeReals)\n",
    "model.y = pyo.Var(model.T, within=pyo.Binary)\n",
    "model.I = pyo.Var(model.T, within=pyo.NonNegativeReals)"
   ]
  },
  {
   "cell_type": "code",
   "execution_count": 10,
   "metadata": {},
   "outputs": [],
   "source": [
    "def inventory_rule(model, t):\n",
    "    if t == model.T.first():\n",
    "        return model.I[t] == model.x[t] - model.d[t]\n",
    "    else:\n",
    "        return model.I[t] == model.I[model.T.prev(t)] + model.x[t] - model.d[t]\n",
    "\n",
    "model.inventory_rule = pyo.Constraint(model.T, rule=inventory_rule)"
   ]
  },
  {
   "cell_type": "code",
   "execution_count": 11,
   "metadata": {},
   "outputs": [],
   "source": [
    "def active_prod(model, t):\n",
    "    return model.x[t] <= model.M[t] * model.y[t]\n",
    "\n",
    "model.active_prod = pyo.Constraint(model.T, rule=active_prod)"
   ]
  },
  {
   "cell_type": "code",
   "execution_count": 12,
   "metadata": {},
   "outputs": [],
   "source": [
    "def total_holding(model):\n",
    "    return sum(model.h[t] * model.I[t] for t in model.T)\n",
    "\n",
    "def total_setup(model):\n",
    "    return sum(model.s[t] * model.y[t] for t in model.T)\n",
    "\n",
    "def total_cost(model):\n",
    "    return total_setup(model) + total_holding(model)\n",
    "\n",
    "model.obj = pyo.Objective(rule=total_cost, sense=pyo.minimize)"
   ]
  },
  {
   "attachments": {},
   "cell_type": "markdown",
   "metadata": {},
   "source": [
    "## Solution"
   ]
  },
  {
   "cell_type": "code",
   "execution_count": 13,
   "metadata": {},
   "outputs": [],
   "source": [
    "solver = pyo.SolverFactory(\"cbc\")"
   ]
  },
  {
   "cell_type": "code",
   "execution_count": 14,
   "metadata": {},
   "outputs": [
    {
     "name": "stdout",
     "output_type": "stream",
     "text": [
      "Welcome to the CBC MILP Solver \n",
      "Version: 2.10.8 \n",
      "Build Date: May  5 2022 \n",
      "\n",
      "command line - C:\\Users\\Bruno\\Documents\\Programas\\Cbc\\bin\\cbc.exe -printingOptions all -import C:\\Users\\Bruno\\AppData\\Local\\Temp\\tmpxvio3rce.pyomo.lp -stat=1 -solve -solu C:\\Users\\Bruno\\AppData\\Local\\Temp\\tmpxvio3rce.pyomo.soln (default strategy 1)\n",
      "Option for printingOptions changed from normal to all\n",
      "Presolve 23 (-2) rows, 35 (-2) columns and 57 (-3) elements\n",
      "Statistics for presolved model\n",
      "Original problem has 12 integers (12 of which binary)\n",
      "Presolved problem has 12 integers (12 of which binary)\n",
      "==== 11 zero objective 11 different\n",
      "11 variables have objective of 0\n",
      "12 variables have objective of 1\n",
      "1 variables have objective of 85\n",
      "1 variables have objective of 86\n",
      "2 variables have objective of 98\n",
      "1 variables have objective of 101\n",
      "2 variables have objective of 102\n",
      "1 variables have objective of 105\n",
      "1 variables have objective of 110\n",
      "2 variables have objective of 114\n",
      "1 variables have objective of 119\n",
      "==== absolute objective values 11 different\n",
      "11 variables have objective of 0\n",
      "12 variables have objective of 1\n",
      "1 variables have objective of 85\n",
      "1 variables have objective of 86\n",
      "2 variables have objective of 98\n",
      "1 variables have objective of 101\n",
      "2 variables have objective of 102\n",
      "1 variables have objective of 105\n",
      "1 variables have objective of 110\n",
      "2 variables have objective of 114\n",
      "1 variables have objective of 119\n",
      "==== for integers 0 zero objective 9 different\n",
      "1 variables have objective of 85\n",
      "1 variables have objective of 86\n",
      "2 variables have objective of 98\n",
      "1 variables have objective of 101\n",
      "2 variables have objective of 102\n",
      "1 variables have objective of 105\n",
      "1 variables have objective of 110\n",
      "2 variables have objective of 114\n",
      "1 variables have objective of 119\n",
      "==== for integers absolute objective values 9 different\n",
      "1 variables have objective of 85\n",
      "1 variables have objective of 86\n",
      "2 variables have objective of 98\n",
      "1 variables have objective of 101\n",
      "2 variables have objective of 102\n",
      "1 variables have objective of 105\n",
      "1 variables have objective of 110\n",
      "2 variables have objective of 114\n",
      "1 variables have objective of 119\n",
      "===== end objective counts\n",
      "\n",
      "\n",
      "Problem has 23 rows, 35 columns (24 with objective) and 57 elements\n",
      "There are 13 singletons with objective \n",
      "Column breakdown:\n",
      "23 of type 0.0->inf, 0 of type 0.0->up, 0 of type lo->inf, \n",
      "0 of type lo->up, 0 of type free, 0 of type fixed, \n",
      "0 of type -inf->0.0, 0 of type -inf->up, 12 of type 0.0->1.0 \n",
      "Row breakdown:\n",
      "0 of type E 0.0, 0 of type E 1.0, 0 of type E -1.0, \n",
      "11 of type E other, 0 of type G 0.0, 0 of type G 1.0, \n",
      "0 of type G other, 11 of type L 0.0, 0 of type L 1.0, \n",
      "1 of type L other, 0 of type Range 0.0->1.0, 0 of type Range other, \n",
      "0 of type Free \n",
      "Continuous objective value is 550.638 - 0.00 seconds\n",
      "Cgl0004I processed model has 22 rows, 34 columns (11 integer (11 of which binary)) and 55 elements\n",
      "Cbc0038I Initial state - 7 integers unsatisfied sum - 2.27697\n",
      "Cbc0038I Pass   1: suminf.    0.66685 (2) obj. 733.337 iterations 8\n",
      "Cbc0038I Solution found of 874\n",
      "Cbc0038I Relaxing continuous gives 874\n",
      "Cbc0038I Before mini branch and bound, 4 integers at bound fixed and 9 continuous\n",
      "Cbc0038I Full problem 22 rows 34 columns, reduced to 3 rows 6 columns\n",
      "Cbc0038I Mini branch and bound did not improve solution (0.01 seconds)\n",
      "Cbc0038I Round again with cutoff of 845.436\n",
      "Cbc0038I Pass   2: suminf.    0.66685 (2) obj. 733.337 iterations 0\n",
      "Cbc0038I Pass   3: suminf.    0.15275 (1) obj. 845.436 iterations 5\n",
      "Cbc0038I Pass   4: suminf.    0.50557 (2) obj. 845.436 iterations 3\n",
      "Cbc0038I Pass   5: suminf.    0.54999 (2) obj. 845.436 iterations 2\n",
      "Cbc0038I Pass   6: suminf.    0.49488 (1) obj. 845.436 iterations 2\n",
      "Cbc0038I Pass   7: suminf.    0.29549 (1) obj. 845.436 iterations 2\n",
      "Cbc0038I Pass   8: suminf.    1.38536 (4) obj. 845.436 iterations 7\n",
      "Cbc0038I Pass   9: suminf.    0.65678 (3) obj. 845.436 iterations 4\n",
      "Cbc0038I Pass  10: suminf.    0.54999 (2) obj. 845.436 iterations 6\n",
      "Cbc0038I Pass  11: suminf.    0.54999 (2) obj. 845.436 iterations 0\n",
      "Cbc0038I Pass  12: suminf.    0.49488 (1) obj. 845.436 iterations 2\n",
      "Cbc0038I Pass  13: suminf.    0.29549 (1) obj. 845.436 iterations 2\n",
      "Cbc0038I Pass  14: suminf.    0.74801 (2) obj. 845.436 iterations 5\n",
      "Cbc0038I Pass  15: suminf.    0.40834 (2) obj. 845.436 iterations 4\n",
      "Cbc0038I Pass  16: suminf.    0.75975 (2) obj. 845.436 iterations 2\n",
      "Cbc0038I Pass  17: suminf.    0.40834 (2) obj. 845.436 iterations 1\n",
      "Cbc0038I Pass  18: suminf.    0.64697 (3) obj. 845.436 iterations 3\n",
      "Cbc0038I Pass  19: suminf.    0.61776 (2) obj. 845.436 iterations 1\n",
      "Cbc0038I Pass  20: suminf.    0.61776 (2) obj. 845.436 iterations 0\n",
      "Cbc0038I Pass  21: suminf.    0.40749 (2) obj. 845.436 iterations 4\n",
      "Cbc0038I Pass  22: suminf.    0.79150 (3) obj. 845.436 iterations 4\n",
      "Cbc0038I Pass  23: suminf.    0.79150 (3) obj. 845.436 iterations 0\n",
      "Cbc0038I Pass  24: suminf.    0.75975 (2) obj. 845.436 iterations 3\n",
      "Cbc0038I Pass  25: suminf.    0.40834 (2) obj. 845.436 iterations 1\n",
      "Cbc0038I Pass  26: suminf.    0.40834 (2) obj. 845.436 iterations 0\n",
      "Cbc0038I Pass  27: suminf.    0.93699 (3) obj. 845.436 iterations 5\n",
      "Cbc0038I Pass  28: suminf.    1.45652 (4) obj. 845.436 iterations 6\n",
      "Cbc0038I Pass  29: suminf.    0.79150 (3) obj. 845.436 iterations 1\n",
      "Cbc0038I Pass  30: suminf.    0.75975 (2) obj. 845.436 iterations 3\n",
      "Cbc0038I Pass  31: suminf.    0.40834 (2) obj. 845.436 iterations 1\n",
      "Cbc0038I No solution found this major pass\n",
      "Cbc0038I Before mini branch and bound, 2 integers at bound fixed and 3 continuous\n",
      "Cbc0038I Full problem 22 rows 34 columns, reduced to 16 rows 25 columns\n",
      "Cbc0038I Mini branch and bound improved solution from 874 to 864 (0.04 seconds)\n",
      "Cbc0038I Round again with cutoff of 794.022\n",
      "Cbc0038I Pass  31: suminf.    0.66685 (2) obj. 733.337 iterations 0\n",
      "Cbc0038I Pass  32: suminf.    0.48586 (2) obj. 794.022 iterations 6\n",
      "Cbc0038I Pass  33: suminf.    0.72699 (3) obj. 794.022 iterations 4\n",
      "Cbc0038I Pass  34: suminf.    0.65038 (2) obj. 794.022 iterations 1\n",
      "Cbc0038I Pass  35: suminf.    0.47315 (2) obj. 794.022 iterations 1\n",
      "Cbc0038I Pass  36: suminf.    1.02618 (3) obj. 794.022 iterations 8\n",
      "Cbc0038I Pass  37: suminf.    0.51025 (2) obj. 794.022 iterations 4\n",
      "Cbc0038I Pass  38: suminf.    0.93369 (3) obj. 794.022 iterations 3\n",
      "Cbc0038I Pass  39: suminf.    0.93369 (3) obj. 794.022 iterations 0\n",
      "Cbc0038I Pass  40: suminf.    0.52156 (2) obj. 794.022 iterations 3\n",
      "Cbc0038I Pass  41: suminf.    0.47315 (2) obj. 794.022 iterations 2\n",
      "Cbc0038I Pass  42: suminf.    0.65038 (2) obj. 794.022 iterations 1\n",
      "Cbc0038I Pass  43: suminf.    0.61910 (2) obj. 794.022 iterations 5\n",
      "Cbc0038I Pass  44: suminf.    0.63740 (3) obj. 794.022 iterations 3\n",
      "Cbc0038I Pass  45: suminf.    0.63740 (3) obj. 794.022 iterations 0\n",
      "Cbc0038I Pass  46: suminf.    0.65038 (2) obj. 794.022 iterations 4\n",
      "Cbc0038I Pass  47: suminf.    0.67157 (3) obj. 794.022 iterations 2\n",
      "Cbc0038I Pass  48: suminf.    0.67157 (3) obj. 794.022 iterations 0\n",
      "Cbc0038I Pass  49: suminf.    1.03073 (3) obj. 794.022 iterations 5\n",
      "Cbc0038I Pass  50: suminf.    0.90515 (3) obj. 794.022 iterations 4\n",
      "Cbc0038I Pass  51: suminf.    1.05433 (3) obj. 794.022 iterations 3\n",
      "Cbc0038I Pass  52: suminf.    1.03707 (3) obj. 794.022 iterations 4\n",
      "Cbc0038I Pass  53: suminf.    1.47094 (5) obj. 794.022 iterations 9\n",
      "Cbc0038I Pass  54: suminf.    1.47094 (5) obj. 794.022 iterations 0\n",
      "Cbc0038I Pass  55: suminf.    1.52298 (5) obj. 794.022 iterations 6\n",
      "Cbc0038I Pass  56: suminf.    1.35766 (4) obj. 794.022 iterations 3\n",
      "Cbc0038I Pass  57: suminf.    1.52508 (5) obj. 794.022 iterations 9\n",
      "Cbc0038I Pass  58: suminf.    1.31834 (4) obj. 794.022 iterations 1\n",
      "Cbc0038I Pass  59: suminf.    0.85035 (3) obj. 794.022 iterations 3\n",
      "Cbc0038I Pass  60: suminf.    1.35420 (4) obj. 794.022 iterations 3\n",
      "Cbc0038I No solution found this major pass\n",
      "Cbc0038I Before mini branch and bound, 2 integers at bound fixed and 3 continuous\n",
      "Cbc0038I Full problem 22 rows 34 columns, reduced to 16 rows 25 columns\n",
      "Cbc0038I Mini branch and bound did not improve solution (0.05 seconds)\n",
      "Cbc0038I After 0.05 seconds - Feasibility pump exiting with objective of 864 - took 0.05 seconds\n",
      "Cbc0012I Integer solution of 864 found by feasibility pump after 0 iterations and 0 nodes (0.05 seconds)\n",
      "Cbc0038I Full problem 22 rows 34 columns, reduced to 14 rows 22 columns\n",
      "Cbc0031I 7 added rows had average density of 4\n",
      "Cbc0013I At root node, 12 cuts changed objective from 588.36425 to 864 in 2 passes\n",
      "Cbc0014I Cut generator 0 (Probing) - 11 row cuts average 2.2 elements, 3 column cuts (3 active)  in 0.001 seconds - new frequency is 1\n",
      "Cbc0014I Cut generator 1 (Gomory) - 8 row cuts average 4.2 elements, 0 column cuts (0 active)  in 0.000 seconds - new frequency is 1\n",
      "Cbc0014I Cut generator 2 (Knapsack) - 0 row cuts average 0.0 elements, 0 column cuts (0 active)  in 0.000 seconds - new frequency is -100\n",
      "Cbc0014I Cut generator 3 (Clique) - 0 row cuts average 0.0 elements, 0 column cuts (0 active)  in 0.000 seconds - new frequency is -100\n",
      "Cbc0014I Cut generator 4 (MixedIntegerRounding2) - 7 row cuts average 3.0 elements, 0 column cuts (0 active)  in 0.000 seconds - new frequency is 1\n",
      "Cbc0014I Cut generator 5 (FlowCover) - 0 row cuts average 0.0 elements, 0 column cuts (0 active)  in 0.000 seconds - new frequency is -100\n",
      "Cbc0014I Cut generator 6 (TwoMirCuts) - 8 row cuts average 2.4 elements, 0 column cuts (0 active)  in 0.001 seconds - new frequency is -100\n",
      "Cbc0001I Search completed - best objective 864, took 7 iterations and 0 nodes (0.08 seconds)\n",
      "Cbc0035I Maximum depth 0, 1 variables fixed on reduced cost\n",
      "Cuts at root node changed objective from 588.364 to 864\n",
      "Probing was tried 2 times and created 14 cuts of which 0 were active after adding rounds of cuts (0.001 seconds)\n",
      "Gomory was tried 2 times and created 8 cuts of which 0 were active after adding rounds of cuts (0.000 seconds)\n",
      "Knapsack was tried 2 times and created 0 cuts of which 0 were active after adding rounds of cuts (0.000 seconds)\n",
      "Clique was tried 2 times and created 0 cuts of which 0 were active after adding rounds of cuts (0.000 seconds)\n",
      "MixedIntegerRounding2 was tried 2 times and created 7 cuts of which 0 were active after adding rounds of cuts (0.000 seconds)\n",
      "FlowCover was tried 2 times and created 0 cuts of which 0 were active after adding rounds of cuts (0.000 seconds)\n",
      "TwoMirCuts was tried 2 times and created 8 cuts of which 0 were active after adding rounds of cuts (0.001 seconds)\n",
      "ZeroHalf was tried 1 times and created 0 cuts of which 0 were active after adding rounds of cuts (0.000 seconds)\n",
      "\n",
      "Result - Optimal solution found\n",
      "\n",
      "Objective value:                864.00000000\n",
      "Enumerated nodes:               0\n",
      "Total iterations:               7\n",
      "Time (CPU seconds):             0.08\n",
      "Time (Wallclock seconds):       0.08\n",
      "\n",
      "Total time (CPU seconds):       0.09   (Wallclock seconds):       0.09\n",
      "\n"
     ]
    },
    {
     "data": {
      "text/plain": [
       "{'Problem': [{'Name': 'unknown', 'Lower bound': 864.0, 'Upper bound': 864.0, 'Number of objectives': 1, 'Number of constraints': 23, 'Number of variables': 35, 'Number of binary variables': 12, 'Number of integer variables': 12, 'Number of nonzeros': 24, 'Sense': 'minimize'}], 'Solver': [{'Status': 'ok', 'User time': -1.0, 'System time': 0.09, 'Wallclock time': 0.09, 'Termination condition': 'optimal', 'Termination message': 'Model was solved to optimality (subject to tolerances), and an optimal solution is available.', 'Statistics': {'Branch and bound': {'Number of bounded subproblems': 0, 'Number of created subproblems': 0}, 'Black box': {'Number of iterations': 7}}, 'Error rc': 0, 'Time': 0.3779890537261963}], 'Solution': [OrderedDict([('number of solutions', 0), ('number of solutions displayed', 0)])]}"
      ]
     },
     "execution_count": 14,
     "metadata": {},
     "output_type": "execute_result"
    }
   ],
   "source": [
    "solver.solve(model, tee=True)"
   ]
  },
  {
   "cell_type": "code",
   "execution_count": 15,
   "metadata": {},
   "outputs": [
    {
     "name": "stdout",
     "output_type": "stream",
     "text": [
      "Best cost 864.0\n",
      "% savings 29.98\n"
     ]
    }
   ],
   "source": [
    "opt_value = model.obj()\n",
    "print(f\"Best cost {opt_value}\")\n",
    "print(f\"% savings {100 * (1 - opt_value / max_cost) :.2f}\")"
   ]
  },
  {
   "cell_type": "code",
   "execution_count": 16,
   "metadata": {},
   "outputs": [],
   "source": [
    "dataset[\"production\"] = [model.x[t].value for t in dataset.index]\n",
    "dataset[\"inventory\"] = [model.I[t].value for t in dataset.index]"
   ]
  },
  {
   "cell_type": "code",
   "execution_count": 17,
   "metadata": {},
   "outputs": [
    {
     "data": {
      "text/html": [
       "<div>\n",
       "<style scoped>\n",
       "    .dataframe tbody tr th:only-of-type {\n",
       "        vertical-align: middle;\n",
       "    }\n",
       "\n",
       "    .dataframe tbody tr th {\n",
       "        vertical-align: top;\n",
       "    }\n",
       "\n",
       "    .dataframe thead th {\n",
       "        text-align: right;\n",
       "    }\n",
       "</style>\n",
       "<table border=\"1\" class=\"dataframe\">\n",
       "  <thead>\n",
       "    <tr style=\"text-align: right;\">\n",
       "      <th></th>\n",
       "      <th>demand</th>\n",
       "      <th>production</th>\n",
       "      <th>inventory</th>\n",
       "    </tr>\n",
       "  </thead>\n",
       "  <tbody>\n",
       "    <tr>\n",
       "      <th>1</th>\n",
       "      <td>69</td>\n",
       "      <td>98.0</td>\n",
       "      <td>29.0</td>\n",
       "    </tr>\n",
       "    <tr>\n",
       "      <th>2</th>\n",
       "      <td>29</td>\n",
       "      <td>0.0</td>\n",
       "      <td>0.0</td>\n",
       "    </tr>\n",
       "    <tr>\n",
       "      <th>3</th>\n",
       "      <td>36</td>\n",
       "      <td>97.0</td>\n",
       "      <td>61.0</td>\n",
       "    </tr>\n",
       "    <tr>\n",
       "      <th>4</th>\n",
       "      <td>61</td>\n",
       "      <td>0.0</td>\n",
       "      <td>0.0</td>\n",
       "    </tr>\n",
       "    <tr>\n",
       "      <th>5</th>\n",
       "      <td>61</td>\n",
       "      <td>121.0</td>\n",
       "      <td>60.0</td>\n",
       "    </tr>\n",
       "    <tr>\n",
       "      <th>6</th>\n",
       "      <td>26</td>\n",
       "      <td>0.0</td>\n",
       "      <td>34.0</td>\n",
       "    </tr>\n",
       "    <tr>\n",
       "      <th>7</th>\n",
       "      <td>34</td>\n",
       "      <td>0.0</td>\n",
       "      <td>0.0</td>\n",
       "    </tr>\n",
       "    <tr>\n",
       "      <th>8</th>\n",
       "      <td>67</td>\n",
       "      <td>112.0</td>\n",
       "      <td>45.0</td>\n",
       "    </tr>\n",
       "    <tr>\n",
       "      <th>9</th>\n",
       "      <td>45</td>\n",
       "      <td>0.0</td>\n",
       "      <td>0.0</td>\n",
       "    </tr>\n",
       "    <tr>\n",
       "      <th>10</th>\n",
       "      <td>67</td>\n",
       "      <td>67.0</td>\n",
       "      <td>0.0</td>\n",
       "    </tr>\n",
       "    <tr>\n",
       "      <th>11</th>\n",
       "      <td>79</td>\n",
       "      <td>135.0</td>\n",
       "      <td>56.0</td>\n",
       "    </tr>\n",
       "    <tr>\n",
       "      <th>12</th>\n",
       "      <td>56</td>\n",
       "      <td>0.0</td>\n",
       "      <td>0.0</td>\n",
       "    </tr>\n",
       "  </tbody>\n",
       "</table>\n",
       "</div>"
      ],
      "text/plain": [
       "    demand  production  inventory\n",
       "1       69        98.0       29.0\n",
       "2       29         0.0        0.0\n",
       "3       36        97.0       61.0\n",
       "4       61         0.0        0.0\n",
       "5       61       121.0       60.0\n",
       "6       26         0.0       34.0\n",
       "7       34         0.0        0.0\n",
       "8       67       112.0       45.0\n",
       "9       45         0.0        0.0\n",
       "10      67        67.0        0.0\n",
       "11      79       135.0       56.0\n",
       "12      56         0.0        0.0"
      ]
     },
     "execution_count": 17,
     "metadata": {},
     "output_type": "execute_result"
    }
   ],
   "source": [
    "dataset[[\"demand\", \"production\", \"inventory\"]]"
   ]
  },
  {
   "cell_type": "code",
   "execution_count": 18,
   "metadata": {},
   "outputs": [
    {
     "data": {
      "image/png": "[encoded data removed]",
      "text/plain": [
       "<Figure size 600x300 with 1 Axes>"
      ]
     },
     "metadata": {
      "needs_background": "light"
     },
     "output_type": "display_data"
    }
   ],
   "source": [
    "fig, ax = plt.subplots(figsize=[6, 3], dpi=100)\n",
    "x = dataset.index\n",
    "width = 0.35\n",
    "ax.bar(x - width/2, dataset.production, width, color=\"darkgreen\", label=\"production\")\n",
    "ax.bar(x + width/2, dataset.demand, width, color=\"navy\", label=\"demand\")\n",
    "ax.set_xticks(x)\n",
    "ax.set_ylabel(\"Qtd\")\n",
    "ax.set_xlabel(\"t\")\n",
    "ax.legend()\n",
    "fig.tight_layout()\n",
    "plt.show()"
   ]
  },
  {
   "cell_type": "code",
   "execution_count": null,
   "metadata": {},
   "outputs": [],
   "source": []
  }
 ],
 "metadata": {
  "kernelspec": {
   "display_name": "Python 3",
   "language": "python",
   "name": "python3"
  },
  "language_info": {
   "codemirror_mode": {
    "name": "ipython",
    "version": 3
   },
   "file_extension": ".py",
   "mimetype": "text/x-python",
   "name": "python",
   "nbconvert_exporter": "python",
   "pygments_lexer": "ipython3",
   "version": "3.9.7"
  },
  "orig_nbformat": 4,
  "vscode": {
   "interpreter": {
    "hash": "22f9b13baaea1acbe777ec66c6afcb217233662477c06351c776723bc94750d1"
   }
  }
 },
 "nbformat": 4,
 "nbformat_minor": 2
}
