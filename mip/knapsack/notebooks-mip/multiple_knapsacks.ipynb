{
 "cells": [
  {
   "cell_type": "markdown",
   "id": "ad0866b0",
   "metadata": {},
   "source": [
    "# Multiple knapsacks\n",
    "\n",
    "## Intro\n",
    "\n",
    "This is a generalization of the knapsack problem, in which the goal is to carry the maximum value in a single backpack considering a given set of items and a maximum capacity."
   ]
  },
  {
   "attachments": {},
   "cell_type": "markdown",
   "id": "e107a757",
   "metadata": {},
   "source": [
    "## Model statement\n",
    "\n",
    "$$\n",
    "\\begin{align}\n",
    "    \\text{max} \\quad & \\sum_{i \\in I}{c_{i} x_{i, j}} \\\\\n",
    "    \\text{s.t.} \\quad & \\sum_{i \\in I}{w_{d, i} x_{i, j}} \\leq k_{d, j} & \\forall ~d \\in D; j \\in J\\\\\n",
    "    & \\sum_{j \\in J}{x_{i, j}} \\leq b_{i} & \\forall ~ i \\in I\\\\\n",
    "    & x_i \\in \\Z & \\forall ~ i \\in I\\\\\n",
    "\\end{align}\n",
    "$$"
   ]
  },
  {
   "cell_type": "code",
   "execution_count": 59,
   "id": "89ed121d",
   "metadata": {},
   "outputs": [],
   "source": [
    "import pandas as pd\n",
    "import pyomo.environ as pyo"
   ]
  },
  {
   "cell_type": "code",
   "execution_count": 60,
   "id": "6e6283b5",
   "metadata": {},
   "outputs": [],
   "source": [
    "# Here it is the information about items available\n",
    "data_items = pd.read_excel(\"../data/multi_knapsacks.xlsx\", sheet_name=0, index_col=0)\n",
    "\n",
    "# And here about the knapsacks\n",
    "data_knapsacks = pd.read_excel(\"../data/multi_knapsacks.xlsx\", sheet_name=1, index_col=0)"
   ]
  },
  {
   "cell_type": "code",
   "execution_count": 61,
   "id": "4c25c16a",
   "metadata": {},
   "outputs": [
    {
     "data": {
      "text/html": [
       "<div>\n",
       "<style scoped>\n",
       "    .dataframe tbody tr th:only-of-type {\n",
       "        vertical-align: middle;\n",
       "    }\n",
       "\n",
       "    .dataframe tbody tr th {\n",
       "        vertical-align: top;\n",
       "    }\n",
       "\n",
       "    .dataframe thead th {\n",
       "        text-align: right;\n",
       "    }\n",
       "</style>\n",
       "<table border=\"1\" class=\"dataframe\">\n",
       "  <thead>\n",
       "    <tr style=\"text-align: right;\">\n",
       "      <th></th>\n",
       "      <th>weight</th>\n",
       "      <th>volume</th>\n",
       "      <th>value</th>\n",
       "      <th>available</th>\n",
       "    </tr>\n",
       "  </thead>\n",
       "  <tbody>\n",
       "    <tr>\n",
       "      <th>1</th>\n",
       "      <td>4.661295</td>\n",
       "      <td>1.002111</td>\n",
       "      <td>1.947939</td>\n",
       "      <td>1</td>\n",
       "    </tr>\n",
       "    <tr>\n",
       "      <th>2</th>\n",
       "      <td>7.514717</td>\n",
       "      <td>1.146791</td>\n",
       "      <td>5.189848</td>\n",
       "      <td>1</td>\n",
       "    </tr>\n",
       "    <tr>\n",
       "      <th>3</th>\n",
       "      <td>8.996028</td>\n",
       "      <td>5.010643</td>\n",
       "      <td>4.431570</td>\n",
       "      <td>1</td>\n",
       "    </tr>\n",
       "    <tr>\n",
       "      <th>4</th>\n",
       "      <td>3.684529</td>\n",
       "      <td>4.489547</td>\n",
       "      <td>6.157468</td>\n",
       "      <td>2</td>\n",
       "    </tr>\n",
       "    <tr>\n",
       "      <th>5</th>\n",
       "      <td>5.811656</td>\n",
       "      <td>3.572954</td>\n",
       "      <td>5.374311</td>\n",
       "      <td>1</td>\n",
       "    </tr>\n",
       "  </tbody>\n",
       "</table>\n",
       "</div>"
      ],
      "text/plain": [
       "     weight    volume     value  available\n",
       "1  4.661295  1.002111  1.947939          1\n",
       "2  7.514717  1.146791  5.189848          1\n",
       "3  8.996028  5.010643  4.431570          1\n",
       "4  3.684529  4.489547  6.157468          2\n",
       "5  5.811656  3.572954  5.374311          1"
      ]
     },
     "execution_count": 61,
     "metadata": {},
     "output_type": "execute_result"
    }
   ],
   "source": [
    "data_items.head()"
   ]
  },
  {
   "cell_type": "code",
   "execution_count": 62,
   "id": "8ca2763d",
   "metadata": {},
   "outputs": [
    {
     "data": {
      "text/html": [
       "<div>\n",
       "<style scoped>\n",
       "    .dataframe tbody tr th:only-of-type {\n",
       "        vertical-align: middle;\n",
       "    }\n",
       "\n",
       "    .dataframe tbody tr th {\n",
       "        vertical-align: top;\n",
       "    }\n",
       "\n",
       "    .dataframe thead th {\n",
       "        text-align: right;\n",
       "    }\n",
       "</style>\n",
       "<table border=\"1\" class=\"dataframe\">\n",
       "  <thead>\n",
       "    <tr style=\"text-align: right;\">\n",
       "      <th></th>\n",
       "      <th>weight</th>\n",
       "      <th>volume</th>\n",
       "    </tr>\n",
       "  </thead>\n",
       "  <tbody>\n",
       "    <tr>\n",
       "      <th>A</th>\n",
       "      <td>21</td>\n",
       "      <td>32</td>\n",
       "    </tr>\n",
       "    <tr>\n",
       "      <th>B</th>\n",
       "      <td>19</td>\n",
       "      <td>22</td>\n",
       "    </tr>\n",
       "    <tr>\n",
       "      <th>C</th>\n",
       "      <td>28</td>\n",
       "      <td>17</td>\n",
       "    </tr>\n",
       "  </tbody>\n",
       "</table>\n",
       "</div>"
      ],
      "text/plain": [
       "   weight  volume\n",
       "A      21      32\n",
       "B      19      22\n",
       "C      28      17"
      ]
     },
     "execution_count": 62,
     "metadata": {},
     "output_type": "execute_result"
    }
   ],
   "source": [
    "data_knapsacks.head()"
   ]
  },
  {
   "cell_type": "code",
   "execution_count": 63,
   "id": "51c2c9f4",
   "metadata": {},
   "outputs": [],
   "source": [
    "# Create sets of unique values of the sets\n",
    "dimensions = data_knapsacks.columns.to_numpy()\n",
    "items_labels = data_items.index.unique().to_numpy()\n",
    "knapsacks = data_knapsacks.index.unique().to_numpy()"
   ]
  },
  {
   "attachments": {},
   "cell_type": "markdown",
   "id": "d3147bc5",
   "metadata": {},
   "source": [
    "## Using pyomo"
   ]
  },
  {
   "cell_type": "code",
   "execution_count": 64,
   "id": "3230c35d",
   "metadata": {},
   "outputs": [],
   "source": [
    "model = pyo.ConcreteModel()"
   ]
  },
  {
   "attachments": {},
   "cell_type": "markdown",
   "id": "0d93e140",
   "metadata": {},
   "source": [
    "### Sets"
   ]
  },
  {
   "cell_type": "code",
   "execution_count": 65,
   "id": "001b5e09",
   "metadata": {},
   "outputs": [],
   "source": [
    "model.D = pyo.Set(initialize=dimensions)\n",
    "model.I = pyo.Set(initialize=items_labels)\n",
    "model.J = pyo.Set(initialize=knapsacks)"
   ]
  },
  {
   "attachments": {},
   "cell_type": "markdown",
   "id": "f1142256",
   "metadata": {},
   "source": [
    "### Parameters"
   ]
  },
  {
   "cell_type": "code",
   "execution_count": 66,
   "id": "427c2e74",
   "metadata": {},
   "outputs": [],
   "source": [
    "k = data_knapsacks.melt(ignore_index=False)\\\n",
    "    .set_index(keys=[\"variable\"], append=True)\\\n",
    "        .swaplevel(0, 1).to_dict()[\"value\"]\n",
    "model.k = pyo.Param(model.D, model.J, initialize=k)"
   ]
  },
  {
   "cell_type": "code",
   "execution_count": 67,
   "id": "e906055a",
   "metadata": {},
   "outputs": [],
   "source": [
    "w = data_items[dimensions].melt(ignore_index=False)\\\n",
    "    .set_index(keys=[\"variable\"], append=True)\\\n",
    "        .swaplevel(0, 1).to_dict()[\"value\"]\n",
    "items_available = data_items[\"available\"].to_dict()\n",
    "items_values = data_items[\"value\"].to_dict()\n",
    "\n",
    "model.b = pyo.Param(model.I, initialize=items_available)\n",
    "model.w = pyo.Param(model.D, model.I, initialize=w)\n",
    "model.c = pyo.Param(model.I, initialize=items_values)"
   ]
  },
  {
   "attachments": {},
   "cell_type": "markdown",
   "id": "006f711b",
   "metadata": {},
   "source": [
    "### Decision variables"
   ]
  },
  {
   "cell_type": "code",
   "execution_count": 68,
   "id": "78650dca",
   "metadata": {},
   "outputs": [],
   "source": [
    "bounds_n_items = {}\n",
    "\n",
    "for key, value in items_available.items():\n",
    "    bounds_n_items[key] = (0, value)\n",
    "\n",
    "def get_bounds(model, i, j):\n",
    "    return bounds_n_items[i]"
   ]
  },
  {
   "cell_type": "code",
   "execution_count": 69,
   "id": "d8efbb32",
   "metadata": {},
   "outputs": [],
   "source": [
    "model.x = pyo.Var(model.I, model.J, within=pyo.Integers, bounds=get_bounds)"
   ]
  },
  {
   "attachments": {},
   "cell_type": "markdown",
   "id": "f9780adc",
   "metadata": {},
   "source": [
    "### Constraints"
   ]
  },
  {
   "cell_type": "code",
   "execution_count": 70,
   "id": "e0afa19e",
   "metadata": {},
   "outputs": [],
   "source": [
    "def availability_constraint(model, i):\n",
    "    return sum(model.x[i, j] for j in model.J) <= model.b[i]\n",
    "\n",
    "model.availability_constraint = pyo.Constraint(model.I, rule=availability_constraint)\n",
    "\n",
    "\n",
    "def capacity_constraint(model, d, j):\n",
    "    return sum(model.x[i, j] * model.w[d, i] for i in model.I) <= model.k[d, j]\n",
    "\n",
    "model.capacity_constraint = pyo.Constraint(model.D, model.J, rule=capacity_constraint)"
   ]
  },
  {
   "attachments": {},
   "cell_type": "markdown",
   "id": "f78b6f13",
   "metadata": {},
   "source": [
    "### Objective"
   ]
  },
  {
   "cell_type": "code",
   "execution_count": 71,
   "id": "5ffd2708",
   "metadata": {},
   "outputs": [],
   "source": [
    "def obj_function(model):\n",
    "    return sum(model.x[i, j] * model.c[i]\\\n",
    "        for i in model.I for j in model.J)\n",
    "    \n",
    "model.objective = pyo.Objective(rule=obj_function, sense=pyo.maximize)"
   ]
  },
  {
   "attachments": {},
   "cell_type": "markdown",
   "id": "ce43c48c",
   "metadata": {},
   "source": [
    "### Solve"
   ]
  },
  {
   "cell_type": "code",
   "execution_count": 72,
   "id": "0226aa20",
   "metadata": {},
   "outputs": [],
   "source": [
    "# model.write(\"model.mps\", io_options={'symbolic_solver_labels': True})"
   ]
  },
  {
   "cell_type": "code",
   "execution_count": 73,
   "id": "a7266421",
   "metadata": {},
   "outputs": [],
   "source": [
    "opt = pyo.SolverFactory('cbc')\n",
    "opt.options['sec'] = 120\n",
    "opt.options['cuts'] = 'on'\n",
    "opt.options['heur'] = 'on'"
   ]
  },
  {
   "cell_type": "code",
   "execution_count": 74,
   "id": "116d4394",
   "metadata": {},
   "outputs": [
    {
     "name": "stdout",
     "output_type": "stream",
     "text": [
      "WARNING: Loading a SolverResults object with an 'aborted' status, but\n",
      "    containing a solution\n",
      "\n",
      "Problem: \n",
      "- Name: unknown\n",
      "  Lower bound: 127.73843799\n",
      "  Upper bound: -127.78033\n",
      "  Number of objectives: 1\n",
      "  Number of constraints: 56\n",
      "  Number of variables: 150\n",
      "  Number of binary variables: 99\n",
      "  Number of integer variables: 150\n",
      "  Number of nonzeros: 150\n",
      "  Sense: maximize\n",
      "Solver: \n",
      "- Status: aborted\n",
      "  User time: -1.0\n",
      "  System time: 120.13\n",
      "  Wallclock time: 120.13\n",
      "  Termination condition: maxTimeLimit\n",
      "  Termination message: Optimization terminated because the time expended exceeded the value specified in the seconds parameter.\n",
      "  Statistics: \n",
      "    Branch and bound: \n",
      "      Number of bounded subproblems: 748890\n",
      "      Number of created subproblems: 748890\n",
      "    Black box: \n",
      "      Number of iterations: 3062360\n",
      "  Error rc: 0\n",
      "  Time: 120.42014813423157\n",
      "Solution: \n",
      "- number of solutions: 0\n",
      "  number of solutions displayed: 0\n",
      "\n"
     ]
    }
   ],
   "source": [
    "solution = opt.solve(model)\n",
    "print(solution)"
   ]
  },
  {
   "cell_type": "code",
   "execution_count": 75,
   "id": "5302e558",
   "metadata": {},
   "outputs": [
    {
     "data": {
      "text/plain": [
       "127.738437990416"
      ]
     },
     "execution_count": 75,
     "metadata": {},
     "output_type": "execute_result"
    }
   ],
   "source": [
    "model.objective()"
   ]
  },
  {
   "cell_type": "code",
   "execution_count": 76,
   "id": "478b7389",
   "metadata": {},
   "outputs": [
    {
     "name": "stdout",
     "output_type": "stream",
     "text": [
      "capacity_constraint : Size=6\n",
      "    Key             : Lower : Body               : Upper\n",
      "    ('volume', 'A') :  None : 31.390966375697978 :  32.0\n",
      "    ('volume', 'B') :  None : 21.194491520099053 :  22.0\n",
      "    ('volume', 'C') :  None : 16.767874386429273 :  17.0\n",
      "    ('weight', 'A') :  None : 20.983448820880767 :  21.0\n",
      "    ('weight', 'B') :  None : 18.982435077352662 :  19.0\n",
      "    ('weight', 'C') :  None :  27.99791623266966 :  28.0\n"
     ]
    }
   ],
   "source": [
    "model.capacity_constraint.display()"
   ]
  },
  {
   "cell_type": "code",
   "execution_count": 77,
   "id": "484d4f0d",
   "metadata": {},
   "outputs": [],
   "source": [
    "output = pd.DataFrame(index=items_labels, columns=knapsacks)\n",
    "\n",
    "for i in items_labels:\n",
    "    for k in knapsacks:\n",
    "        output.loc[i, k] = model.x[i, k].value\n",
    "\n",
    "output.to_excel(\"../data/output_multiple_knapsacks.xlsx\")"
   ]
  },
  {
   "cell_type": "code",
   "execution_count": null,
   "id": "50e66e71",
   "metadata": {},
   "outputs": [],
   "source": []
  }
 ],
 "metadata": {
  "kernelspec": {
   "display_name": "Python 3.9.7 ('venv': venv)",
   "language": "python",
   "name": "python3"
  },
  "language_info": {
   "codemirror_mode": {
    "name": "ipython",
    "version": 3
   },
   "file_extension": ".py",
   "mimetype": "text/x-python",
   "name": "python",
   "nbconvert_exporter": "python",
   "pygments_lexer": "ipython3",
   "version": "3.9.7"
  },
  "vscode": {
   "interpreter": {
    "hash": "bc08d11936453eaa7fe55368990a6972dd4c9fc3768bd9ccbb85511fe4757f39"
   }
  }
 },
 "nbformat": 4,
 "nbformat_minor": 5
}
