{
 "cells": [
  {
   "attachments": {},
   "cell_type": "markdown",
   "id": "ad0866b0",
   "metadata": {},
   "source": [
    "# Simple knapsack\n",
    "\n",
    "## Intro\n",
    "\n",
    "This is an integer linear programming problem in which the goal is to maximize the value transported in a knapsack limited by capacity by selecting the most suitable items."
   ]
  },
  {
   "attachments": {},
   "cell_type": "markdown",
   "id": "83f5e182",
   "metadata": {},
   "source": [
    "## Model statement\n",
    "\n",
    "$$\n",
    "\\begin{align}\n",
    "    \\text{max} \\quad & \\sum_{i \\in I}{c_{i} x_{i}} \\\\\n",
    "    \\text{s.t.} \\quad & \\sum_{i \\in I}{w_{i} x_{i}} \\leq k \\\\\n",
    "    & x_{i} \\in \\left \\{ 0, 1 \\right \\} & \\forall ~i \\in I\\\\\n",
    "\\end{align}\n",
    "$$"
   ]
  },
  {
   "cell_type": "code",
   "execution_count": 1,
   "id": "89ed121d",
   "metadata": {},
   "outputs": [],
   "source": [
    "import numpy as np\n",
    "from scipy.optimize import linprog\n",
    "import pyomo.environ as pyo"
   ]
  },
  {
   "cell_type": "code",
   "execution_count": 2,
   "id": "266fa90c",
   "metadata": {},
   "outputs": [],
   "source": [
    "# Set of items\n",
    "I = list(range(1, 11))\n",
    "\n",
    "# Random seed\n",
    "np.random.seed(12)\n",
    "\n",
    "# Weight associated with each item\n",
    "w = dict(zip(I, np.random.normal(loc=5.0, scale=1.0, size=10).clip(0.5, 10.0)))\n",
    "\n",
    "# Price associated with each item\n",
    "price = dict(zip(I, np.random.normal(loc=10.0, scale=1.0, size=10).clip(0.5, 20.0)))\n",
    "\n",
    "# knapsack capacity\n",
    "k = 21.0"
   ]
  },
  {
   "attachments": {},
   "cell_type": "markdown",
   "id": "d3147bc5",
   "metadata": {},
   "source": [
    "## Using pyomo"
   ]
  },
  {
   "cell_type": "code",
   "execution_count": 3,
   "id": "3230c35d",
   "metadata": {},
   "outputs": [],
   "source": [
    "model = pyo.ConcreteModel()"
   ]
  },
  {
   "attachments": {},
   "cell_type": "markdown",
   "id": "0d93e140",
   "metadata": {},
   "source": [
    "### Sets"
   ]
  },
  {
   "cell_type": "code",
   "execution_count": 4,
   "id": "001b5e09",
   "metadata": {},
   "outputs": [],
   "source": [
    "model.I = pyo.Set(initialize=I)"
   ]
  },
  {
   "attachments": {},
   "cell_type": "markdown",
   "id": "f1142256",
   "metadata": {},
   "source": [
    "### Parameters"
   ]
  },
  {
   "cell_type": "code",
   "execution_count": 5,
   "id": "427c2e74",
   "metadata": {},
   "outputs": [],
   "source": [
    "# Parameters of the knapsack\n",
    "model.k = pyo.Param(initialize=k)"
   ]
  },
  {
   "cell_type": "code",
   "execution_count": 6,
   "id": "e906055a",
   "metadata": {},
   "outputs": [],
   "source": [
    "# Parameters of the items\n",
    "model.w = pyo.Param(model.I, initialize=w)\n",
    "model.c = pyo.Param(model.I, initialize=price)"
   ]
  },
  {
   "attachments": {},
   "cell_type": "markdown",
   "id": "006f711b",
   "metadata": {},
   "source": [
    "### Variables"
   ]
  },
  {
   "cell_type": "code",
   "execution_count": 7,
   "id": "d8efbb32",
   "metadata": {},
   "outputs": [],
   "source": [
    "model.x = pyo.Var(model.I, within=pyo.Integers, bounds=(0, 1))"
   ]
  },
  {
   "attachments": {},
   "cell_type": "markdown",
   "id": "1fb29e04",
   "metadata": {},
   "source": [
    "### Constraints"
   ]
  },
  {
   "cell_type": "code",
   "execution_count": 8,
   "id": "d56d7b13",
   "metadata": {},
   "outputs": [],
   "source": [
    "def capacity_constraint(model):\n",
    "    return sum(model.x[i] * model.w[i] for i in model.I) <= model.k\n",
    "\n",
    "model.capacity_constraint = pyo.Constraint(rule=capacity_constraint)"
   ]
  },
  {
   "attachments": {},
   "cell_type": "markdown",
   "id": "f78b6f13",
   "metadata": {},
   "source": [
    "### Objective"
   ]
  },
  {
   "cell_type": "code",
   "execution_count": 9,
   "id": "5ffd2708",
   "metadata": {},
   "outputs": [],
   "source": [
    "def obj_function(model):\n",
    "    return sum(model.x[i] * model.c[i] for i in model.I)\n",
    "    \n",
    "model.objective = pyo.Objective(rule=obj_function, sense=pyo.maximize)"
   ]
  },
  {
   "attachments": {},
   "cell_type": "markdown",
   "id": "3568f920",
   "metadata": {},
   "source": [
    "### Solve"
   ]
  },
  {
   "cell_type": "code",
   "execution_count": 10,
   "id": "d2f4d4ac",
   "metadata": {},
   "outputs": [],
   "source": [
    "opt = pyo.SolverFactory('cbc')\n",
    "opt.options['sec'] = 120"
   ]
  },
  {
   "cell_type": "code",
   "execution_count": 11,
   "id": "c0fda459",
   "metadata": {},
   "outputs": [],
   "source": [
    "solution = opt.solve(model)"
   ]
  },
  {
   "cell_type": "code",
   "execution_count": 12,
   "id": "fb0cd87d",
   "metadata": {},
   "outputs": [
    {
     "name": "stdout",
     "output_type": "stream",
     "text": [
      "objective : Size=1, Index=None, Active=True\n",
      "    Key  : Active : Value\n",
      "    None :   True : 49.23378473504652\n"
     ]
    }
   ],
   "source": [
    "model.objective.display()"
   ]
  },
  {
   "cell_type": "code",
   "execution_count": 13,
   "id": "2086ee08",
   "metadata": {},
   "outputs": [
    {
     "name": "stdout",
     "output_type": "stream",
     "text": [
      "x : Size=10, Index=I\n",
      "    Key : Lower : Value : Upper : Fixed : Stale : Domain\n",
      "      1 :     0 :   0.0 :     1 : False : False : Integers\n",
      "      2 :     0 :   1.0 :     1 : False : False : Integers\n",
      "      3 :     0 :   0.0 :     1 : False : False : Integers\n",
      "      4 :     0 :   1.0 :     1 : False : False : Integers\n",
      "      5 :     0 :   0.0 :     1 : False : False : Integers\n",
      "      6 :     0 :   1.0 :     1 : False : False : Integers\n",
      "      7 :     0 :   1.0 :     1 : False : False : Integers\n",
      "      8 :     0 :   1.0 :     1 : False : False : Integers\n",
      "      9 :     0 :   0.0 :     1 : False : False : Integers\n",
      "     10 :     0 :   0.0 :     1 : False : False : Integers\n"
     ]
    }
   ],
   "source": [
    "model.x.display()"
   ]
  },
  {
   "attachments": {},
   "cell_type": "markdown",
   "id": "2976a025",
   "metadata": {},
   "source": [
    "## Using scipy"
   ]
  },
  {
   "attachments": {},
   "cell_type": "markdown",
   "id": "f29278cf",
   "metadata": {},
   "source": [
    "We must formulate this problem using the following matrix notation:\n",
    "\n",
    "$$\n",
    "\\begin{align}\n",
    "    \\text{min} \\quad & \\boldsymbol{c}^T \\boldsymbol{x} \\\\\n",
    "    \\text{s.t.} \\quad & \\boldsymbol{A}_{eq} \\boldsymbol{x} = \\boldsymbol{b}_{eq} \\\\\n",
    "    & \\boldsymbol{A}_{ub} \\boldsymbol{x} \\leq \\boldsymbol{b}_{ub}\\\\\n",
    "    & \\boldsymbol{l} \\leq \\boldsymbol{x} \\leq \\boldsymbol{u}\n",
    "\\end{align}\n",
    "$$"
   ]
  },
  {
   "attachments": {},
   "cell_type": "markdown",
   "id": "270f419b",
   "metadata": {},
   "source": [
    "**Decision variables:**\n",
    "\n",
    "$\\boldsymbol{x}$ - Column vector with the amount of each item added to the knapsack\n",
    "\n",
    "**Fixed parameters**\n",
    "\n",
    "$\\boldsymbol{c}$ - Negative value of the value of each item\n",
    "\n",
    "$\\boldsymbol{A}_{ub}$ - Row vector (two-dimensional in scipy) with the weight of each item $i$\n",
    "\n",
    "$\\boldsymbol{b}_{ub}$ - One-dimensional vector of knapsack capacity"
   ]
  },
  {
   "cell_type": "code",
   "execution_count": 14,
   "id": "8419d649",
   "metadata": {},
   "outputs": [],
   "source": [
    "# Costs\n",
    "c = -np.array(list(price.values()))\n",
    "\n",
    "# Inequality constraints matrix\n",
    "A_ub = np.atleast_2d(list(w.values()))\n",
    "\n",
    "# Upper bounds for linear inequality constraints\n",
    "b_ub = np.array([k])\n",
    "\n",
    "# Bounds (one quantity of each item)\n",
    "bounds = [(0, 1),] * 10"
   ]
  },
  {
   "cell_type": "code",
   "execution_count": 15,
   "id": "7ec85268",
   "metadata": {},
   "outputs": [
    {
     "name": "stdout",
     "output_type": "stream",
     "text": [
      "        message: Optimization terminated successfully. (HiGHS Status 7: Optimal)\n",
      "        success: True\n",
      "         status: 0\n",
      "            fun: -50.63937756306515\n",
      "              x: [ 0.000e+00  1.000e+00  1.371e-01  1.000e+00  0.000e+00\n",
      "                   1.000e+00  1.000e+00  0.000e+00  1.000e+00  0.000e+00]\n",
      "            nit: 1\n",
      "          lower:  residual: [ 0.000e+00  1.000e+00  1.371e-01  1.000e+00\n",
      "                              0.000e+00  1.000e+00  1.000e+00  0.000e+00\n",
      "                              1.000e+00  0.000e+00]\n",
      "                 marginals: [ 2.182e+00  0.000e+00  0.000e+00  0.000e+00\n",
      "                              8.345e-01  0.000e+00  0.000e+00  1.242e+00\n",
      "                              0.000e+00  5.451e+00]\n",
      "          upper:  residual: [ 1.000e+00  0.000e+00  8.629e-01  0.000e+00\n",
      "                              1.000e+00  0.000e+00  0.000e+00  1.000e+00\n",
      "                              0.000e+00  1.000e+00]\n",
      "                 marginals: [ 0.000e+00 -1.332e+00  0.000e+00 -1.802e+00\n",
      "                              0.000e+00 -2.543e+00 -4.188e-01  0.000e+00\n",
      "                             -9.568e-02  0.000e+00]\n",
      "          eqlin:  residual: []\n",
      "                 marginals: []\n",
      "        ineqlin:  residual: [ 0.000e+00]\n",
      "                 marginals: [-2.117e+00]\n",
      " mip_node_count: 0\n",
      " mip_dual_bound: 0.0\n",
      "        mip_gap: 0.0\n"
     ]
    }
   ],
   "source": [
    "sol = linprog(c, A_ub=A_ub, b_ub=b_ub, bounds=bounds)\n",
    "print(sol)"
   ]
  },
  {
   "cell_type": "markdown",
   "id": "cd5a9fb7",
   "metadata": {},
   "source": [
    "## Integrality constraints\n",
    "\n",
    "Since version 1.9.0 scipy accepts integrality constraints as it now as a wrapper to a MILP solver.\n",
    "\n",
    "$x_i \\in \\Z \\quad \\forall i \\in I$"
   ]
  },
  {
   "cell_type": "code",
   "execution_count": 16,
   "id": "cfbb6491",
   "metadata": {},
   "outputs": [
    {
     "name": "stdout",
     "output_type": "stream",
     "text": [
      "        message: Optimization terminated successfully. (HiGHS Status 7: Optimal)\n",
      "        success: True\n",
      "         status: 0\n",
      "            fun: -49.233784735046534\n",
      "              x: [ 0.000e+00  1.000e+00 -0.000e+00  1.000e+00  0.000e+00\n",
      "                   1.000e+00  1.000e+00  1.000e+00 -0.000e+00  0.000e+00]\n",
      "            nit: -1\n",
      "          lower:  residual: [ 0.000e+00  1.000e+00 -0.000e+00  1.000e+00\n",
      "                              0.000e+00  1.000e+00  1.000e+00  1.000e+00\n",
      "                             -0.000e+00  0.000e+00]\n",
      "                 marginals: [ 0.000e+00  0.000e+00  0.000e+00  0.000e+00\n",
      "                              0.000e+00  0.000e+00  0.000e+00  0.000e+00\n",
      "                              0.000e+00  0.000e+00]\n",
      "          upper:  residual: [ 1.000e+00 -8.882e-16  1.000e+00  0.000e+00\n",
      "                              1.000e+00  0.000e+00  0.000e+00  0.000e+00\n",
      "                              1.000e+00  1.000e+00]\n",
      "                 marginals: [ 0.000e+00  0.000e+00  0.000e+00  0.000e+00\n",
      "                              0.000e+00  0.000e+00  0.000e+00  0.000e+00\n",
      "                              0.000e+00  0.000e+00]\n",
      "          eqlin:  residual: []\n",
      "                 marginals: []\n",
      "        ineqlin:  residual: [ 3.198e-02]\n",
      "                 marginals: [ 0.000e+00]\n",
      " mip_node_count: 1\n",
      " mip_dual_bound: -49.233784735046534\n",
      "        mip_gap: 0.0\n"
     ]
    }
   ],
   "source": [
    "integrality_vector = np.full(c.shape[0], 1)\n",
    "\n",
    "sol_int = linprog(c, A_ub=A_ub, b_ub=b_ub, bounds=bounds, integrality=integrality_vector)\n",
    "print(sol_int)"
   ]
  },
  {
   "cell_type": "code",
   "execution_count": 17,
   "id": "747e5443",
   "metadata": {},
   "outputs": [
    {
     "name": "stdout",
     "output_type": "stream",
     "text": [
      "Item 1 was not added in any situation\n",
      "Item 2 was added in both situations\n",
      "Item 3 was partially added in relaxed problem only - value 0.14\n",
      "Item 4 was added in both situations\n",
      "Item 5 was not added in any situation\n",
      "Item 6 was added in both situations\n",
      "Item 7 was added in both situations\n",
      "Item 8 was added only in integer problem\n",
      "Item 9 was completely added in relaxed problem only\n",
      "Item 10 was not added in any situation\n"
     ]
    }
   ],
   "source": [
    "for i, item in enumerate(I):\n",
    "    if abs(sol.x[i] - model.x[item].value) <= 1e-3:\n",
    "        if sol.x[i] >= 1e-3:\n",
    "            print(f\"Item {item} was added in both situations\")\n",
    "        else:\n",
    "            print(f\"Item {item} was not added in any situation\")\n",
    "        \n",
    "    elif sol.x[i] > model.x[item].value + 1e-3:\n",
    "        if sol.x[i] == 1:\n",
    "            print(f\"Item {item} was completely added in relaxed problem only\")\n",
    "        else:\n",
    "            xi = sol.x[i]\n",
    "            print(f\"Item {item} was partially added in relaxed problem only - value {xi:.2f}\")\n",
    "            \n",
    "    elif sol.x[i] + 1e-3 < model.x[item].value:\n",
    "        if sol.x[i] <= 1e-3:\n",
    "            print(f\"Item {item} was added only in integer problem\")\n",
    "        else:\n",
    "            xi = sol.x[i]\n",
    "            print(f\"Item {item} was partially added in relaxed problem - value {xi:.2f} - but completely added in the integer version\")"
   ]
  },
  {
   "cell_type": "code",
   "execution_count": 18,
   "id": "478b7389",
   "metadata": {},
   "outputs": [
    {
     "name": "stdout",
     "output_type": "stream",
     "text": [
      "weight_constraint : Size=1\n",
      "    Key  : Lower : Body              : Upper\n",
      "    None :  None : 20.96801655429026 :  21.0\n"
     ]
    }
   ],
   "source": [
    "model.weight_constraint.display()"
   ]
  },
  {
   "cell_type": "code",
   "execution_count": null,
   "id": "148b2b33",
   "metadata": {},
   "outputs": [],
   "source": []
  }
 ],
 "metadata": {
  "kernelspec": {
   "display_name": "Python 3.9.7 ('venv': venv)",
   "language": "python",
   "name": "python3"
  },
  "language_info": {
   "codemirror_mode": {
    "name": "ipython",
    "version": 3
   },
   "file_extension": ".py",
   "mimetype": "text/x-python",
   "name": "python",
   "nbconvert_exporter": "python",
   "pygments_lexer": "ipython3",
   "version": "3.9.7"
  },
  "vscode": {
   "interpreter": {
    "hash": "bc08d11936453eaa7fe55368990a6972dd4c9fc3768bd9ccbb85511fe4757f39"
   }
  }
 },
 "nbformat": 4,
 "nbformat_minor": 5
}
