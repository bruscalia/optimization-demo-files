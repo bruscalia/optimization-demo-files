{
 "cells": [
  {
   "cell_type": "markdown",
   "id": "ad0866b0",
   "metadata": {},
   "source": [
    "# Simple knapsack\n",
    "\n",
    "## Intro\n",
    "\n",
    "This is a basic integer linear programming problem in which the goal is to maximize the value transported in a knapsack limited by capacity by selecting the most suitable items."
   ]
  },
  {
   "cell_type": "code",
   "execution_count": 1,
   "id": "89ed121d",
   "metadata": {},
   "outputs": [],
   "source": [
    "import numpy as np\n",
    "import pandas as pd\n",
    "from scipy.optimize import linprog\n",
    "import pyomo.environ as pyo"
   ]
  },
  {
   "cell_type": "markdown",
   "id": "f6eda831",
   "metadata": {},
   "source": [
    "# Relaxed linear problem"
   ]
  },
  {
   "attachments": {},
   "cell_type": "markdown",
   "id": "282c99e0",
   "metadata": {},
   "source": [
    "A linear problem can be written as:\n",
    "\n",
    "$$\n",
    "\\begin{align}\n",
    "    \\text{minimize}~ \\;\\; & \\boldsymbol{c}^T \\boldsymbol{x} \\\\\n",
    "    \\text{subject to}~ \\;\\; & \\boldsymbol{A}_{eq} \\boldsymbol{x} = \\boldsymbol{b}_{eq} \\\\\n",
    "    & \\boldsymbol{A}_{ub} \\boldsymbol{x} \\leq \\boldsymbol{b}_{ub}\\\\\n",
    "    & \\boldsymbol{l} \\leq \\boldsymbol{x} \\leq \\boldsymbol{u}\n",
    "\\end{align}\n",
    "$$"
   ]
  },
  {
   "cell_type": "markdown",
   "id": "284bf51c",
   "metadata": {},
   "source": [
    "## Formulation"
   ]
  },
  {
   "cell_type": "markdown",
   "id": "3f852f68",
   "metadata": {},
   "source": [
    "**Decision variables:**\n",
    "\n",
    "$\\boldsymbol{x}$ - Column vector with the amount of each item added to the knapsack\n",
    "\n",
    "**Fixed parameters**\n",
    "\n",
    "$\\boldsymbol{c}$ - Cost associated with each decision variable (negative of its value)\n",
    "\n",
    "$\\boldsymbol{A}_{ub}$ - Matrix of inequality constraint terms $\\space\\\\$\n",
    "$a_{1, i}$ Weight per unit of item $i\\\\$\n",
    "$a_{2, i}$ Volume per unit of item $i$\n",
    "\n",
    "$kw$ - Knapsack weight capacity $\\space\\\\$\n",
    "$kv$ - Knapsack volume capacity\n",
    "\n",
    "$b_{ub} = \\begin{bmatrix} kw \\\\ kv \\end{bmatrix}$"
   ]
  },
  {
   "cell_type": "code",
   "execution_count": 2,
   "id": "266fa90c",
   "metadata": {},
   "outputs": [],
   "source": [
    "#Set of items\n",
    "I = set(range(1, 11))\n",
    "\n",
    "#Random seed\n",
    "np.random.seed(12)\n",
    "\n",
    "#Weight associated with each item\n",
    "w = dict(zip(I, np.random.normal(loc=5.0, scale=1.0, size=10).clip(0.5, 10.0)))\n",
    "\n",
    "#Volume associated with each item\n",
    "v = dict(zip(I, np.random.normal(loc=6.0, scale=2.0, size=10).clip(0.5, 10.0)))\n",
    "\n",
    "#Price associated with each item\n",
    "price = dict(zip(I, np.random.normal(loc=10.0, scale=1.0, size=10).clip(0.5, 20.0)))\n",
    "\n",
    "#knapsack capacity\n",
    "kw, kv = 21.0, 22.0"
   ]
  },
  {
   "cell_type": "code",
   "execution_count": 3,
   "id": "4a170946",
   "metadata": {},
   "outputs": [],
   "source": [
    "#Costs\n",
    "c = -np.array(list(price.values()))\n",
    "\n",
    "#Inequality constraints matrix\n",
    "A_ub = np.array([\n",
    "    np.array(list(w.values())),\n",
    "    np.array(list(v.values()))\n",
    "])\n",
    "\n",
    "#Upper bounds for linear inequality constraints\n",
    "b_ub = np.array([kw, kv])\n",
    "\n",
    "#Bounds (one quantity of each item)\n",
    "bounds = [(0, 1),] * 10"
   ]
  },
  {
   "cell_type": "code",
   "execution_count": 4,
   "id": "a75ae879",
   "metadata": {},
   "outputs": [],
   "source": [
    "sol = linprog(c, A_ub=A_ub, b_ub=b_ub, bounds=bounds)"
   ]
  },
  {
   "cell_type": "code",
   "execution_count": 5,
   "id": "c992719d",
   "metadata": {},
   "outputs": [
    {
     "name": "stdout",
     "output_type": "stream",
     "text": [
      "           con: array([], dtype=float64)\n",
      " crossover_nit: 0\n",
      "         eqlin:  marginals: array([], dtype=float64)\n",
      "  residual: array([], dtype=float64)\n",
      "           fun: -44.81724486288822\n",
      "       ineqlin:  marginals: array([-0.92802652, -0.88281797])\n",
      "  residual: array([0., 0.])\n",
      "         lower:  marginals: array([0.        , 0.        , 1.4563291 , 0.        , 4.16044983,\n",
      "       0.51043974, 3.41128871, 0.        , 0.        , 5.38565586])\n",
      "  residual: array([1.        , 0.86557109, 0.        , 1.        , 0.        ,\n",
      "       0.        , 0.        , 0.88051214, 1.        , 0.        ])\n",
      "       message: 'Optimization terminated successfully. (HiGHS Status 7: Optimal)'\n",
      "           nit: 2\n",
      "         slack: array([0., 0.])\n",
      "        status: 0\n",
      "       success: True\n",
      "         upper:  marginals: array([-1.18142612,  0.        ,  0.        , -4.31416572,  0.        ,\n",
      "        0.        ,  0.        ,  0.        , -0.41110075,  0.        ])\n",
      "  residual: array([0.        , 0.13442891, 1.        , 0.        , 1.        ,\n",
      "       1.        , 1.        , 0.11948786, 0.        , 1.        ])\n",
      "             x: array([1.        , 0.86557109, 0.        , 1.        , 0.        ,\n",
      "       0.        , 0.        , 0.88051214, 1.        , 0.        ])\n"
     ]
    }
   ],
   "source": [
    "print(sol)"
   ]
  },
  {
   "cell_type": "code",
   "execution_count": 6,
   "id": "9a0a61c6",
   "metadata": {},
   "outputs": [
    {
     "name": "stdout",
     "output_type": "stream",
     "text": [
      "Item 1: 1.000\n",
      "Item 2: 0.866\n",
      "Item 3: 0.000\n",
      "Item 4: 1.000\n",
      "Item 5: 0.000\n",
      "Item 6: 0.000\n",
      "Item 7: 0.000\n",
      "Item 8: 0.881\n",
      "Item 9: 1.000\n",
      "Item 10: 0.000\n"
     ]
    }
   ],
   "source": [
    "for i, item in enumerate(I):\n",
    "    xi = sol.x[i]\n",
    "    print(f\"Item {item}: {xi:.3f}\")"
   ]
  },
  {
   "cell_type": "markdown",
   "id": "114bb27e",
   "metadata": {},
   "source": [
    "We have Items 2 and 8 fraction, which might be unrealistic for some situations. In those, an integer programming algorithm is necessary."
   ]
  },
  {
   "cell_type": "markdown",
   "id": "3da70203",
   "metadata": {},
   "source": [
    "## Integrality constaints"
   ]
  },
  {
   "cell_type": "markdown",
   "id": "eb9fb9eb",
   "metadata": {},
   "source": [
    "Since version 1.9.0 scipy accepts integrality constraints as it now as a wrapper to a MILP solver."
   ]
  },
  {
   "cell_type": "markdown",
   "id": "b2fafd76",
   "metadata": {},
   "source": [
    "$x_i \\in \\Z \\space \\forall i \\in I$"
   ]
  },
  {
   "cell_type": "code",
   "execution_count": 8,
   "id": "e4f910ae",
   "metadata": {},
   "outputs": [],
   "source": [
    "integrality_vector = np.full(c.shape[0], 1)\n",
    "\n",
    "sol_int = linprog(c, A_ub=A_ub, b_ub=b_ub, bounds=bounds, integrality=integrality_vector)"
   ]
  },
  {
   "cell_type": "code",
   "execution_count": 10,
   "id": "8123a6fa",
   "metadata": {},
   "outputs": [
    {
     "name": "stdout",
     "output_type": "stream",
     "text": [
      "           con: array([], dtype=float64)\n",
      " crossover_nit: -1\n",
      "         eqlin:  marginals: array([], dtype=float64)\n",
      "  residual: array([], dtype=float64)\n",
      "           fun: -39.88187183116921\n",
      "       ineqlin:  marginals: array([0., 0.])\n",
      "  residual: array([2.10553798, 1.2618095 ])\n",
      "         lower:  marginals: array([0., 0., 0., 0., 0., 0., 0., 0., 0., 0.])\n",
      "  residual: array([1., 0., 1., 1., 0., 0., 0., 1., 0., 0.])\n",
      "       message: 'Optimization terminated successfully. (HiGHS Status 7: Optimal)'\n",
      "           nit: -1\n",
      "         slack: array([2.10553798, 1.2618095 ])\n",
      "        status: 0\n",
      "       success: True\n",
      "         upper:  marginals: array([0., 0., 0., 0., 0., 0., 0., 0., 0., 0.])\n",
      "  residual: array([0., 1., 0., 0., 1., 1., 1., 0., 1., 1.])\n",
      "             x: array([1., 0., 1., 1., 0., 0., 0., 1., 0., 0.])\n"
     ]
    }
   ],
   "source": [
    "print(sol_int)"
   ]
  },
  {
   "cell_type": "code",
   "execution_count": 9,
   "id": "46b4ce34",
   "metadata": {},
   "outputs": [
    {
     "name": "stdout",
     "output_type": "stream",
     "text": [
      "Item 1: 1.000\n",
      "Item 2: 0.000\n",
      "Item 3: 1.000\n",
      "Item 4: 1.000\n",
      "Item 5: 0.000\n",
      "Item 6: 0.000\n",
      "Item 7: 0.000\n",
      "Item 8: 1.000\n",
      "Item 9: 0.000\n",
      "Item 10: 0.000\n"
     ]
    }
   ],
   "source": [
    "for i, item in enumerate(I):\n",
    "    xi = sol_int.x[i]\n",
    "    print(f\"Item {item}: {xi:.3f}\")"
   ]
  },
  {
   "cell_type": "markdown",
   "id": "b8b8b3cc",
   "metadata": {},
   "source": [
    "# Integer approach"
   ]
  },
  {
   "cell_type": "markdown",
   "id": "d3147bc5",
   "metadata": {},
   "source": [
    "## Create the model"
   ]
  },
  {
   "cell_type": "code",
   "execution_count": 8,
   "id": "3230c35d",
   "metadata": {},
   "outputs": [],
   "source": [
    "model = pyo.ConcreteModel()"
   ]
  },
  {
   "cell_type": "markdown",
   "id": "0d93e140",
   "metadata": {},
   "source": [
    "## Create the sets"
   ]
  },
  {
   "cell_type": "markdown",
   "id": "5b1f3f61",
   "metadata": {},
   "source": [
    "- Set $I$, index $i$: Items"
   ]
  },
  {
   "cell_type": "code",
   "execution_count": 9,
   "id": "001b5e09",
   "metadata": {},
   "outputs": [
    {
     "name": "stdout",
     "output_type": "stream",
     "text": [
      "WARNING: Initializing ordered Set I with a fundamentally unordered data source\n",
      "    (type: set).  This WILL potentially lead to nondeterministic behavior in\n",
      "    Pyomo\n"
     ]
    }
   ],
   "source": [
    "model.I = pyo.Set(initialize=I)"
   ]
  },
  {
   "cell_type": "markdown",
   "id": "f1142256",
   "metadata": {},
   "source": [
    "## Parameters"
   ]
  },
  {
   "cell_type": "markdown",
   "id": "ea733ed0",
   "metadata": {},
   "source": [
    "$kw\\\\$\n",
    "$kv\\\\$\n",
    "$v_i \\space \\forall \\space i \\in I\\\\$\n",
    "$w_i \\space \\forall \\space i \\in I\\\\$\n",
    "$c_i \\space \\forall \\space i \\in I\\\\$"
   ]
  },
  {
   "cell_type": "code",
   "execution_count": 10,
   "id": "427c2e74",
   "metadata": {},
   "outputs": [],
   "source": [
    "#Parameters of the knapsack\n",
    "model.kw = pyo.Param(initialize=kw)\n",
    "model.kv = pyo.Param(initialize=kv)"
   ]
  },
  {
   "cell_type": "code",
   "execution_count": 11,
   "id": "e906055a",
   "metadata": {},
   "outputs": [],
   "source": [
    "#Parameters of the items\n",
    "model.v = pyo.Param(model.I, initialize=v)\n",
    "model.w = pyo.Param(model.I, initialize=w)\n",
    "model.c = pyo.Param(model.I, initialize=price)"
   ]
  },
  {
   "cell_type": "markdown",
   "id": "006f711b",
   "metadata": {},
   "source": [
    "## Create variables"
   ]
  },
  {
   "cell_type": "markdown",
   "id": "0b9fd682",
   "metadata": {},
   "source": [
    "$x_{i}  \\space \\forall \\space i \\in I$"
   ]
  },
  {
   "cell_type": "code",
   "execution_count": 12,
   "id": "d8efbb32",
   "metadata": {},
   "outputs": [],
   "source": [
    "model.x = pyo.Var(model.I, within=pyo.Integers, bounds=(0, 1))"
   ]
  },
  {
   "cell_type": "markdown",
   "id": "1fb29e04",
   "metadata": {},
   "source": [
    "# Capacity constraints"
   ]
  },
  {
   "cell_type": "markdown",
   "id": "6281ee93",
   "metadata": {},
   "source": [
    "$\\displaystyle \\sum_{i \\in I} x_{i} v_{i} \\leq kv\\\\ \\sum_{i \\in I} x_{i} w_{i} \\leq kw$"
   ]
  },
  {
   "cell_type": "code",
   "execution_count": 13,
   "id": "d56d7b13",
   "metadata": {},
   "outputs": [],
   "source": [
    "def weight_constraint(model):\n",
    "    \n",
    "    return sum(model.x[i] * model.w[i] for i in model.I) <= model.kw\n",
    "\n",
    "model.weight_constraint = pyo.Constraint(rule=weight_constraint)\n",
    "\n",
    "def volume_constraint(model):\n",
    "    \n",
    "    return sum(model.x[i] * model.v[i] for i in model.I) <= model.kv\n",
    "\n",
    "model.volume_constraint = pyo.Constraint(rule=volume_constraint)"
   ]
  },
  {
   "cell_type": "markdown",
   "id": "f78b6f13",
   "metadata": {},
   "source": [
    "## Objective function"
   ]
  },
  {
   "attachments": {},
   "cell_type": "markdown",
   "id": "7cb0106a",
   "metadata": {},
   "source": [
    "As $c_i$ is defined here as the positive corresponding value,\n",
    "\n",
    "$\\displaystyle \\text{maximize} \\space \\sum_{i \\in I} x_{i} c_{i}$"
   ]
  },
  {
   "cell_type": "code",
   "execution_count": 14,
   "id": "5ffd2708",
   "metadata": {},
   "outputs": [],
   "source": [
    "def obj_function(model):\n",
    "    \n",
    "    return sum(model.x[i] * model.c[i] for i in model.I)\n",
    "    \n",
    "model.objective = pyo.Objective(rule=obj_function, sense=pyo.maximize)"
   ]
  },
  {
   "cell_type": "code",
   "execution_count": 15,
   "id": "d2f4d4ac",
   "metadata": {},
   "outputs": [],
   "source": [
    "opt = pyo.SolverFactory('glpk', executable='C:\\\\glpk-4.65\\\\w64\\\\glpsol.exe')\n",
    "opt.options['tmlim'] = 120"
   ]
  },
  {
   "cell_type": "code",
   "execution_count": 16,
   "id": "c0fda459",
   "metadata": {},
   "outputs": [
    {
     "name": "stdout",
     "output_type": "stream",
     "text": [
      "\n",
      "Problem: \n",
      "- Name: unknown\n",
      "  Lower bound: 39.8818718311692\n",
      "  Upper bound: 39.8818718311692\n",
      "  Number of objectives: 1\n",
      "  Number of constraints: 3\n",
      "  Number of variables: 11\n",
      "  Number of nonzeros: 21\n",
      "  Sense: maximize\n",
      "Solver: \n",
      "- Status: ok\n",
      "  Termination condition: optimal\n",
      "  Statistics: \n",
      "    Branch and bound: \n",
      "      Number of bounded subproblems: 27\n",
      "      Number of created subproblems: 27\n",
      "  Error rc: 0\n",
      "  Time: 0.06283187866210938\n",
      "Solution: \n",
      "- number of solutions: 0\n",
      "  number of solutions displayed: 0\n",
      "\n"
     ]
    }
   ],
   "source": [
    "solution = opt.solve(model)\n",
    "print(solution)"
   ]
  },
  {
   "cell_type": "code",
   "execution_count": 17,
   "id": "fb0cd87d",
   "metadata": {},
   "outputs": [
    {
     "name": "stdout",
     "output_type": "stream",
     "text": [
      "objective : Size=1, Index=None, Active=True\n",
      "    Key  : Active : Value\n",
      "    None :   True : 39.88187183116921\n"
     ]
    }
   ],
   "source": [
    "model.objective.display()"
   ]
  },
  {
   "cell_type": "code",
   "execution_count": 18,
   "id": "2086ee08",
   "metadata": {},
   "outputs": [
    {
     "name": "stdout",
     "output_type": "stream",
     "text": [
      "x : Size=10, Index=I\n",
      "    Key : Lower : Value : Upper : Fixed : Stale : Domain\n",
      "      1 :     0 :   1.0 :     1 : False : False : Integers\n",
      "      2 :     0 :   0.0 :     1 : False : False : Integers\n",
      "      3 :     0 :   1.0 :     1 : False : False : Integers\n",
      "      4 :     0 :   1.0 :     1 : False : False : Integers\n",
      "      5 :     0 :   0.0 :     1 : False : False : Integers\n",
      "      6 :     0 :   0.0 :     1 : False : False : Integers\n",
      "      7 :     0 :   0.0 :     1 : False : False : Integers\n",
      "      8 :     0 :   1.0 :     1 : False : False : Integers\n",
      "      9 :     0 :   0.0 :     1 : False : False : Integers\n",
      "     10 :     0 :   0.0 :     1 : False : False : Integers\n"
     ]
    }
   ],
   "source": [
    "model.x.display()"
   ]
  },
  {
   "cell_type": "code",
   "execution_count": 19,
   "id": "f9535c14",
   "metadata": {},
   "outputs": [
    {
     "data": {
      "text/plain": [
       "array([9.99999999e-01, 8.65571091e-01, 7.40355900e-10, 1.00000000e+00,\n",
       "       2.62434803e-10, 2.98795063e-09, 2.33299681e-10, 8.80512141e-01,\n",
       "       9.99999997e-01, 2.05849974e-10])"
      ]
     },
     "execution_count": 19,
     "metadata": {},
     "output_type": "execute_result"
    }
   ],
   "source": [
    "sol.x"
   ]
  },
  {
   "cell_type": "code",
   "execution_count": 20,
   "id": "747e5443",
   "metadata": {},
   "outputs": [
    {
     "name": "stdout",
     "output_type": "stream",
     "text": [
      "Item 1 was added in both situations\n",
      "Item 2 was partially added in relaxed problem only - value 0.87\n",
      "Item 3 was added only in integer problem\n",
      "Item 4 was added in both situations\n",
      "Item 5 was not added in any situation\n",
      "Item 6 was not added in any situation\n",
      "Item 7 was not added in any situation\n",
      "Item 8 was partially added in relaxed problem - value 0.88 - but completely added in the integer version\n",
      "Item 9 was partially added in relaxed problem only - value 1.00\n",
      "Item 10 was not added in any situation\n"
     ]
    }
   ],
   "source": [
    "for i, item in enumerate(I):\n",
    "    if abs(sol.x[i] - model.x[item].value) <= 1e-3:\n",
    "        if sol.x[i] >= 1e-3:\n",
    "            print(f\"Item {item} was added in both situations\")\n",
    "        else:\n",
    "            print(f\"Item {item} was not added in any situation\")\n",
    "        \n",
    "    elif sol.x[i] > model.x[item].value + 1e-3:\n",
    "        if sol.x[i] == 1:\n",
    "            print(f\"Item {item} was completely added in relaxed problem only\")\n",
    "        else:\n",
    "            xi = sol.x[i]\n",
    "            print(f\"Item {item} was partially added in relaxed problem only - value {xi:.2f}\")\n",
    "            \n",
    "    elif sol.x[i] + 1e-3 < model.x[item].value:\n",
    "        if sol.x[i] <= 1e-3:\n",
    "            print(f\"Item {item} was added only in integer problem\")\n",
    "        else:\n",
    "            xi = sol.x[i]\n",
    "            print(f\"Item {item} was partially added in relaxed problem - value {xi:.2f} - but completely added in the integer version\")"
   ]
  },
  {
   "cell_type": "code",
   "execution_count": 21,
   "id": "478b7389",
   "metadata": {},
   "outputs": [
    {
     "name": "stdout",
     "output_type": "stream",
     "text": [
      "weight_constraint : Size=1\n",
      "    Key  : Lower : Body               : Upper\n",
      "    None :  None : 18.894462023985934 :  21.0\n"
     ]
    }
   ],
   "source": [
    "model.weight_constraint.display()"
   ]
  },
  {
   "cell_type": "code",
   "execution_count": 22,
   "id": "733c6013",
   "metadata": {},
   "outputs": [
    {
     "name": "stdout",
     "output_type": "stream",
     "text": [
      "volume_constraint : Size=1\n",
      "    Key  : Lower : Body              : Upper\n",
      "    None :  None : 20.73819050160827 :  22.0\n"
     ]
    }
   ],
   "source": [
    "model.volume_constraint.display()"
   ]
  },
  {
   "cell_type": "code",
   "execution_count": null,
   "id": "148b2b33",
   "metadata": {},
   "outputs": [],
   "source": []
  }
 ],
 "metadata": {
  "kernelspec": {
   "display_name": "Python 3.9.7 ('venv': venv)",
   "language": "python",
   "name": "python3"
  },
  "language_info": {
   "codemirror_mode": {
    "name": "ipython",
    "version": 3
   },
   "file_extension": ".py",
   "mimetype": "text/x-python",
   "name": "python",
   "nbconvert_exporter": "python",
   "pygments_lexer": "ipython3",
   "version": "3.9.7 (tags/v3.9.7:1016ef3, Aug 30 2021, 20:19:38) [MSC v.1929 64 bit (AMD64)]"
  },
  "vscode": {
   "interpreter": {
    "hash": "bc08d11936453eaa7fe55368990a6972dd4c9fc3768bd9ccbb85511fe4757f39"
   }
  }
 },
 "nbformat": 4,
 "nbformat_minor": 5
}
