{
 "cells": [
  {
   "attachments": {},
   "cell_type": "markdown",
   "id": "ad0866b0",
   "metadata": {},
   "source": [
    "# Knapsack problem\n",
    "\n",
    "## Intro\n",
    "\n",
    "This is an integer linear programming problem in which the goal is to maximize the value transported in a knapsack limited by capacity by selecting the most suitable items."
   ]
  },
  {
   "attachments": {},
   "cell_type": "markdown",
   "id": "e5ccee7e",
   "metadata": {},
   "source": [
    "## Model statement\n",
    "\n",
    "$$\n",
    "\\begin{align}\n",
    "    \\text{max} \\quad & \\sum_{i \\in I}{c_{i} x_{i}} \\\\\n",
    "    \\text{s.t.} \\quad & \\sum_{i \\in I}{w_{i} x_{i}} \\leq k_{w} & \\forall ~i \\in I\\\\\n",
    "    & \\sum_{i \\in I}{v_{i} x_{i}} \\leq k_{v} & \\forall ~i \\in I\\\\\n",
    "    & x_{i} \\in \\left \\{ 0, 1 \\right \\} & \\forall ~i \\in I\\\\\n",
    "\\end{align}\n",
    "$$"
   ]
  },
  {
   "cell_type": "code",
   "execution_count": 1,
   "id": "89ed121d",
   "metadata": {},
   "outputs": [],
   "source": [
    "import numpy as np\n",
    "import pandas as pd\n",
    "from scipy.optimize import linprog\n",
    "import pyomo.environ as pyo"
   ]
  },
  {
   "attachments": {},
   "cell_type": "markdown",
   "id": "f6eda831",
   "metadata": {},
   "source": [
    "## Using scipy"
   ]
  },
  {
   "attachments": {},
   "cell_type": "markdown",
   "id": "282c99e0",
   "metadata": {},
   "source": [
    "We must formulate this problem using the following matrix notation:\n",
    "\n",
    "$$\n",
    "\\begin{align}\n",
    "    \\text{min} \\quad & \\boldsymbol{c}^T \\boldsymbol{x} \\\\\n",
    "    \\text{s.t.} \\quad & \\boldsymbol{A}_{eq} \\boldsymbol{x} = \\boldsymbol{b}_{eq} \\\\\n",
    "    & \\boldsymbol{A}_{ub} \\boldsymbol{x} \\leq \\boldsymbol{b}_{ub}\\\\\n",
    "    & \\boldsymbol{l} \\leq \\boldsymbol{x} \\leq \\boldsymbol{u}\n",
    "\\end{align}\n",
    "$$"
   ]
  },
  {
   "attachments": {},
   "cell_type": "markdown",
   "id": "3f852f68",
   "metadata": {},
   "source": [
    "**Decision variables:**\n",
    "\n",
    "$\\boldsymbol{x}$ - Column vector with the amount of each item added to the knapsack\n",
    "\n",
    "**Fixed parameters**\n",
    "\n",
    "$\\boldsymbol{c}$ - Cost associated with each decision variable (negative of its value)\n",
    "\n",
    "$\\boldsymbol{A}_{ub}$ - Matrix of inequality constraint terms\\\n",
    "$a_{1, i}$ Weight per unit of item $i\\\\$\n",
    "$a_{2, i}$ Volume per unit of item $i$\n",
    "\n",
    "$k_w$ - Knapsack weight capacity\\\n",
    "$k_v$ - Knapsack volume capacity\n",
    "\n",
    "$b_{ub} = \\begin{bmatrix} k_w \\\\ k_v \\end{bmatrix}$"
   ]
  },
  {
   "cell_type": "code",
   "execution_count": 2,
   "id": "266fa90c",
   "metadata": {},
   "outputs": [],
   "source": [
    "#Set of items\n",
    "I = list(range(1, 11))\n",
    "\n",
    "#Random seed\n",
    "np.random.seed(12)\n",
    "\n",
    "#Weight associated with each item\n",
    "w = dict(zip(I, np.random.normal(loc=5.0, scale=1.0, size=10).clip(0.5, 10.0)))\n",
    "\n",
    "#Volume associated with each item\n",
    "v = dict(zip(I, np.random.normal(loc=6.0, scale=2.0, size=10).clip(0.5, 10.0)))\n",
    "\n",
    "#Price associated with each item\n",
    "price = dict(zip(I, np.random.normal(loc=10.0, scale=1.0, size=10).clip(0.5, 20.0)))\n",
    "\n",
    "#knapsack capacity\n",
    "kw, kv = 21.0, 22.0"
   ]
  },
  {
   "cell_type": "code",
   "execution_count": 3,
   "id": "4a170946",
   "metadata": {},
   "outputs": [],
   "source": [
    "#Costs\n",
    "c = -np.array(list(price.values()))\n",
    "\n",
    "#Inequality constraints matrix\n",
    "A_ub = np.array([\n",
    "    np.array(list(w.values())),\n",
    "    np.array(list(v.values()))\n",
    "])\n",
    "\n",
    "#Upper bounds for linear inequality constraints\n",
    "b_ub = np.array([kw, kv])\n",
    "\n",
    "#Bounds (one quantity of each item)\n",
    "bounds = [(0, 1),] * 10"
   ]
  },
  {
   "cell_type": "code",
   "execution_count": 4,
   "id": "a75ae879",
   "metadata": {},
   "outputs": [],
   "source": [
    "sol = linprog(c, A_ub=A_ub, b_ub=b_ub, bounds=bounds)"
   ]
  },
  {
   "cell_type": "code",
   "execution_count": 5,
   "id": "c992719d",
   "metadata": {},
   "outputs": [
    {
     "name": "stdout",
     "output_type": "stream",
     "text": [
      "        message: Optimization terminated successfully. (HiGHS Status 7: Optimal)\n",
      "        success: True\n",
      "         status: 0\n",
      "            fun: -44.81724486288822\n",
      "              x: [ 1.000e+00  8.656e-01  0.000e+00  1.000e+00  0.000e+00\n",
      "                   0.000e+00  0.000e+00  8.805e-01  1.000e+00  0.000e+00]\n",
      "            nit: 2\n",
      "          lower:  residual: [ 1.000e+00  8.656e-01  0.000e+00  1.000e+00\n",
      "                              0.000e+00  0.000e+00  0.000e+00  8.805e-01\n",
      "                              1.000e+00  0.000e+00]\n",
      "                 marginals: [ 0.000e+00  0.000e+00  1.456e+00  0.000e+00\n",
      "                              4.160e+00  5.104e-01  3.411e+00  0.000e+00\n",
      "                              0.000e+00  5.386e+00]\n",
      "          upper:  residual: [ 0.000e+00  1.344e-01  1.000e+00  0.000e+00\n",
      "                              1.000e+00  1.000e+00  1.000e+00  1.195e-01\n",
      "                              0.000e+00  1.000e+00]\n",
      "                 marginals: [-1.181e+00  0.000e+00  0.000e+00 -4.314e+00\n",
      "                              0.000e+00  0.000e+00  0.000e+00  0.000e+00\n",
      "                             -4.111e-01  0.000e+00]\n",
      "          eqlin:  residual: []\n",
      "                 marginals: []\n",
      "        ineqlin:  residual: [ 0.000e+00  0.000e+00]\n",
      "                 marginals: [-9.280e-01 -8.828e-01]\n",
      " mip_node_count: 0\n",
      " mip_dual_bound: 0.0\n",
      "        mip_gap: 0.0\n"
     ]
    }
   ],
   "source": [
    "print(sol)"
   ]
  },
  {
   "cell_type": "code",
   "execution_count": 6,
   "id": "9a0a61c6",
   "metadata": {},
   "outputs": [
    {
     "name": "stdout",
     "output_type": "stream",
     "text": [
      "Item 1: 1.000\n",
      "Item 2: 0.866\n",
      "Item 3: 0.000\n",
      "Item 4: 1.000\n",
      "Item 5: 0.000\n",
      "Item 6: 0.000\n",
      "Item 7: 0.000\n",
      "Item 8: 0.881\n",
      "Item 9: 1.000\n",
      "Item 10: 0.000\n"
     ]
    }
   ],
   "source": [
    "for i, item in enumerate(I):\n",
    "    xi = sol.x[i]\n",
    "    print(f\"Item {item}: {xi:.3f}\")"
   ]
  },
  {
   "attachments": {},
   "cell_type": "markdown",
   "id": "3da70203",
   "metadata": {},
   "source": [
    "### Integrality constaints"
   ]
  },
  {
   "cell_type": "markdown",
   "id": "eb9fb9eb",
   "metadata": {},
   "source": [
    "Since version 1.9.0 scipy accepts integrality constraints as it now as a wrapper to a MILP solver."
   ]
  },
  {
   "cell_type": "markdown",
   "id": "b2fafd76",
   "metadata": {},
   "source": [
    "$x_i \\in \\Z \\space \\forall i \\in I$"
   ]
  },
  {
   "cell_type": "code",
   "execution_count": 7,
   "id": "e4f910ae",
   "metadata": {},
   "outputs": [],
   "source": [
    "integrality_vector = np.full(c.shape[0], 1)\n",
    "\n",
    "sol_int = linprog(c, A_ub=A_ub, b_ub=b_ub, bounds=bounds, integrality=integrality_vector)"
   ]
  },
  {
   "cell_type": "code",
   "execution_count": 8,
   "id": "8123a6fa",
   "metadata": {},
   "outputs": [
    {
     "name": "stdout",
     "output_type": "stream",
     "text": [
      "        message: Optimization terminated successfully. (HiGHS Status 7: Optimal)\n",
      "        success: True\n",
      "         status: 0\n",
      "            fun: -39.88187183116921\n",
      "              x: [ 1.000e+00  0.000e+00  1.000e+00  1.000e+00  0.000e+00\n",
      "                   0.000e+00  0.000e+00  1.000e+00  0.000e+00  0.000e+00]\n",
      "            nit: -1\n",
      "          lower:  residual: [ 1.000e+00  0.000e+00  1.000e+00  1.000e+00\n",
      "                              0.000e+00  0.000e+00  0.000e+00  1.000e+00\n",
      "                              0.000e+00  0.000e+00]\n",
      "                 marginals: [ 0.000e+00  0.000e+00  0.000e+00  0.000e+00\n",
      "                              0.000e+00  0.000e+00  0.000e+00  0.000e+00\n",
      "                              0.000e+00  0.000e+00]\n",
      "          upper:  residual: [ 0.000e+00  1.000e+00  0.000e+00  0.000e+00\n",
      "                              1.000e+00  1.000e+00  1.000e+00  0.000e+00\n",
      "                              1.000e+00  1.000e+00]\n",
      "                 marginals: [ 0.000e+00  0.000e+00  0.000e+00  0.000e+00\n",
      "                              0.000e+00  0.000e+00  0.000e+00  0.000e+00\n",
      "                              0.000e+00  0.000e+00]\n",
      "          eqlin:  residual: []\n",
      "                 marginals: []\n",
      "        ineqlin:  residual: [ 2.106e+00  1.262e+00]\n",
      "                 marginals: [ 0.000e+00  0.000e+00]\n",
      " mip_node_count: 1\n",
      " mip_dual_bound: -39.88187183116921\n",
      "        mip_gap: 0.0\n"
     ]
    }
   ],
   "source": [
    "print(sol_int)"
   ]
  },
  {
   "cell_type": "code",
   "execution_count": 9,
   "id": "46b4ce34",
   "metadata": {},
   "outputs": [
    {
     "name": "stdout",
     "output_type": "stream",
     "text": [
      "Item 1: 1.000\n",
      "Item 2: 0.000\n",
      "Item 3: 1.000\n",
      "Item 4: 1.000\n",
      "Item 5: 0.000\n",
      "Item 6: 0.000\n",
      "Item 7: 0.000\n",
      "Item 8: 1.000\n",
      "Item 9: 0.000\n",
      "Item 10: 0.000\n"
     ]
    }
   ],
   "source": [
    "for i, item in enumerate(I):\n",
    "    xi = sol_int.x[i]\n",
    "    print(f\"Item {item}: {xi:.3f}\")"
   ]
  },
  {
   "attachments": {},
   "cell_type": "markdown",
   "id": "b8b8b3cc",
   "metadata": {},
   "source": [
    "## Using pyomo"
   ]
  },
  {
   "cell_type": "code",
   "execution_count": 10,
   "id": "3230c35d",
   "metadata": {},
   "outputs": [],
   "source": [
    "model = pyo.ConcreteModel()"
   ]
  },
  {
   "attachments": {},
   "cell_type": "markdown",
   "id": "0d93e140",
   "metadata": {},
   "source": [
    "### Sets"
   ]
  },
  {
   "cell_type": "code",
   "execution_count": 11,
   "id": "001b5e09",
   "metadata": {},
   "outputs": [],
   "source": [
    "model.I = pyo.Set(initialize=I)"
   ]
  },
  {
   "attachments": {},
   "cell_type": "markdown",
   "id": "f1142256",
   "metadata": {},
   "source": [
    "### Parameters"
   ]
  },
  {
   "cell_type": "code",
   "execution_count": 12,
   "id": "427c2e74",
   "metadata": {},
   "outputs": [],
   "source": [
    "# Parameters of the knapsack\n",
    "model.kw = pyo.Param(initialize=kw)\n",
    "model.kv = pyo.Param(initialize=kv)"
   ]
  },
  {
   "cell_type": "code",
   "execution_count": 13,
   "id": "e906055a",
   "metadata": {},
   "outputs": [],
   "source": [
    "# Parameters of the items\n",
    "model.v = pyo.Param(model.I, initialize=v)\n",
    "model.w = pyo.Param(model.I, initialize=w)\n",
    "model.c = pyo.Param(model.I, initialize=price)"
   ]
  },
  {
   "attachments": {},
   "cell_type": "markdown",
   "id": "006f711b",
   "metadata": {},
   "source": [
    "### Variables"
   ]
  },
  {
   "cell_type": "code",
   "execution_count": 14,
   "id": "d8efbb32",
   "metadata": {},
   "outputs": [],
   "source": [
    "model.x = pyo.Var(model.I, within=pyo.Binary)"
   ]
  },
  {
   "attachments": {},
   "cell_type": "markdown",
   "id": "1fb29e04",
   "metadata": {},
   "source": [
    "## Constraints"
   ]
  },
  {
   "cell_type": "code",
   "execution_count": 15,
   "id": "d56d7b13",
   "metadata": {},
   "outputs": [],
   "source": [
    "def weight_constraint(model):\n",
    "    \n",
    "    return sum(model.x[i] * model.w[i] for i in model.I) <= model.kw\n",
    "\n",
    "model.weight_constraint = pyo.Constraint(rule=weight_constraint)\n",
    "\n",
    "def volume_constraint(model):\n",
    "    \n",
    "    return sum(model.x[i] * model.v[i] for i in model.I) <= model.kv\n",
    "\n",
    "model.volume_constraint = pyo.Constraint(rule=volume_constraint)"
   ]
  },
  {
   "attachments": {},
   "cell_type": "markdown",
   "id": "f78b6f13",
   "metadata": {},
   "source": [
    "### Objective"
   ]
  },
  {
   "cell_type": "code",
   "execution_count": 16,
   "id": "5ffd2708",
   "metadata": {},
   "outputs": [],
   "source": [
    "def obj_function(model):\n",
    "    \n",
    "    return sum(model.x[i] * model.c[i] for i in model.I)\n",
    "    \n",
    "model.objective = pyo.Objective(rule=obj_function, sense=pyo.maximize)"
   ]
  },
  {
   "cell_type": "code",
   "execution_count": 17,
   "id": "d2f4d4ac",
   "metadata": {},
   "outputs": [],
   "source": [
    "opt = pyo.SolverFactory('glpk')\n",
    "opt.options['tmlim'] = 120"
   ]
  },
  {
   "cell_type": "code",
   "execution_count": 18,
   "id": "c0fda459",
   "metadata": {},
   "outputs": [
    {
     "name": "stdout",
     "output_type": "stream",
     "text": [
      "WARNING: Could not locate the 'glpsol' executable, which is required for\n",
      "    solver 'glpk'\n"
     ]
    },
    {
     "ename": "ApplicationError",
     "evalue": "No executable found for solver 'glpk'",
     "output_type": "error",
     "traceback": [
      "\u001b[1;31m---------------------------------------------------------------------------\u001b[0m",
      "\u001b[1;31mApplicationError\u001b[0m                          Traceback (most recent call last)",
      "Cell \u001b[1;32mIn[18], line 1\u001b[0m\n\u001b[1;32m----> 1\u001b[0m solution \u001b[39m=\u001b[39m opt\u001b[39m.\u001b[39;49msolve(model)\n\u001b[0;32m      2\u001b[0m \u001b[39mprint\u001b[39m(solution)\n",
      "File \u001b[1;32mc:\\Users\\Bruno\\OneDrive\\Área de Trabalho\\Python Packages\\optimization-demo-files\\mip\\venv\\lib\\site-packages\\pyomo\\opt\\base\\solvers.py:513\u001b[0m, in \u001b[0;36mOptSolver.solve\u001b[1;34m(self, *args, **kwds)\u001b[0m\n\u001b[0;32m    510\u001b[0m \u001b[39mdef\u001b[39;00m \u001b[39msolve\u001b[39m(\u001b[39mself\u001b[39m, \u001b[39m*\u001b[39margs, \u001b[39m*\u001b[39m\u001b[39m*\u001b[39mkwds):\n\u001b[0;32m    511\u001b[0m \u001b[39m    \u001b[39m\u001b[39m\"\"\" Solve the problem \"\"\"\u001b[39;00m\n\u001b[1;32m--> 513\u001b[0m     \u001b[39mself\u001b[39;49m\u001b[39m.\u001b[39;49mavailable(exception_flag\u001b[39m=\u001b[39;49m\u001b[39mTrue\u001b[39;49;00m)\n\u001b[0;32m    514\u001b[0m     \u001b[39m#\u001b[39;00m\n\u001b[0;32m    515\u001b[0m     \u001b[39m# If the inputs are models, then validate that they have been\u001b[39;00m\n\u001b[0;32m    516\u001b[0m     \u001b[39m# constructed! Collect suffix names to try and import from solution.\u001b[39;00m\n\u001b[0;32m    517\u001b[0m     \u001b[39m#\u001b[39;00m\n\u001b[0;32m    518\u001b[0m     \u001b[39mfrom\u001b[39;00m \u001b[39mpyomo\u001b[39;00m\u001b[39m.\u001b[39;00m\u001b[39mcore\u001b[39;00m\u001b[39m.\u001b[39;00m\u001b[39mbase\u001b[39;00m\u001b[39m.\u001b[39;00m\u001b[39mblock\u001b[39;00m \u001b[39mimport\u001b[39;00m _BlockData\n",
      "File \u001b[1;32mc:\\Users\\Bruno\\OneDrive\\Área de Trabalho\\Python Packages\\optimization-demo-files\\mip\\venv\\lib\\site-packages\\pyomo\\opt\\solver\\shellcmd.py:139\u001b[0m, in \u001b[0;36mSystemCallSolver.available\u001b[1;34m(self, exception_flag)\u001b[0m\n\u001b[0;32m    137\u001b[0m     \u001b[39mif\u001b[39;00m exception_flag:\n\u001b[0;32m    138\u001b[0m         msg \u001b[39m=\u001b[39m \u001b[39m\"\u001b[39m\u001b[39mNo executable found for solver \u001b[39m\u001b[39m'\u001b[39m\u001b[39m%s\u001b[39;00m\u001b[39m'\u001b[39m\u001b[39m\"\u001b[39m\n\u001b[1;32m--> 139\u001b[0m         \u001b[39mraise\u001b[39;00m ApplicationError(msg \u001b[39m%\u001b[39m \u001b[39mself\u001b[39m\u001b[39m.\u001b[39mname)\n\u001b[0;32m    140\u001b[0m     \u001b[39mreturn\u001b[39;00m \u001b[39mFalse\u001b[39;00m\n\u001b[0;32m    141\u001b[0m \u001b[39mreturn\u001b[39;00m \u001b[39mTrue\u001b[39;00m\n",
      "\u001b[1;31mApplicationError\u001b[0m: No executable found for solver 'glpk'"
     ]
    }
   ],
   "source": [
    "solution = opt.solve(model)\n",
    "print(solution)"
   ]
  },
  {
   "cell_type": "code",
   "execution_count": null,
   "id": "fb0cd87d",
   "metadata": {},
   "outputs": [
    {
     "name": "stdout",
     "output_type": "stream",
     "text": [
      "objective : Size=1, Index=None, Active=True\n",
      "    Key  : Active : Value\n",
      "    None :   True : 39.88187183116921\n"
     ]
    }
   ],
   "source": [
    "model.objective.display()"
   ]
  },
  {
   "cell_type": "code",
   "execution_count": null,
   "id": "2086ee08",
   "metadata": {},
   "outputs": [
    {
     "name": "stdout",
     "output_type": "stream",
     "text": [
      "x : Size=10, Index=I\n",
      "    Key : Lower : Value : Upper : Fixed : Stale : Domain\n",
      "      1 :     0 :   1.0 :     1 : False : False : Integers\n",
      "      2 :     0 :   0.0 :     1 : False : False : Integers\n",
      "      3 :     0 :   1.0 :     1 : False : False : Integers\n",
      "      4 :     0 :   1.0 :     1 : False : False : Integers\n",
      "      5 :     0 :   0.0 :     1 : False : False : Integers\n",
      "      6 :     0 :   0.0 :     1 : False : False : Integers\n",
      "      7 :     0 :   0.0 :     1 : False : False : Integers\n",
      "      8 :     0 :   1.0 :     1 : False : False : Integers\n",
      "      9 :     0 :   0.0 :     1 : False : False : Integers\n",
      "     10 :     0 :   0.0 :     1 : False : False : Integers\n"
     ]
    }
   ],
   "source": [
    "model.x.display()"
   ]
  },
  {
   "cell_type": "code",
   "execution_count": null,
   "id": "747e5443",
   "metadata": {},
   "outputs": [
    {
     "name": "stdout",
     "output_type": "stream",
     "text": [
      "Item 1 was added in both situations\n",
      "Item 2 was partially added in relaxed problem only - value 0.87\n",
      "Item 3 was added only in integer problem\n",
      "Item 4 was added in both situations\n",
      "Item 5 was not added in any situation\n",
      "Item 6 was not added in any situation\n",
      "Item 7 was not added in any situation\n",
      "Item 8 was partially added in relaxed problem - value 0.88 - but completely added in the integer version\n",
      "Item 9 was partially added in relaxed problem only - value 1.00\n",
      "Item 10 was not added in any situation\n"
     ]
    }
   ],
   "source": [
    "for i, item in enumerate(I):\n",
    "    if abs(sol.x[i] - model.x[item].value) <= 1e-3:\n",
    "        if sol.x[i] >= 1e-3:\n",
    "            print(f\"Item {item} was added in both situations\")\n",
    "        else:\n",
    "            print(f\"Item {item} was not added in any situation\")\n",
    "        \n",
    "    elif sol.x[i] > model.x[item].value + 1e-3:\n",
    "        if sol.x[i] == 1:\n",
    "            print(f\"Item {item} was completely added in relaxed problem only\")\n",
    "        else:\n",
    "            xi = sol.x[i]\n",
    "            print(f\"Item {item} was partially added in relaxed problem only - value {xi:.2f}\")\n",
    "            \n",
    "    elif sol.x[i] + 1e-3 < model.x[item].value:\n",
    "        if sol.x[i] <= 1e-3:\n",
    "            print(f\"Item {item} was added only in integer problem\")\n",
    "        else:\n",
    "            xi = sol.x[i]\n",
    "            print(f\"Item {item} was partially added in relaxed problem - value {xi:.2f} - but completely added in the integer version\")"
   ]
  },
  {
   "cell_type": "code",
   "execution_count": null,
   "id": "478b7389",
   "metadata": {},
   "outputs": [
    {
     "name": "stdout",
     "output_type": "stream",
     "text": [
      "weight_constraint : Size=1\n",
      "    Key  : Lower : Body               : Upper\n",
      "    None :  None : 18.894462023985934 :  21.0\n"
     ]
    }
   ],
   "source": [
    "model.weight_constraint.display()"
   ]
  },
  {
   "cell_type": "code",
   "execution_count": null,
   "id": "733c6013",
   "metadata": {},
   "outputs": [
    {
     "name": "stdout",
     "output_type": "stream",
     "text": [
      "volume_constraint : Size=1\n",
      "    Key  : Lower : Body              : Upper\n",
      "    None :  None : 20.73819050160827 :  22.0\n"
     ]
    }
   ],
   "source": [
    "model.volume_constraint.display()"
   ]
  },
  {
   "cell_type": "code",
   "execution_count": null,
   "id": "148b2b33",
   "metadata": {},
   "outputs": [],
   "source": []
  }
 ],
 "metadata": {
  "kernelspec": {
   "display_name": "Python 3.9.7 ('venv': venv)",
   "language": "python",
   "name": "python3"
  },
  "language_info": {
   "codemirror_mode": {
    "name": "ipython",
    "version": 3
   },
   "file_extension": ".py",
   "mimetype": "text/x-python",
   "name": "python",
   "nbconvert_exporter": "python",
   "pygments_lexer": "ipython3",
   "version": "3.9.7"
  },
  "vscode": {
   "interpreter": {
    "hash": "bc08d11936453eaa7fe55368990a6972dd4c9fc3768bd9ccbb85511fe4757f39"
   }
  }
 },
 "nbformat": 4,
 "nbformat_minor": 5
}
