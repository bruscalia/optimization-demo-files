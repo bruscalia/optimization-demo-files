{
 "cells": [
  {
   "cell_type": "markdown",
   "id": "ad0866b0",
   "metadata": {},
   "source": [
    "# Multiple knapsacks\n",
    "\n",
    "## Intro\n",
    "\n",
    "This is a generalization of the knapsack problem, in which the goal is to carry the maximum value in a single backpack considering a given set of items and a maximum capacity."
   ]
  },
  {
   "cell_type": "code",
   "execution_count": 1,
   "id": "89ed121d",
   "metadata": {},
   "outputs": [],
   "source": [
    "import pandas as pd\n",
    "import pyomo.environ as pyo"
   ]
  },
  {
   "cell_type": "code",
   "execution_count": 2,
   "id": "6e6283b5",
   "metadata": {},
   "outputs": [],
   "source": [
    "#Here it is the information about items available\n",
    "data_items = pd.read_excel(\"..\\data\\multi_knapsacks.xlsx\", sheet_name=0, index_col=0)\n",
    "\n",
    "#And here about the knapsacks\n",
    "data_knapsacks = pd.read_excel(\"..\\data\\multi_knapsacks.xlsx\", sheet_name=1, index_col=0)"
   ]
  },
  {
   "cell_type": "code",
   "execution_count": 3,
   "id": "4c25c16a",
   "metadata": {},
   "outputs": [
    {
     "data": {
      "text/html": [
       "<div>\n",
       "<style scoped>\n",
       "    .dataframe tbody tr th:only-of-type {\n",
       "        vertical-align: middle;\n",
       "    }\n",
       "\n",
       "    .dataframe tbody tr th {\n",
       "        vertical-align: top;\n",
       "    }\n",
       "\n",
       "    .dataframe thead th {\n",
       "        text-align: right;\n",
       "    }\n",
       "</style>\n",
       "<table border=\"1\" class=\"dataframe\">\n",
       "  <thead>\n",
       "    <tr style=\"text-align: right;\">\n",
       "      <th></th>\n",
       "      <th>category</th>\n",
       "      <th>weight</th>\n",
       "      <th>volume</th>\n",
       "      <th>value</th>\n",
       "      <th>available</th>\n",
       "    </tr>\n",
       "  </thead>\n",
       "  <tbody>\n",
       "    <tr>\n",
       "      <th>1</th>\n",
       "      <td>eletronics</td>\n",
       "      <td>4.661295</td>\n",
       "      <td>1.002111</td>\n",
       "      <td>1.947939</td>\n",
       "      <td>1</td>\n",
       "    </tr>\n",
       "    <tr>\n",
       "      <th>2</th>\n",
       "      <td>eletronics</td>\n",
       "      <td>7.514717</td>\n",
       "      <td>1.146791</td>\n",
       "      <td>5.189848</td>\n",
       "      <td>1</td>\n",
       "    </tr>\n",
       "    <tr>\n",
       "      <th>3</th>\n",
       "      <td>beverage</td>\n",
       "      <td>8.996028</td>\n",
       "      <td>5.010643</td>\n",
       "      <td>4.431570</td>\n",
       "      <td>1</td>\n",
       "    </tr>\n",
       "    <tr>\n",
       "      <th>4</th>\n",
       "      <td>clothing</td>\n",
       "      <td>3.684529</td>\n",
       "      <td>4.489547</td>\n",
       "      <td>6.157468</td>\n",
       "      <td>2</td>\n",
       "    </tr>\n",
       "    <tr>\n",
       "      <th>5</th>\n",
       "      <td>eletronics</td>\n",
       "      <td>5.811656</td>\n",
       "      <td>3.572954</td>\n",
       "      <td>5.374311</td>\n",
       "      <td>1</td>\n",
       "    </tr>\n",
       "  </tbody>\n",
       "</table>\n",
       "</div>"
      ],
      "text/plain": [
       "     category    weight    volume     value  available\n",
       "1  eletronics  4.661295  1.002111  1.947939          1\n",
       "2  eletronics  7.514717  1.146791  5.189848          1\n",
       "3    beverage  8.996028  5.010643  4.431570          1\n",
       "4    clothing  3.684529  4.489547  6.157468          2\n",
       "5  eletronics  5.811656  3.572954  5.374311          1"
      ]
     },
     "execution_count": 3,
     "metadata": {},
     "output_type": "execute_result"
    }
   ],
   "source": [
    "data_items.head()"
   ]
  },
  {
   "cell_type": "code",
   "execution_count": 4,
   "id": "8ca2763d",
   "metadata": {},
   "outputs": [
    {
     "data": {
      "text/html": [
       "<div>\n",
       "<style scoped>\n",
       "    .dataframe tbody tr th:only-of-type {\n",
       "        vertical-align: middle;\n",
       "    }\n",
       "\n",
       "    .dataframe tbody tr th {\n",
       "        vertical-align: top;\n",
       "    }\n",
       "\n",
       "    .dataframe thead th {\n",
       "        text-align: right;\n",
       "    }\n",
       "</style>\n",
       "<table border=\"1\" class=\"dataframe\">\n",
       "  <thead>\n",
       "    <tr style=\"text-align: right;\">\n",
       "      <th></th>\n",
       "      <th>max_weight</th>\n",
       "      <th>max_volume</th>\n",
       "      <th>max_categories</th>\n",
       "    </tr>\n",
       "  </thead>\n",
       "  <tbody>\n",
       "    <tr>\n",
       "      <th>A</th>\n",
       "      <td>21</td>\n",
       "      <td>32</td>\n",
       "      <td>2</td>\n",
       "    </tr>\n",
       "    <tr>\n",
       "      <th>B</th>\n",
       "      <td>19</td>\n",
       "      <td>22</td>\n",
       "      <td>4</td>\n",
       "    </tr>\n",
       "    <tr>\n",
       "      <th>C</th>\n",
       "      <td>28</td>\n",
       "      <td>17</td>\n",
       "      <td>3</td>\n",
       "    </tr>\n",
       "  </tbody>\n",
       "</table>\n",
       "</div>"
      ],
      "text/plain": [
       "   max_weight  max_volume  max_categories\n",
       "A          21          32               2\n",
       "B          19          22               4\n",
       "C          28          17               3"
      ]
     },
     "execution_count": 4,
     "metadata": {},
     "output_type": "execute_result"
    }
   ],
   "source": [
    "data_knapsacks.head()"
   ]
  },
  {
   "cell_type": "code",
   "execution_count": 5,
   "id": "51c2c9f4",
   "metadata": {},
   "outputs": [],
   "source": [
    "#Create sets of unique values of the sets\n",
    "categories = data_items[\"category\"].unique()\n",
    "items_labels = data_items.index.unique().to_numpy()\n",
    "knapsacks = data_knapsacks.index.unique().to_numpy()"
   ]
  },
  {
   "cell_type": "markdown",
   "id": "d3147bc5",
   "metadata": {},
   "source": [
    "## Create the model"
   ]
  },
  {
   "cell_type": "code",
   "execution_count": 6,
   "id": "3230c35d",
   "metadata": {},
   "outputs": [],
   "source": [
    "model = pyo.ConcreteModel()"
   ]
  },
  {
   "cell_type": "markdown",
   "id": "0d93e140",
   "metadata": {},
   "source": [
    "## Create the sets"
   ]
  },
  {
   "cell_type": "markdown",
   "id": "5b1f3f61",
   "metadata": {},
   "source": [
    "- Set $C$, index $c$ - Categories\n",
    "- Set $I$, index $i$ - Items\n",
    "- Set $K$, index $k$ - Knapsacks"
   ]
  },
  {
   "cell_type": "code",
   "execution_count": 7,
   "id": "001b5e09",
   "metadata": {},
   "outputs": [],
   "source": [
    "model.C = pyo.Set(initialize=categories)\n",
    "model.I = pyo.Set(initialize=items_labels)\n",
    "model.K = pyo.Set(initialize=knapsacks)"
   ]
  },
  {
   "cell_type": "code",
   "execution_count": 8,
   "id": "6c1fb32c",
   "metadata": {},
   "outputs": [
    {
     "data": {
      "text/plain": [
       "Index(['max_weight', 'max_volume', 'max_categories'], dtype='object')"
      ]
     },
     "execution_count": 8,
     "metadata": {},
     "output_type": "execute_result"
    }
   ],
   "source": [
    "data_knapsacks.columns"
   ]
  },
  {
   "cell_type": "markdown",
   "id": "f1142256",
   "metadata": {},
   "source": [
    "## Parameters"
   ]
  },
  {
   "cell_type": "markdown",
   "id": "ea733ed0",
   "metadata": {},
   "source": [
    "- $kw_k \\space \\forall \\space k \\in K$ - Knapsack weight capacity\n",
    "- $kv_k \\space \\forall \\space k \\in K$ - Knapsack volume capacity\n",
    "- $b_i \\space \\forall \\space i \\in I$ - Quantity available of each item\n",
    "- $v_i \\space \\forall \\space i \\in I$ - Volume of each item\n",
    "- $w_i \\space \\forall \\space i \\in I$ - Weight of each item\n",
    "- $c_i \\space \\forall \\space i \\in I$ - Value of each item"
   ]
  },
  {
   "cell_type": "code",
   "execution_count": 9,
   "id": "427c2e74",
   "metadata": {},
   "outputs": [],
   "source": [
    "knapsack_weights = data_knapsacks[\"max_weight\"].to_dict()\n",
    "knapsack_volumes = data_knapsacks[\"max_volume\"].to_dict()\n",
    "\n",
    "model.kw = pyo.Param(model.K, initialize=knapsack_weights)\n",
    "model.kv = pyo.Param(model.K, initialize=knapsack_volumes)"
   ]
  },
  {
   "cell_type": "code",
   "execution_count": 10,
   "id": "e906055a",
   "metadata": {},
   "outputs": [],
   "source": [
    "items_volumes = data_items[\"volume\"].to_dict()\n",
    "items_weights = data_items[\"weight\"].to_dict()\n",
    "items_values = data_items[\"value\"].to_dict()\n",
    "items_available = data_items[\"available\"].to_dict()\n",
    "\n",
    "model.b = pyo.Param(model.I, initialize=items_available)\n",
    "model.v = pyo.Param(model.I, initialize=items_volumes)\n",
    "model.w = pyo.Param(model.I, initialize=items_weights)\n",
    "model.c = pyo.Param(model.I, initialize=items_values)"
   ]
  },
  {
   "cell_type": "markdown",
   "id": "006f711b",
   "metadata": {},
   "source": [
    "## Create variables"
   ]
  },
  {
   "cell_type": "markdown",
   "id": "0b9fd682",
   "metadata": {},
   "source": [
    "- $x_{i, k}  \\space \\forall \\space i \\in I \\space \\forall \\space k \\in K$ - Number of items per knapsack"
   ]
  },
  {
   "cell_type": "code",
   "execution_count": 11,
   "id": "78650dca",
   "metadata": {},
   "outputs": [],
   "source": [
    "bounds_n_items = {}\n",
    "\n",
    "for key, value in items_available.items():\n",
    "    bounds_n_items[key] = (0, value)\n",
    "\n",
    "def get_bounds(model, i, k):\n",
    "    return bounds_n_items[i]"
   ]
  },
  {
   "cell_type": "code",
   "execution_count": 12,
   "id": "d8efbb32",
   "metadata": {},
   "outputs": [],
   "source": [
    "model.x = pyo.Var(model.I, model.K, within=pyo.Integers, bounds=get_bounds)"
   ]
  },
  {
   "cell_type": "markdown",
   "id": "f9780adc",
   "metadata": {},
   "source": [
    "## Define constraints of number of items"
   ]
  },
  {
   "cell_type": "markdown",
   "id": "dc307a2e",
   "metadata": {},
   "source": [
    "$\\displaystyle \\sum_{i \\in I} \\sum_{k \\in K} x_{i, k} \\leq b_{i}$"
   ]
  },
  {
   "cell_type": "code",
   "execution_count": 13,
   "id": "e0afa19e",
   "metadata": {},
   "outputs": [],
   "source": [
    "def availability_constraint(model, i):\n",
    "    \n",
    "    return sum(model.x[i, k] for k in model.K) <= model.b[i]\n",
    "\n",
    "model.availability_constraint = pyo.Constraint(model.I, rule=availability_constraint)"
   ]
  },
  {
   "cell_type": "markdown",
   "id": "1fb29e04",
   "metadata": {},
   "source": [
    "# Capacity constraints"
   ]
  },
  {
   "cell_type": "markdown",
   "id": "6281ee93",
   "metadata": {},
   "source": [
    "$\\displaystyle \\sum_{i \\in I} x_{i, k} v_{i} \\leq kv_{k} \\space \\forall \\space k \\in K\\\\ \\sum_{i \\in I} x_{i, k} w_{i} \\leq kw_{k} \\space \\forall \\space k \\in K$"
   ]
  },
  {
   "cell_type": "code",
   "execution_count": 14,
   "id": "d56d7b13",
   "metadata": {},
   "outputs": [],
   "source": [
    "def weight_constraint(model, k):\n",
    "    \n",
    "    return sum(model.x[i, k] * model.w[i] for i in model.I) <= model.kw[k]\n",
    "\n",
    "model.weight_constraint = pyo.Constraint(model.K, rule=weight_constraint)\n",
    "\n",
    "def volume_constraint(model, k):\n",
    "    \n",
    "    return sum(model.x[i, k] * model.v[i] for i in model.I) <= model.kv[k]\n",
    "\n",
    "model.volume_constraint = pyo.Constraint(model.K, rule=volume_constraint)"
   ]
  },
  {
   "cell_type": "markdown",
   "id": "f78b6f13",
   "metadata": {},
   "source": [
    "## Objective function"
   ]
  },
  {
   "cell_type": "markdown",
   "id": "7cb0106a",
   "metadata": {},
   "source": [
    "$\\displaystyle maximize \\space \\sum_{i \\in I} \\sum_{k \\in K} x_{i, k} c_{i}$"
   ]
  },
  {
   "cell_type": "code",
   "execution_count": 15,
   "id": "5ffd2708",
   "metadata": {},
   "outputs": [],
   "source": [
    "def obj_function(model):\n",
    "    \n",
    "    return - sum(model.x[i, k] * model.c[i]\\\n",
    "        for i in model.I for k in model.K)\n",
    "    \n",
    "model.objective = pyo.Objective(rule=obj_function, sense=pyo.minimize)"
   ]
  },
  {
   "cell_type": "markdown",
   "id": "ce43c48c",
   "metadata": {},
   "source": [
    "# Optimize"
   ]
  },
  {
   "cell_type": "code",
   "execution_count": 16,
   "id": "c0ec546e",
   "metadata": {},
   "outputs": [
    {
     "data": {
      "text/plain": [
       "('multi_knapsacks_type1.lp', 2279419354992)"
      ]
     },
     "execution_count": 16,
     "metadata": {},
     "output_type": "execute_result"
    }
   ],
   "source": [
    "model.write('multi_knapsacks_type1.lp', io_options={'symbolic_solver_labels': True})"
   ]
  },
  {
   "cell_type": "code",
   "execution_count": 17,
   "id": "d2f4d4ac",
   "metadata": {},
   "outputs": [],
   "source": [
    "opt = pyo.SolverFactory('glpk', executable='C:\\\\glpk-4.65\\\\w64\\\\glpsol.exe')\n",
    "opt.options['tmlim'] = 120"
   ]
  },
  {
   "cell_type": "code",
   "execution_count": 18,
   "id": "c0fda459",
   "metadata": {},
   "outputs": [
    {
     "name": "stdout",
     "output_type": "stream",
     "text": [
      "\n",
      "Problem: \n",
      "- Name: unknown\n",
      "  Lower bound: -127.738437990416\n",
      "  Upper bound: -127.738437990416\n",
      "  Number of objectives: 1\n",
      "  Number of constraints: 57\n",
      "  Number of variables: 151\n",
      "  Number of nonzeros: 451\n",
      "  Sense: minimize\n",
      "Solver: \n",
      "- Status: ok\n",
      "  Termination condition: optimal\n",
      "  Statistics: \n",
      "    Branch and bound: \n",
      "      Number of bounded subproblems: 32975\n",
      "      Number of created subproblems: 32975\n",
      "  Error rc: 0\n",
      "  Time: 6.8684515953063965\n",
      "Solution: \n",
      "- number of solutions: 0\n",
      "  number of solutions displayed: 0\n",
      "\n"
     ]
    }
   ],
   "source": [
    "solution_type1 = opt.solve(model)\n",
    "print(solution_type1)"
   ]
  },
  {
   "cell_type": "code",
   "execution_count": 19,
   "id": "fb0cd87d",
   "metadata": {},
   "outputs": [
    {
     "name": "stdout",
     "output_type": "stream",
     "text": [
      "objective : Size=1, Index=None, Active=True\n",
      "    Key  : Active : Value\n",
      "    None :   True : -127.738437990416\n"
     ]
    }
   ],
   "source": [
    "model.objective.display()"
   ]
  },
  {
   "cell_type": "code",
   "execution_count": 20,
   "id": "478b7389",
   "metadata": {},
   "outputs": [
    {
     "name": "stdout",
     "output_type": "stream",
     "text": [
      "weight_constraint : Size=3\n",
      "    Key : Lower : Body               : Upper\n",
      "      A :  None : 20.983448820880767 :  21.0\n",
      "      B :  None : 18.982435077352662 :  19.0\n",
      "      C :  None :  27.99791623266966 :  28.0\n"
     ]
    }
   ],
   "source": [
    "model.weight_constraint.display()"
   ]
  },
  {
   "cell_type": "code",
   "execution_count": 21,
   "id": "733c6013",
   "metadata": {},
   "outputs": [
    {
     "name": "stdout",
     "output_type": "stream",
     "text": [
      "volume_constraint : Size=3\n",
      "    Key : Lower : Body               : Upper\n",
      "      A :  None : 31.390966375697978 :  32.0\n",
      "      B :  None : 21.194491520099053 :  22.0\n",
      "      C :  None : 16.767874386429273 :  17.0\n"
     ]
    }
   ],
   "source": [
    "model.volume_constraint.display()"
   ]
  },
  {
   "cell_type": "code",
   "execution_count": 22,
   "id": "484d4f0d",
   "metadata": {},
   "outputs": [],
   "source": [
    "output_type1 = pd.DataFrame(index=items_labels, columns=knapsacks)\n",
    "\n",
    "for i in items_labels:\n",
    "    for k in knapsacks:\n",
    "        output_type1.loc[i, k] = model.x[i, k].value\n",
    "\n",
    "output_type1.to_excel(\"..\\data\\output_multiple_knapsacks_type1.xlsx\")"
   ]
  },
  {
   "cell_type": "markdown",
   "id": "7a6168e7",
   "metadata": {},
   "source": [
    "## New constraint\n",
    "\n",
    "The idea of this constraint is that each knapsack must contain at most items of some new distinct categories. Therefore, we must create new parameters, decision variables, and a new rule.\n",
    "\n",
    "- $kc_k \\space \\forall \\space k \\in K$ - Knapsack maximum distinct categories\n",
    "- $y_{c, k} \\space \\forall \\space i \\in I$ - Binary: is category on knapsack\n",
    "\n",
    "$\\displaystyle \\sum_{c \\in C} y_{c, k} \\leq kc_{k} \\space \\forall \\space k \\in K$"
   ]
  },
  {
   "cell_type": "code",
   "execution_count": 23,
   "id": "85671594",
   "metadata": {},
   "outputs": [],
   "source": [
    "max_categories_on_knapsack = data_knapsacks[\"max_categories\"].to_dict()\n",
    "\n",
    "#New parameter max categories on each knapsack\n",
    "model.kc = pyo.Param(model.K, initialize=max_categories_on_knapsack)\n",
    "\n",
    "#New variable binary if category is on knapsack\n",
    "model.y = pyo.Var(model.C, model.K, initialize=0, within=pyo.Binary)\n",
    "\n",
    "#Sum binary variables across categories for each knapsack\n",
    "def constr_max_categories_on_k(model, k):\n",
    "    return sum(model.y[c, k] for c in model.C) <= model.kc[k]\n",
    "\n",
    "model.constr_max_categories_on_k = pyo.Constraint(model.K, rule=constr_max_categories_on_k)"
   ]
  },
  {
   "cell_type": "markdown",
   "id": "6de1b269",
   "metadata": {},
   "source": [
    "### Weak formulation"
   ]
  },
  {
   "cell_type": "markdown",
   "id": "ed810809",
   "metadata": {},
   "source": [
    "$\\displaystyle \\sum_{i \\in \\{I \\mid cat_i = c\\}} x_{i, k} \\leq y_{c, k} \\space \\forall \\space k \\in K \\space \\forall \\space c \\in C$"
   ]
  },
  {
   "cell_type": "code",
   "execution_count": 24,
   "id": "898268fb",
   "metadata": {},
   "outputs": [],
   "source": [
    "#Strategy 1 - Weak formulation\n",
    "category_of_item = data_items[\"category\"].to_dict()\n",
    "\n",
    "def items_per_category_on_knapsack(model, c, k):\n",
    "    return sum(model.x[i, k] if category_of_item[i] == c else 0\n",
    "               for i in model.I)\n",
    "\n",
    "model.x_cats_knapsacks = pyo.Expression(model.C, model.K, rule=items_per_category_on_knapsack)\n",
    "\n",
    "#Suggestion: define big M\n",
    "M = data_items.groupby(\"category\")[\"available\"].sum().to_dict()\n",
    "\n",
    "model.M = pyo.Param(model.C, initialize=M)\n",
    "\n",
    "#Constraint in which the binary is 1 is any item of category is in the knapsack\n",
    "def constr_binary_cat_k(model, c, k):\n",
    "    return model.x_cats_knapsacks[c, k] \\\n",
    "        <= model.y[c, k] * model.M[c]\n",
    "\n",
    "model.constr_bin_cat_k = pyo.Constraint(model.C, model.K, rule=constr_binary_cat_k)"
   ]
  },
  {
   "cell_type": "markdown",
   "id": "0bbe507b",
   "metadata": {},
   "source": [
    "### Strong formulation"
   ]
  },
  {
   "cell_type": "markdown",
   "id": "cd3fe827",
   "metadata": {},
   "source": [
    "$\\displaystyle x_{i, k} \\leq y_{cat_i, k} \\space \\forall \\space k \\in K \\space \\forall \\space i \\in I$"
   ]
  },
  {
   "cell_type": "code",
   "execution_count": 25,
   "id": "cd8237dc",
   "metadata": {},
   "outputs": [],
   "source": [
    "#Stonger form of constraint in which the binary is 1 is any item of category is in the knapsack\n",
    "def constr_binary_cat_item_k(model, i, k):\n",
    "    return model.x[i, k] \\\n",
    "        <= model.y[data_items.loc[i, \"category\"], k] * model.b[i]\n",
    "\n",
    "model.constr_binary_cat_item_k = pyo.Constraint(model.I, model.K, rule=constr_binary_cat_item_k)"
   ]
  },
  {
   "cell_type": "code",
   "execution_count": 26,
   "id": "b51543cc",
   "metadata": {},
   "outputs": [
    {
     "data": {
      "text/plain": [
       "('multi_knapsacks_type2.lp', 2279261836048)"
      ]
     },
     "execution_count": 26,
     "metadata": {},
     "output_type": "execute_result"
    }
   ],
   "source": [
    "model.write('multi_knapsacks_type2.lp', io_options={'symbolic_solver_labels': True})"
   ]
  },
  {
   "cell_type": "code",
   "execution_count": 27,
   "id": "e5bb7990",
   "metadata": {},
   "outputs": [
    {
     "name": "stdout",
     "output_type": "stream",
     "text": [
      "\n",
      "Problem: \n",
      "- Name: unknown\n",
      "  Lower bound: -124.512403855581\n",
      "  Upper bound: -124.512403855581\n",
      "  Number of objectives: 1\n",
      "  Number of constraints: 225\n",
      "  Number of variables: 166\n",
      "  Number of nonzeros: 931\n",
      "  Sense: minimize\n",
      "Solver: \n",
      "- Status: ok\n",
      "  Termination condition: optimal\n",
      "  Statistics: \n",
      "    Branch and bound: \n",
      "      Number of bounded subproblems: 11379\n",
      "      Number of created subproblems: 11379\n",
      "  Error rc: 0\n",
      "  Time: 5.824418544769287\n",
      "Solution: \n",
      "- number of solutions: 0\n",
      "  number of solutions displayed: 0\n",
      "\n"
     ]
    }
   ],
   "source": [
    "solution_type2 = opt.solve(model)\n",
    "print(solution_type2)"
   ]
  },
  {
   "cell_type": "code",
   "execution_count": 28,
   "id": "1284fc99",
   "metadata": {},
   "outputs": [
    {
     "name": "stdout",
     "output_type": "stream",
     "text": [
      "objective : Size=1, Index=None, Active=True\n",
      "    Key  : Active : Value\n",
      "    None :   True : -124.51240385558054\n"
     ]
    }
   ],
   "source": [
    "model.objective.display()"
   ]
  },
  {
   "cell_type": "code",
   "execution_count": 29,
   "id": "0dd2e903",
   "metadata": {},
   "outputs": [],
   "source": [
    "output_type2 = pd.DataFrame(index=items_labels, columns=knapsacks)\n",
    "\n",
    "for i in items_labels:\n",
    "    for k in knapsacks:\n",
    "        output_type2.loc[i, k] = model.x[i, k].value\n",
    "\n",
    "output_type2.to_excel(\"..\\data\\output_multiple_knapsacks_type2.xlsx\")"
   ]
  },
  {
   "cell_type": "code",
   "execution_count": 30,
   "id": "91473301",
   "metadata": {},
   "outputs": [
    {
     "name": "stdout",
     "output_type": "stream",
     "text": [
      "constr_max_categories_on_k : Size=3\n",
      "    Key : Lower : Body : Upper\n",
      "      A :  None :  2.0 :   2.0\n",
      "      B :  None :  4.0 :   4.0\n",
      "      C :  None :  3.0 :   3.0\n"
     ]
    }
   ],
   "source": [
    "model.constr_max_categories_on_k.display()"
   ]
  },
  {
   "cell_type": "code",
   "execution_count": 31,
   "id": "64a21d1a",
   "metadata": {},
   "outputs": [
    {
     "name": "stdout",
     "output_type": "stream",
     "text": [
      "weight_constraint : Size=3\n",
      "    Key : Lower : Body               : Upper\n",
      "      A :  None :  20.19892493022179 :  21.0\n",
      "      B :  None :  18.86478343484082 :  19.0\n",
      "      C :  None : 27.786104447512663 :  28.0\n"
     ]
    }
   ],
   "source": [
    "model.weight_constraint.display()"
   ]
  },
  {
   "cell_type": "code",
   "execution_count": 32,
   "id": "d6713806",
   "metadata": {},
   "outputs": [
    {
     "name": "stdout",
     "output_type": "stream",
     "text": [
      "volume_constraint : Size=3\n",
      "    Key : Lower : Body               : Upper\n",
      "      A :  None :  31.15237230363154 :  32.0\n",
      "      B :  None :  20.67223464031445 :  22.0\n",
      "      C :  None : 16.215114639890935 :  17.0\n"
     ]
    }
   ],
   "source": [
    "model.volume_constraint.display()"
   ]
  },
  {
   "cell_type": "code",
   "execution_count": null,
   "id": "50e66e71",
   "metadata": {},
   "outputs": [],
   "source": []
  }
 ],
 "metadata": {
  "interpreter": {
   "hash": "a992cb2dda05445c8c5fb6e645a38d47fdfe353d6281f2d500d5b34f7aac7b3e"
  },
  "kernelspec": {
   "display_name": "Python 3.9.7 ('venv-mip': venv)",
   "language": "python",
   "name": "python3"
  },
  "language_info": {
   "codemirror_mode": {
    "name": "ipython",
    "version": 3
   },
   "file_extension": ".py",
   "mimetype": "text/x-python",
   "name": "python",
   "nbconvert_exporter": "python",
   "pygments_lexer": "ipython3",
   "version": "3.9.7"
  }
 },
 "nbformat": 4,
 "nbformat_minor": 5
}
