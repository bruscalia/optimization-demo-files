{
 "cells": [
  {
   "attachments": {},
   "cell_type": "markdown",
   "id": "ad0866b0",
   "metadata": {},
   "source": [
    "# Multi-dimensional knapsack\n",
    "\n",
    "## Intro\n",
    "\n",
    "This is a variant of the integer linear programming problem in which the goal is to maximize the value transported in a knapsack limited by capacity in more than one dimension by selecting the most suitable items."
   ]
  },
  {
   "attachments": {},
   "cell_type": "markdown",
   "id": "9cbddec8",
   "metadata": {},
   "source": [
    "## Model statement\n",
    "\n",
    "$$\n",
    "\\begin{align}\n",
    "    \\text{max} \\quad & \\sum_{i \\in I}{c_{i} x_{i}} \\\\\n",
    "    \\text{s.t.} \\quad & \\sum_{i \\in I}{w_{d, i} x_{i}} \\leq k_{d} & \\forall ~d \\in D\\\\\n",
    "    & x_{i} \\in \\left \\{ 0, 1 \\right \\} & \\forall ~i \\in I\\\\\n",
    "\\end{align}\n",
    "$$"
   ]
  },
  {
   "cell_type": "code",
   "execution_count": 1,
   "id": "89ed121d",
   "metadata": {},
   "outputs": [],
   "source": [
    "import numpy as np\n",
    "from scipy.optimize import linprog\n",
    "import pyomo.environ as pyo"
   ]
  },
  {
   "attachments": {},
   "cell_type": "markdown",
   "id": "ccfa46a1",
   "metadata": {},
   "source": [
    "## Using scipy"
   ]
  },
  {
   "attachments": {},
   "cell_type": "markdown",
   "id": "3e1c5c77",
   "metadata": {},
   "source": [
    "We must formulate this problem using the following matrix notation:\n",
    "\n",
    "$$\n",
    "\\begin{align}\n",
    "    \\text{min} \\quad & \\boldsymbol{c}^T \\boldsymbol{x} \\\\\n",
    "    \\text{s.t.} \\quad & \\boldsymbol{A}_{eq} \\boldsymbol{x} = \\boldsymbol{b}_{eq} \\\\\n",
    "    & \\boldsymbol{A}_{ub} \\boldsymbol{x} \\leq \\boldsymbol{b}_{ub}\\\\\n",
    "    & \\boldsymbol{l} \\leq \\boldsymbol{x} \\leq \\boldsymbol{u}\n",
    "\\end{align}\n",
    "$$"
   ]
  },
  {
   "attachments": {},
   "cell_type": "markdown",
   "id": "fc6151f0",
   "metadata": {},
   "source": [
    "**Decision variables:**\n",
    "\n",
    "$\\boldsymbol{x}$ - Column vector with the amount of each item added to the knapsack\n",
    "\n",
    "**Fixed parameters**\n",
    "\n",
    "$\\boldsymbol{c}$ - Negative value of the value of each item\n",
    "\n",
    "$\\boldsymbol{A}_{ub}$ - Matrix of inequality constraint terms:\\\n",
    "$a_{d, i}$ - Weight per unit of item $i$ on dimension $d$\n",
    "\n",
    "$\\boldsymbol{b}_{ub_{d}}$ - Knapsack capacity on dimension $d$"
   ]
  },
  {
   "cell_type": "code",
   "execution_count": null,
   "id": "bbb80d19",
   "metadata": {},
   "outputs": [],
   "source": [
    "# Random seed\n",
    "np.random.seed(12)\n",
    "\n",
    "# Weight associated with each item in each dimension (matrix form)\n",
    "A_ub = np.array([\n",
    "    np.random.normal(loc=5.0, scale=1.0, size=10).clip(0.5, 10.0),\n",
    "    np.random.normal(loc=6.0, scale=2.0, size=10).clip(0.5, 10.0)\n",
    "])\n",
    "\n",
    "# Value associated with each item\n",
    "c = -np.random.normal(loc=10.0, scale=1.0, size=10).clip(0.5, 20.0)\n",
    "\n",
    "# knapsack capacity\n",
    "b_ub = np.array([21.0, 22.0])\n",
    "\n",
    "# Bounds (one quantity of each item)\n",
    "bounds = [(0, 1),] * len(c)"
   ]
  },
  {
   "cell_type": "code",
   "execution_count": 3,
   "id": "a75ae879",
   "metadata": {},
   "outputs": [],
   "source": [
    "sol = linprog(c, A_ub=A_ub, b_ub=b_ub, bounds=bounds)"
   ]
  },
  {
   "cell_type": "code",
   "execution_count": 4,
   "id": "c992719d",
   "metadata": {},
   "outputs": [
    {
     "name": "stdout",
     "output_type": "stream",
     "text": [
      "        message: Optimization terminated successfully. (HiGHS Status 7: Optimal)\n",
      "        success: True\n",
      "         status: 0\n",
      "            fun: -44.81724486288822\n",
      "              x: [ 1.000e+00  8.656e-01  0.000e+00  1.000e+00  0.000e+00\n",
      "                   0.000e+00  0.000e+00  8.805e-01  1.000e+00  0.000e+00]\n",
      "            nit: 2\n",
      "          lower:  residual: [ 1.000e+00  8.656e-01  0.000e+00  1.000e+00\n",
      "                              0.000e+00  0.000e+00  0.000e+00  8.805e-01\n",
      "                              1.000e+00  0.000e+00]\n",
      "                 marginals: [ 0.000e+00  0.000e+00  1.456e+00  0.000e+00\n",
      "                              4.160e+00  5.104e-01  3.411e+00  0.000e+00\n",
      "                              0.000e+00  5.386e+00]\n",
      "          upper:  residual: [ 0.000e+00  1.344e-01  1.000e+00  0.000e+00\n",
      "                              1.000e+00  1.000e+00  1.000e+00  1.195e-01\n",
      "                              0.000e+00  1.000e+00]\n",
      "                 marginals: [-1.181e+00  0.000e+00  0.000e+00 -4.314e+00\n",
      "                              0.000e+00  0.000e+00  0.000e+00  0.000e+00\n",
      "                             -4.111e-01  0.000e+00]\n",
      "          eqlin:  residual: []\n",
      "                 marginals: []\n",
      "        ineqlin:  residual: [ 0.000e+00  0.000e+00]\n",
      "                 marginals: [-9.280e-01 -8.828e-01]\n",
      " mip_node_count: 0\n",
      " mip_dual_bound: 0.0\n",
      "        mip_gap: 0.0\n"
     ]
    }
   ],
   "source": [
    "print(sol)"
   ]
  },
  {
   "attachments": {},
   "cell_type": "markdown",
   "id": "5526f8f4",
   "metadata": {},
   "source": [
    "## Integrality constraints\n",
    "\n",
    "Since version 1.9.0 scipy accepts integrality constraints as it now as a wrapper to a MILP solver.\n",
    "\n",
    "$x_i \\in \\Z \\quad \\forall i \\in I$"
   ]
  },
  {
   "cell_type": "code",
   "execution_count": 5,
   "id": "e4f910ae",
   "metadata": {},
   "outputs": [],
   "source": [
    "integrality_vector = np.full(c.shape[0], 1)\n",
    "\n",
    "sol_int = linprog(c, A_ub=A_ub, b_ub=b_ub, bounds=bounds, integrality=integrality_vector)"
   ]
  },
  {
   "cell_type": "code",
   "execution_count": 6,
   "id": "8123a6fa",
   "metadata": {},
   "outputs": [
    {
     "name": "stdout",
     "output_type": "stream",
     "text": [
      "        message: Optimization terminated successfully. (HiGHS Status 7: Optimal)\n",
      "        success: True\n",
      "         status: 0\n",
      "            fun: -39.88187183116921\n",
      "              x: [ 1.000e+00  0.000e+00  1.000e+00  1.000e+00  0.000e+00\n",
      "                   0.000e+00  0.000e+00  1.000e+00  0.000e+00  0.000e+00]\n",
      "            nit: -1\n",
      "          lower:  residual: [ 1.000e+00  0.000e+00  1.000e+00  1.000e+00\n",
      "                              0.000e+00  0.000e+00  0.000e+00  1.000e+00\n",
      "                              0.000e+00  0.000e+00]\n",
      "                 marginals: [ 0.000e+00  0.000e+00  0.000e+00  0.000e+00\n",
      "                              0.000e+00  0.000e+00  0.000e+00  0.000e+00\n",
      "                              0.000e+00  0.000e+00]\n",
      "          upper:  residual: [ 0.000e+00  1.000e+00  0.000e+00  0.000e+00\n",
      "                              1.000e+00  1.000e+00  1.000e+00  0.000e+00\n",
      "                              1.000e+00  1.000e+00]\n",
      "                 marginals: [ 0.000e+00  0.000e+00  0.000e+00  0.000e+00\n",
      "                              0.000e+00  0.000e+00  0.000e+00  0.000e+00\n",
      "                              0.000e+00  0.000e+00]\n",
      "          eqlin:  residual: []\n",
      "                 marginals: []\n",
      "        ineqlin:  residual: [ 2.106e+00  1.262e+00]\n",
      "                 marginals: [ 0.000e+00  0.000e+00]\n",
      " mip_node_count: 1\n",
      " mip_dual_bound: -39.88187183116921\n",
      "        mip_gap: 0.0\n"
     ]
    }
   ],
   "source": [
    "print(sol_int)"
   ]
  },
  {
   "attachments": {},
   "cell_type": "markdown",
   "id": "b8b8b3cc",
   "metadata": {},
   "source": [
    "## Using pyomo"
   ]
  },
  {
   "cell_type": "code",
   "execution_count": 7,
   "id": "3230c35d",
   "metadata": {},
   "outputs": [],
   "source": [
    "model = pyo.ConcreteModel()"
   ]
  },
  {
   "attachments": {},
   "cell_type": "markdown",
   "id": "0d93e140",
   "metadata": {},
   "source": [
    "### Sets"
   ]
  },
  {
   "cell_type": "code",
   "execution_count": 8,
   "id": "001b5e09",
   "metadata": {},
   "outputs": [],
   "source": [
    "model.I = pyo.Set(initialize=range(10))\n",
    "model.D = pyo.Set(initialize=[\"weight\", \"volume\"])"
   ]
  },
  {
   "attachments": {},
   "cell_type": "markdown",
   "id": "f1142256",
   "metadata": {},
   "source": [
    "### Parameters"
   ]
  },
  {
   "cell_type": "code",
   "execution_count": 9,
   "id": "427c2e74",
   "metadata": {},
   "outputs": [],
   "source": [
    "# Parameters of the knapsack\n",
    "k = dict(zip(model.D, b_ub))\n",
    "model.k = pyo.Param(model.D, initialize=k)"
   ]
  },
  {
   "cell_type": "code",
   "execution_count": 10,
   "id": "e906055a",
   "metadata": {},
   "outputs": [],
   "source": [
    "# Value of each item\n",
    "model.c = pyo.Param(model.I, initialize=dict(zip(model.I, -c)))\n",
    "\n",
    "# Fill a dictionary of weights based on A values\n",
    "w = {}\n",
    "for j, d in enumerate(model.D):\n",
    "    for i, item in enumerate(model.I):\n",
    "        w[d, item] = A_ub[j, i]\n",
    "\n",
    "model.w = pyo.Param(model.D, model.I, initialize=w)"
   ]
  },
  {
   "attachments": {},
   "cell_type": "markdown",
   "id": "006f711b",
   "metadata": {},
   "source": [
    "### Variables"
   ]
  },
  {
   "cell_type": "code",
   "execution_count": 11,
   "id": "d8efbb32",
   "metadata": {},
   "outputs": [],
   "source": [
    "model.x = pyo.Var(model.I, within=pyo.Binary)"
   ]
  },
  {
   "attachments": {},
   "cell_type": "markdown",
   "id": "1fb29e04",
   "metadata": {},
   "source": [
    "### Constraints"
   ]
  },
  {
   "cell_type": "code",
   "execution_count": 12,
   "id": "d56d7b13",
   "metadata": {},
   "outputs": [],
   "source": [
    "def capacity_constraint(model, d):\n",
    "    return sum(model.x[i] * model.w[d, i] for i in model.I) <= model.k[d]\n",
    "\n",
    "model.capacity_constraint = pyo.Constraint(model.D, rule=capacity_constraint)"
   ]
  },
  {
   "attachments": {},
   "cell_type": "markdown",
   "id": "f78b6f13",
   "metadata": {},
   "source": [
    "### Objective"
   ]
  },
  {
   "cell_type": "code",
   "execution_count": 13,
   "id": "5ffd2708",
   "metadata": {},
   "outputs": [],
   "source": [
    "def obj_function(model):\n",
    "    return sum(model.x[i] * model.c[i] for i in model.I)\n",
    "    \n",
    "model.objective = pyo.Objective(rule=obj_function, sense=pyo.maximize)"
   ]
  },
  {
   "attachments": {},
   "cell_type": "markdown",
   "id": "2e157a98",
   "metadata": {},
   "source": [
    "### Solve"
   ]
  },
  {
   "cell_type": "code",
   "execution_count": 14,
   "id": "d2f4d4ac",
   "metadata": {},
   "outputs": [],
   "source": [
    "opt = pyo.SolverFactory('cbc')\n",
    "opt.options['sec'] = 120"
   ]
  },
  {
   "cell_type": "code",
   "execution_count": 15,
   "id": "c0fda459",
   "metadata": {},
   "outputs": [
    {
     "name": "stdout",
     "output_type": "stream",
     "text": [
      "\n",
      "Problem: \n",
      "- Name: unknown\n",
      "  Lower bound: 39.88187183\n",
      "  Upper bound: 39.88187183\n",
      "  Number of objectives: 1\n",
      "  Number of constraints: 2\n",
      "  Number of variables: 10\n",
      "  Number of binary variables: 10\n",
      "  Number of integer variables: 10\n",
      "  Number of nonzeros: 10\n",
      "  Sense: maximize\n",
      "Solver: \n",
      "- Status: ok\n",
      "  User time: -1.0\n",
      "  System time: 0.05\n",
      "  Wallclock time: 0.05\n",
      "  Termination condition: optimal\n",
      "  Termination message: Model was solved to optimality (subject to tolerances), and an optimal solution is available.\n",
      "  Statistics: \n",
      "    Branch and bound: \n",
      "      Number of bounded subproblems: 0\n",
      "      Number of created subproblems: 0\n",
      "    Black box: \n",
      "      Number of iterations: 3\n",
      "  Error rc: 0\n",
      "  Time: 0.10871052742004395\n",
      "Solution: \n",
      "- number of solutions: 0\n",
      "  number of solutions displayed: 0\n",
      "\n"
     ]
    }
   ],
   "source": [
    "solution = opt.solve(model)\n",
    "print(solution)"
   ]
  },
  {
   "cell_type": "code",
   "execution_count": 16,
   "id": "fb0cd87d",
   "metadata": {},
   "outputs": [
    {
     "name": "stdout",
     "output_type": "stream",
     "text": [
      "objective : Size=1, Index=None, Active=True\n",
      "    Key  : Active : Value\n",
      "    None :   True : 39.88187183116921\n"
     ]
    }
   ],
   "source": [
    "model.objective.display()"
   ]
  },
  {
   "cell_type": "code",
   "execution_count": 17,
   "id": "2086ee08",
   "metadata": {},
   "outputs": [
    {
     "name": "stdout",
     "output_type": "stream",
     "text": [
      "x : Size=10, Index=I\n",
      "    Key : Lower : Value : Upper : Fixed : Stale : Domain\n",
      "      0 :     0 :   1.0 :     1 : False : False : Binary\n",
      "      1 :     0 :   0.0 :     1 : False : False : Binary\n",
      "      2 :     0 :   1.0 :     1 : False : False : Binary\n",
      "      3 :     0 :   1.0 :     1 : False : False : Binary\n",
      "      4 :     0 :   0.0 :     1 : False : False : Binary\n",
      "      5 :     0 :   0.0 :     1 : False : False : Binary\n",
      "      6 :     0 :   0.0 :     1 : False : False : Binary\n",
      "      7 :     0 :   1.0 :     1 : False : False : Binary\n",
      "      8 :     0 :   0.0 :     1 : False : False : Binary\n",
      "      9 :     0 :   0.0 :     1 : False : False : Binary\n"
     ]
    }
   ],
   "source": [
    "model.x.display()"
   ]
  },
  {
   "cell_type": "code",
   "execution_count": 19,
   "id": "747e5443",
   "metadata": {},
   "outputs": [
    {
     "name": "stdout",
     "output_type": "stream",
     "text": [
      "Item 0 was added in both situations\n",
      "Item 1 was partially added in relaxed problem only - value 0.87\n",
      "Item 2 was added only in integer problem\n",
      "Item 3 was added in both situations\n",
      "Item 4 was not added in any situation\n",
      "Item 5 was not added in any situation\n",
      "Item 6 was not added in any situation\n",
      "Item 7 was partially added in relaxed problem - value 0.88 - but completely added in the integer version\n",
      "Item 8 was completely added in relaxed problem only\n",
      "Item 9 was not added in any situation\n"
     ]
    }
   ],
   "source": [
    "for i, item in enumerate(model.I):\n",
    "    if abs(sol.x[i] - model.x[item].value) <= 1e-3:\n",
    "        if sol.x[i] >= 1e-3:\n",
    "            print(f\"Item {item} was added in both situations\")\n",
    "        else:\n",
    "            print(f\"Item {item} was not added in any situation\")\n",
    "        \n",
    "    elif sol.x[i] > model.x[item].value + 1e-3:\n",
    "        if sol.x[i] == 1:\n",
    "            print(f\"Item {item} was completely added in relaxed problem only\")\n",
    "        else:\n",
    "            xi = sol.x[i]\n",
    "            print(f\"Item {item} was partially added in relaxed problem only - value {xi:.2f}\")\n",
    "            \n",
    "    elif sol.x[i] + 1e-3 < model.x[item].value:\n",
    "        if sol.x[i] <= 1e-3:\n",
    "            print(f\"Item {item} was added only in integer problem\")\n",
    "        else:\n",
    "            xi = sol.x[i]\n",
    "            print(f\"Item {item} was partially added in relaxed problem - value {xi:.2f} - but completely added in the integer version\")"
   ]
  },
  {
   "cell_type": "code",
   "execution_count": 20,
   "id": "478b7389",
   "metadata": {},
   "outputs": [
    {
     "name": "stdout",
     "output_type": "stream",
     "text": [
      "capacity_constraint : Size=2\n",
      "    Key    : Lower : Body               : Upper\n",
      "    volume :  None :  20.73819050160827 :  22.0\n",
      "    weight :  None : 18.894462023985934 :  21.0\n"
     ]
    }
   ],
   "source": [
    "model.capacity_constraint.display()"
   ]
  },
  {
   "cell_type": "code",
   "execution_count": null,
   "id": "148b2b33",
   "metadata": {},
   "outputs": [],
   "source": []
  }
 ],
 "metadata": {
  "kernelspec": {
   "display_name": "Python 3.9.7 ('venv': venv)",
   "language": "python",
   "name": "python3"
  },
  "language_info": {
   "codemirror_mode": {
    "name": "ipython",
    "version": 3
   },
   "file_extension": ".py",
   "mimetype": "text/x-python",
   "name": "python",
   "nbconvert_exporter": "python",
   "pygments_lexer": "ipython3",
   "version": "3.9.7"
  },
  "vscode": {
   "interpreter": {
    "hash": "bc08d11936453eaa7fe55368990a6972dd4c9fc3768bd9ccbb85511fe4757f39"
   }
  }
 },
 "nbformat": 4,
 "nbformat_minor": 5
}
