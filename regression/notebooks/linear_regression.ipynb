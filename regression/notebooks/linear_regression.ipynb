{
 "cells": [
  {
   "cell_type": "code",
   "execution_count": 1,
   "metadata": {},
   "outputs": [],
   "source": [
    "import numpy as np\n",
    "import pandas as pd\n",
    "import matplotlib.pyplot as plt\n",
    "from scipy.stats import norm, normaltest, shapiro\n",
    "from scipy.stats import t as t_fun\n",
    "from sklearn.model_selection import train_test_split"
   ]
  },
  {
   "cell_type": "markdown",
   "metadata": {},
   "source": [
    "## Wire Bond"
   ]
  },
  {
   "cell_type": "code",
   "execution_count": 2,
   "metadata": {},
   "outputs": [
    {
     "data": {
      "text/html": [
       "<div>\n",
       "<style scoped>\n",
       "    .dataframe tbody tr th:only-of-type {\n",
       "        vertical-align: middle;\n",
       "    }\n",
       "\n",
       "    .dataframe tbody tr th {\n",
       "        vertical-align: top;\n",
       "    }\n",
       "\n",
       "    .dataframe thead th {\n",
       "        text-align: right;\n",
       "    }\n",
       "</style>\n",
       "<table border=\"1\" class=\"dataframe\">\n",
       "  <thead>\n",
       "    <tr style=\"text-align: right;\">\n",
       "      <th></th>\n",
       "      <th>Wire_Length</th>\n",
       "      <th>Die_Heigh</th>\n",
       "      <th>Pull_Strength</th>\n",
       "    </tr>\n",
       "    <tr>\n",
       "      <th>Index</th>\n",
       "      <th></th>\n",
       "      <th></th>\n",
       "      <th></th>\n",
       "    </tr>\n",
       "  </thead>\n",
       "  <tbody>\n",
       "    <tr>\n",
       "      <th>1</th>\n",
       "      <td>2</td>\n",
       "      <td>50</td>\n",
       "      <td>9.95</td>\n",
       "    </tr>\n",
       "    <tr>\n",
       "      <th>2</th>\n",
       "      <td>8</td>\n",
       "      <td>110</td>\n",
       "      <td>24.45</td>\n",
       "    </tr>\n",
       "    <tr>\n",
       "      <th>3</th>\n",
       "      <td>11</td>\n",
       "      <td>120</td>\n",
       "      <td>31.75</td>\n",
       "    </tr>\n",
       "    <tr>\n",
       "      <th>4</th>\n",
       "      <td>10</td>\n",
       "      <td>550</td>\n",
       "      <td>35.00</td>\n",
       "    </tr>\n",
       "    <tr>\n",
       "      <th>5</th>\n",
       "      <td>8</td>\n",
       "      <td>295</td>\n",
       "      <td>25.02</td>\n",
       "    </tr>\n",
       "  </tbody>\n",
       "</table>\n",
       "</div>"
      ],
      "text/plain": [
       "       Wire_Length  Die_Heigh  Pull_Strength\n",
       "Index                                       \n",
       "1                2         50           9.95\n",
       "2                8        110          24.45\n",
       "3               11        120          31.75\n",
       "4               10        550          35.00\n",
       "5                8        295          25.02"
      ]
     },
     "execution_count": 2,
     "metadata": {},
     "output_type": "execute_result"
    }
   ],
   "source": [
    "dataset = pd.read_csv(\"../data/montgomery/wire_bond.txt\", sep=\" \", index_col=0)\n",
    "dataset.head()"
   ]
  },
  {
   "cell_type": "code",
   "execution_count": 3,
   "metadata": {},
   "outputs": [
    {
     "data": {
      "text/html": [
       "<div>\n",
       "<style scoped>\n",
       "    .dataframe tbody tr th:only-of-type {\n",
       "        vertical-align: middle;\n",
       "    }\n",
       "\n",
       "    .dataframe tbody tr th {\n",
       "        vertical-align: top;\n",
       "    }\n",
       "\n",
       "    .dataframe thead th {\n",
       "        text-align: right;\n",
       "    }\n",
       "</style>\n",
       "<table border=\"1\" class=\"dataframe\">\n",
       "  <thead>\n",
       "    <tr style=\"text-align: right;\">\n",
       "      <th></th>\n",
       "      <th>Wire_Length</th>\n",
       "      <th>Die_Heigh</th>\n",
       "      <th>Pull_Strength</th>\n",
       "    </tr>\n",
       "  </thead>\n",
       "  <tbody>\n",
       "    <tr>\n",
       "      <th>Wire_Length</th>\n",
       "      <td>1.000000</td>\n",
       "      <td>0.378413</td>\n",
       "      <td>0.981812</td>\n",
       "    </tr>\n",
       "    <tr>\n",
       "      <th>Die_Heigh</th>\n",
       "      <td>0.378413</td>\n",
       "      <td>1.000000</td>\n",
       "      <td>0.492867</td>\n",
       "    </tr>\n",
       "    <tr>\n",
       "      <th>Pull_Strength</th>\n",
       "      <td>0.981812</td>\n",
       "      <td>0.492867</td>\n",
       "      <td>1.000000</td>\n",
       "    </tr>\n",
       "  </tbody>\n",
       "</table>\n",
       "</div>"
      ],
      "text/plain": [
       "               Wire_Length  Die_Heigh  Pull_Strength\n",
       "Wire_Length       1.000000   0.378413       0.981812\n",
       "Die_Heigh         0.378413   1.000000       0.492867\n",
       "Pull_Strength     0.981812   0.492867       1.000000"
      ]
     },
     "execution_count": 3,
     "metadata": {},
     "output_type": "execute_result"
    }
   ],
   "source": [
    "dataset.corr()"
   ]
  },
  {
   "cell_type": "code",
   "execution_count": 4,
   "metadata": {},
   "outputs": [
    {
     "data": {
      "image/png": "[encoded data removed]",
      "text/plain": [
       "<Figure size 800x300 with 2 Axes>"
      ]
     },
     "metadata": {},
     "output_type": "display_data"
    }
   ],
   "source": [
    "cols = [\"Wire_Length\", \"Die_Heigh\"]\n",
    "\n",
    "fig, ax = plt.subplots(1, 2, figsize=[8, 3], dpi=100)\n",
    "\n",
    "fig.patch.set_facecolor('white')\n",
    "\n",
    "for j, col in enumerate(cols):\n",
    "    ax[j].scatter(dataset[col], dataset[\"Pull_Strength\"], color=\"navy\")\n",
    "    ax[j].set_xlabel(col)\n",
    "    ax[j].set_ylabel(\"Pull_Strength\")\n",
    "fig.tight_layout()\n",
    "\n",
    "plt.show()"
   ]
  },
  {
   "cell_type": "markdown",
   "metadata": {},
   "source": [
    "## Linear Regression"
   ]
  },
  {
   "cell_type": "markdown",
   "metadata": {},
   "source": [
    "$$\n",
    "y_i = \\beta_0 + \\sum_{j=1}^M \\beta_j x_{i, j} + \\epsilon_{i}\n",
    "$$\n",
    "\n",
    "$$\n",
    "\\boldsymbol{y} = \\beta_0 + \\boldsymbol{X} \\boldsymbol{\\beta} + \\boldsymbol{\\epsilon}\n",
    "$$\n",
    "\n",
    "$$\n",
    "\\boldsymbol{C} = (\\boldsymbol{X}^T \\boldsymbol{X}) ^ {-1}\n",
    "$$\n",
    "\n",
    "$$\n",
    "\\hat{\\boldsymbol{\\beta}} = \\boldsymbol{C} \\cdot (\\boldsymbol{X}^T \\boldsymbol{y})\n",
    "$$\n",
    "\n",
    "$$\n",
    "\\hat{y_i} = \\beta_0 + \\sum_{j=1}^M \\beta_j x_{i, j}\n",
    "$$\n",
    "\n",
    "$$\n",
    "SS_e = \\sum_{i=1}^N (y_i - \\beta_0 + \\sum_{j=1}^M \\beta_j x_{i, j}) ^ 2\n",
    "$$\n",
    "\n",
    "$$\n",
    "\\hat{\\sigma} ^ 2 = SS_e / (N - p)\n",
    "$$\n",
    "\n",
    "$$\n",
    "\\boldsymbol{V} = \\hat{\\sigma} ^ 2 \\boldsymbol{C}\n",
    "$$\n",
    "\n",
    "$$\n",
    "\\sigma_{\\hat{\\beta_{j}}} = \\sqrt{v_{j, j}}\n",
    "$$\n",
    "\n",
    "$$\n",
    "\\hat{\\mu}_{y|{\\boldsymbol{x}_0}} \\pm t_{\\alpha / 2, n-p} \\sqrt{\\hat{\\sigma} ^ 2 \\boldsymbol{x}_0 ^ T \\boldsymbol{C} \\boldsymbol{x}_0}\n",
    "$$"
   ]
  },
  {
   "cell_type": "code",
   "execution_count": 5,
   "metadata": {},
   "outputs": [],
   "source": [
    "class LinearRegression:\n",
    "    \n",
    "    def __init__(self, fit_intercept=True):\n",
    "        self.fit_intercept = fit_intercept\n",
    "    \n",
    "    def fit(self, X, y=None):\n",
    "        \n",
    "        X = self._prepare_X(X)\n",
    "        n, p = X.shape\n",
    "        \n",
    "        self.n = n\n",
    "        self.p = p\n",
    "        \n",
    "        C = np.linalg.inv(X.T.dot(X))\n",
    "        self.C = C\n",
    "\n",
    "        betas = C.dot(X.T.dot(y))\n",
    "        self.betas = betas\n",
    "        \n",
    "        epsilon = y - X.dot(betas)\n",
    "        sse = np.sum(epsilon * epsilon)\n",
    "        \n",
    "        sigma_squared = sse / (n - p)\n",
    "        self.sigma_squared = sigma_squared\n",
    "        \n",
    "        sigma = np.sqrt(sigma_squared)\n",
    "        self.sigma = sigma\n",
    "        \n",
    "        V = C * sigma_squared\n",
    "        self.V = V\n",
    "\n",
    "        sigma_betas = np.sqrt(np.diag(V))\n",
    "        self.sigma_betas = sigma_betas\n",
    "        \n",
    "        pvalues = t_fun.sf(abs(betas) / sigma_betas, (n - p)) * 2.0\n",
    "        self.pvalues = pvalues\n",
    "    \n",
    "    def predict(self, X, y=None):\n",
    "        X = self._prepare_X(X)\n",
    "        y_pred = X.dot(self.betas)\n",
    "        return y_pred\n",
    "    \n",
    "    def fit_predict(self, X, y=None):\n",
    "        self.fit(X, y)\n",
    "        y_pred = self.predict(X)\n",
    "        return y_pred\n",
    "    \n",
    "    def predict_confidence_interval(self, X, alpha=0.05):\n",
    "        X = self._prepare_X(X)\n",
    "        t_value = t_fun.isf(alpha/2, self.n - self.p)\n",
    "        sigma_pred = np.sqrt(self.sigma_squared * np.sum(X.dot(self.C) * X, axis=1))\n",
    "        return t_value * sigma_pred\n",
    "    \n",
    "    def _prepare_X(self, X):\n",
    "        \n",
    "        X = np.array(X)\n",
    "        if len(X.shape) == 1:\n",
    "            X = np.atleast_2d(X).reshape((-1, 1))\n",
    "        \n",
    "        if self.fit_intercept:\n",
    "            ones = np.ones((X.shape[0], 1))\n",
    "            X = np.column_stack((ones, X))\n",
    "        \n",
    "        else:\n",
    "            pass\n",
    "\n",
    "        return X\n",
    "    \n",
    "    def r2_score(self, X, y):\n",
    "        \n",
    "        y_pred = self.predict(X)\n",
    "        epsilon = y_pred - y\n",
    "        sse = np.sum(epsilon * epsilon)\n",
    "        \n",
    "        y_mean = np.mean(y)\n",
    "        mean_res = y_mean - y\n",
    "        sst = np.sum(mean_res * mean_res)\n",
    "        \n",
    "        return 1 - sse / sst"
   ]
  },
  {
   "cell_type": "markdown",
   "metadata": {},
   "source": [
    "## Original problem"
   ]
  },
  {
   "cell_type": "code",
   "execution_count": 6,
   "metadata": {},
   "outputs": [],
   "source": [
    "X = dataset.iloc[:, :-1].values\n",
    "y = dataset.iloc[:, -1].values"
   ]
  },
  {
   "cell_type": "code",
   "execution_count": 7,
   "metadata": {},
   "outputs": [
    {
     "name": "stdout",
     "output_type": "stream",
     "text": [
      "0.9811374834912948\n"
     ]
    }
   ],
   "source": [
    "linreg = LinearRegression()\n",
    "linreg.fit(X, y)\n",
    "print(linreg.r2_score(X, y))"
   ]
  },
  {
   "cell_type": "code",
   "execution_count": 8,
   "metadata": {},
   "outputs": [
    {
     "name": "stdout",
     "output_type": "stream",
     "text": [
      "Beta 0: 2.26; p-value: 0.04\n",
      "Beta 1: 2.74; p-value: 0.00\n",
      "Beta 2: 0.01; p-value: 0.00\n"
     ]
    }
   ],
   "source": [
    "for i, val in enumerate(linreg.betas):\n",
    "    pval = linreg.pvalues[i]\n",
    "    print(f\"Beta {i}: {val:.2f}; p-value: {pval:.2f}\")"
   ]
  },
  {
   "cell_type": "markdown",
   "metadata": {},
   "source": [
    "### Model adequacy"
   ]
  },
  {
   "cell_type": "code",
   "execution_count": 9,
   "metadata": {},
   "outputs": [
    {
     "name": "stdout",
     "output_type": "stream",
     "text": [
      "Mean epsilon: -0.000\n",
      "Sigma epsilon: 2.146\n"
     ]
    }
   ],
   "source": [
    "y_hat = linreg.predict(X)\n",
    "epsilon = y - y_hat\n",
    "print(f\"Mean epsilon: {np.mean(epsilon):.3f}\")\n",
    "print(f\"Sigma epsilon: {np.std(epsilon):.3f}\")"
   ]
  },
  {
   "cell_type": "code",
   "execution_count": 10,
   "metadata": {},
   "outputs": [
    {
     "name": "stdout",
     "output_type": "stream",
     "text": [
      "Shapiro test p-value: 0.38\n"
     ]
    }
   ],
   "source": [
    "shapiro_stat, shapiro_pvalue = shapiro(epsilon)\n",
    "print(f\"Shapiro test p-value: {shapiro_pvalue:.2f}\")"
   ]
  },
  {
   "cell_type": "code",
   "execution_count": 11,
   "metadata": {},
   "outputs": [
    {
     "name": "stdout",
     "output_type": "stream",
     "text": [
      "Normal test p-value: 0.10\n"
     ]
    }
   ],
   "source": [
    "normal_stat, normal_pvalue = normaltest(epsilon)\n",
    "print(f\"Normal test p-value: {normal_pvalue:.2f}\")"
   ]
  },
  {
   "cell_type": "code",
   "execution_count": 12,
   "metadata": {},
   "outputs": [
    {
     "data": {
      "image/png": "[encoded data removed]",
      "text/plain": [
       "<Figure size 400x300 with 1 Axes>"
      ]
     },
     "metadata": {},
     "output_type": "display_data"
    }
   ],
   "source": [
    "fig, ax = plt.subplots(figsize=[4, 3], dpi=100)\n",
    "\n",
    "fig.patch.set_facecolor('white')\n",
    "\n",
    "ax.scatter(y_hat, epsilon, color=\"navy\", zorder=1)\n",
    "ax.set_xlabel(r\"$\\hat{y}$\")\n",
    "ax.set_ylabel(r\"$\\epsilon$\")\n",
    "ax.axhline(y=0.0, color='grey', linestyle='--', zorder=0)\n",
    "fig.tight_layout()\n",
    "\n",
    "plt.show()"
   ]
  },
  {
   "cell_type": "code",
   "execution_count": 13,
   "metadata": {},
   "outputs": [
    {
     "data": {
      "image/png": "[encoded data removed]",
      "text/plain": [
       "<Figure size 800x300 with 2 Axes>"
      ]
     },
     "metadata": {},
     "output_type": "display_data"
    }
   ],
   "source": [
    "cols = [\"Wire_Length\", \"Die_Heigh\"]\n",
    "\n",
    "fig, ax = plt.subplots(1, 2, figsize=[8, 3], dpi=100)\n",
    "\n",
    "fig.patch.set_facecolor('white')\n",
    "\n",
    "for j, col in enumerate(cols):\n",
    "    ax[j].scatter(X[:, j], epsilon, color=\"navy\", zorder=1)\n",
    "    ax[j].set_xlabel(col)\n",
    "    ax[j].set_ylabel(r\"$\\epsilon$\")\n",
    "    ax[j].axhline(y=0.0, color='grey', linestyle='--', zorder=0)\n",
    "fig.tight_layout()\n",
    "\n",
    "plt.show()"
   ]
  },
  {
   "cell_type": "markdown",
   "metadata": {},
   "source": [
    "### Confidence interval example"
   ]
  },
  {
   "cell_type": "code",
   "execution_count": 14,
   "metadata": {},
   "outputs": [
    {
     "name": "stdout",
     "output_type": "stream",
     "text": [
      "26.66 ≤ 27.66 ≤ 28.66\n"
     ]
    }
   ],
   "source": [
    "# Given x0 from Montgomery\n",
    "x0 = np.atleast_2d([8.0, 275.0])\n",
    "y_x0 = linreg.predict(x0)\n",
    "ci_x0 = linreg.predict_confidence_interval(x0, alpha=0.05)\n",
    "y_range_x0 = (y_x0 - ci_x0)[0], (y_x0 + ci_x0)[0]\n",
    "print(f\"{y_range_x0[0]:.2f} ≤ {y_x0[0]:.2f} ≤ {y_range_x0[1]:.2f}\")"
   ]
  },
  {
   "cell_type": "markdown",
   "metadata": {},
   "source": [
    "## False predictor"
   ]
  },
  {
   "cell_type": "code",
   "execution_count": 15,
   "metadata": {},
   "outputs": [],
   "source": [
    "np.random.seed(42)\n",
    "x_false = X[:, 0] + np.random.randn(X.shape[0])\n",
    "X_false = np.column_stack((X, x_false.reshape((-1, 1))))"
   ]
  },
  {
   "cell_type": "code",
   "execution_count": 16,
   "metadata": {},
   "outputs": [
    {
     "data": {
      "image/png": "[encoded data removed]",
      "text/plain": [
       "<Figure size 400x300 with 1 Axes>"
      ]
     },
     "metadata": {},
     "output_type": "display_data"
    }
   ],
   "source": [
    "fig, ax = plt.subplots(figsize=[4, 3], dpi=100)\n",
    "fig.patch.set_facecolor('white')\n",
    "ax.scatter(x_false, dataset[\"Pull_Strength\"], color=\"navy\")\n",
    "ax.set_xlabel(\"False predictor\")\n",
    "ax.set_ylabel(\"Pull_Strength\")\n",
    "fig.tight_layout()\n",
    "\n",
    "plt.show()"
   ]
  },
  {
   "cell_type": "code",
   "execution_count": 17,
   "metadata": {},
   "outputs": [
    {
     "name": "stdout",
     "output_type": "stream",
     "text": [
      "0.9828394023241431\n"
     ]
    }
   ],
   "source": [
    "linreg_alt = LinearRegression()\n",
    "linreg_alt.fit(X_false, y)\n",
    "print(linreg_alt.r2_score(X_false, y))"
   ]
  },
  {
   "cell_type": "code",
   "execution_count": 18,
   "metadata": {},
   "outputs": [
    {
     "name": "stdout",
     "output_type": "stream",
     "text": [
      "Beta 0: 2.13; p-value: 0.05\n",
      "Beta 1: 3.43; p-value: 0.00\n",
      "Beta 2: 0.01; p-value: 0.00\n",
      "Beta 3: -0.69; p-value: 0.16\n"
     ]
    }
   ],
   "source": [
    "for i, val in enumerate(linreg_alt.betas):\n",
    "    pval = linreg_alt.pvalues[i]\n",
    "    print(f\"Beta {i}: {val:.2f}; p-value: {pval:.2f}\")"
   ]
  },
  {
   "cell_type": "markdown",
   "metadata": {},
   "source": [
    "## Oil pitch"
   ]
  },
  {
   "cell_type": "code",
   "execution_count": 19,
   "metadata": {},
   "outputs": [
    {
     "data": {
      "text/html": [
       "<div>\n",
       "<style scoped>\n",
       "    .dataframe tbody tr th:only-of-type {\n",
       "        vertical-align: middle;\n",
       "    }\n",
       "\n",
       "    .dataframe tbody tr th {\n",
       "        vertical-align: top;\n",
       "    }\n",
       "\n",
       "    .dataframe thead th {\n",
       "        text-align: right;\n",
       "    }\n",
       "</style>\n",
       "<table border=\"1\" class=\"dataframe\">\n",
       "  <thead>\n",
       "    <tr style=\"text-align: right;\">\n",
       "      <th></th>\n",
       "      <th>Temp</th>\n",
       "      <th>Soaktime</th>\n",
       "      <th>Soakpct</th>\n",
       "      <th>Difftime</th>\n",
       "      <th>Diffpct</th>\n",
       "      <th>Pitch</th>\n",
       "    </tr>\n",
       "    <tr>\n",
       "      <th>Index</th>\n",
       "      <th></th>\n",
       "      <th></th>\n",
       "      <th></th>\n",
       "      <th></th>\n",
       "      <th></th>\n",
       "      <th></th>\n",
       "    </tr>\n",
       "  </thead>\n",
       "  <tbody>\n",
       "    <tr>\n",
       "      <th>0</th>\n",
       "      <td>1650</td>\n",
       "      <td>0.58</td>\n",
       "      <td>1.10</td>\n",
       "      <td>0.25</td>\n",
       "      <td>0.90</td>\n",
       "      <td>0.013</td>\n",
       "    </tr>\n",
       "    <tr>\n",
       "      <th>1</th>\n",
       "      <td>1650</td>\n",
       "      <td>0.66</td>\n",
       "      <td>1.10</td>\n",
       "      <td>0.33</td>\n",
       "      <td>0.90</td>\n",
       "      <td>0.016</td>\n",
       "    </tr>\n",
       "    <tr>\n",
       "      <th>2</th>\n",
       "      <td>1650</td>\n",
       "      <td>0.66</td>\n",
       "      <td>1.10</td>\n",
       "      <td>0.33</td>\n",
       "      <td>0.90</td>\n",
       "      <td>0.015</td>\n",
       "    </tr>\n",
       "    <tr>\n",
       "      <th>3</th>\n",
       "      <td>1650</td>\n",
       "      <td>0.66</td>\n",
       "      <td>1.10</td>\n",
       "      <td>0.33</td>\n",
       "      <td>0.95</td>\n",
       "      <td>0.016</td>\n",
       "    </tr>\n",
       "    <tr>\n",
       "      <th>4</th>\n",
       "      <td>1600</td>\n",
       "      <td>0.66</td>\n",
       "      <td>1.15</td>\n",
       "      <td>0.33</td>\n",
       "      <td>1.00</td>\n",
       "      <td>0.015</td>\n",
       "    </tr>\n",
       "  </tbody>\n",
       "</table>\n",
       "</div>"
      ],
      "text/plain": [
       "       Temp  Soaktime  Soakpct  Difftime  Diffpct  Pitch\n",
       "Index                                                   \n",
       "0      1650      0.58     1.10      0.25     0.90  0.013\n",
       "1      1650      0.66     1.10      0.33     0.90  0.016\n",
       "2      1650      0.66     1.10      0.33     0.90  0.015\n",
       "3      1650      0.66     1.10      0.33     0.95  0.016\n",
       "4      1600      0.66     1.15      0.33     1.00  0.015"
      ]
     },
     "execution_count": 19,
     "metadata": {},
     "output_type": "execute_result"
    }
   ],
   "source": [
    "dataset = pd.read_csv(\"../data/montgomery/oil_pitch.txt\", sep=\" \", index_col=0)\n",
    "dataset.head()"
   ]
  },
  {
   "cell_type": "code",
   "execution_count": 20,
   "metadata": {},
   "outputs": [
    {
     "data": {
      "image/png": "[encoded data removed]",
      "text/plain": [
       "<Figure size 400x300 with 1 Axes>"
      ]
     },
     "metadata": {
      "needs_background": "light"
     },
     "output_type": "display_data"
    },
    {
     "data": {
      "image/png": "[encoded data removed]",
      "text/plain": [
       "<Figure size 400x300 with 1 Axes>"
      ]
     },
     "metadata": {
      "needs_background": "light"
     },
     "output_type": "display_data"
    },
    {
     "data": {
      "image/png": "[encoded data removed]",
      "text/plain": [
       "<Figure size 400x300 with 1 Axes>"
      ]
     },
     "metadata": {
      "needs_background": "light"
     },
     "output_type": "display_data"
    },
    {
     "data": {
      "image/png": "[encoded data removed]",
      "text/plain": [
       "<Figure size 400x300 with 1 Axes>"
      ]
     },
     "metadata": {
      "needs_background": "light"
     },
     "output_type": "display_data"
    },
    {
     "data": {
      "image/png": "[encoded data removed]",
      "text/plain": [
       "<Figure size 400x300 with 1 Axes>"
      ]
     },
     "metadata": {
      "needs_background": "light"
     },
     "output_type": "display_data"
    }
   ],
   "source": [
    "for col in ['Temp', 'Soaktime', 'Soakpct', 'Difftime', 'Diffpct']:\n",
    "\n",
    "    fig, ax = plt.subplots(figsize=[4, 3], dpi=100)\n",
    "    ax.scatter(dataset[col], dataset[\"Pitch\"], color=\"navy\")\n",
    "    ax.set_xlabel(col)\n",
    "    ax.set_ylabel(\"Pitch\")\n",
    "    fig.tight_layout()\n",
    "\n",
    "    plt.show()"
   ]
  },
  {
   "cell_type": "code",
   "execution_count": 21,
   "metadata": {},
   "outputs": [],
   "source": [
    "X = dataset.iloc[:, :-1].values\n",
    "y = dataset.iloc[:, -1].values"
   ]
  },
  {
   "cell_type": "code",
   "execution_count": 22,
   "metadata": {},
   "outputs": [
    {
     "name": "stdout",
     "output_type": "stream",
     "text": [
      "0.9689792908820654\n"
     ]
    }
   ],
   "source": [
    "linreg = LinearRegression()\n",
    "linreg.fit(X, y)\n",
    "print(linreg.r2_score(X, y))"
   ]
  },
  {
   "cell_type": "code",
   "execution_count": 23,
   "metadata": {},
   "outputs": [
    {
     "name": "stdout",
     "output_type": "stream",
     "text": [
      "Beta 0: -0.08; p-value: 0.30\n",
      "Beta 1: 0.00; p-value: 0.24\n",
      "Beta 2: 0.00; p-value: 0.00\n",
      "Beta 3: 0.02; p-value: 0.37\n",
      "Beta 4: 0.01; p-value: 0.00\n",
      "Beta 5: -0.00; p-value: 0.70\n"
     ]
    }
   ],
   "source": [
    "for i, val in enumerate(linreg.betas):\n",
    "    pval = linreg.pvalues[i]\n",
    "    print(f\"Beta {i}: {val:.2f}; p-value: {pval:.2f}\")"
   ]
  },
  {
   "cell_type": "markdown",
   "metadata": {},
   "source": [
    "### Benchmark"
   ]
  },
  {
   "cell_type": "code",
   "execution_count": 24,
   "metadata": {},
   "outputs": [],
   "source": [
    "import statsmodels.api as sm"
   ]
  },
  {
   "cell_type": "code",
   "execution_count": 25,
   "metadata": {},
   "outputs": [],
   "source": [
    "X = sm.add_constant(X)\n",
    "model = sm.OLS(y, X)\n",
    "results = model.fit()"
   ]
  },
  {
   "cell_type": "code",
   "execution_count": 26,
   "metadata": {},
   "outputs": [
    {
     "name": "stdout",
     "output_type": "stream",
     "text": [
      "                            OLS Regression Results                            \n",
      "==============================================================================\n",
      "Dep. Variable:                      y   R-squared:                       0.969\n",
      "Model:                            OLS   Adj. R-squared:                  0.963\n",
      "Method:                 Least Squares   F-statistic:                     162.4\n",
      "Date:                Fri, 02 Sep 2022   Prob (F-statistic):           9.54e-19\n",
      "Time:                        23:12:12   Log-Likelihood:                 152.70\n",
      "No. Observations:                  32   AIC:                            -293.4\n",
      "Df Residuals:                      26   BIC:                            -284.6\n",
      "Df Model:                           5                                         \n",
      "Covariance Type:            nonrobust                                         \n",
      "==============================================================================\n",
      "                 coef    std err          t      P>|t|      [0.025      0.975]\n",
      "------------------------------------------------------------------------------\n",
      "const         -0.0784      0.074     -1.065      0.297      -0.230       0.073\n",
      "x1          4.392e-05   3.63e-05      1.211      0.237   -3.06e-05       0.000\n",
      "x2             0.0025      0.000     11.787      0.000       0.002       0.003\n",
      "x3             0.0183      0.020      0.911      0.371      -0.023       0.060\n",
      "x4             0.0078      0.001      5.770      0.000       0.005       0.011\n",
      "x5            -0.0031      0.008     -0.389      0.700      -0.020       0.013\n",
      "==============================================================================\n",
      "Omnibus:                        5.565   Durbin-Watson:                   1.542\n",
      "Prob(Omnibus):                  0.062   Jarque-Bera (JB):                4.135\n",
      "Skew:                           0.601   Prob(JB):                        0.126\n",
      "Kurtosis:                       4.288   Cond. No.                     3.07e+05\n",
      "==============================================================================\n",
      "\n",
      "Notes:\n",
      "[1] Standard Errors assume that the covariance matrix of the errors is correctly specified.\n",
      "[2] The condition number is large, 3.07e+05. This might indicate that there are\n",
      "strong multicollinearity or other numerical problems.\n"
     ]
    }
   ],
   "source": [
    "print(results.summary())"
   ]
  },
  {
   "cell_type": "markdown",
   "metadata": {},
   "source": [
    "## Diabetes"
   ]
  },
  {
   "cell_type": "code",
   "execution_count": 27,
   "metadata": {},
   "outputs": [
    {
     "data": {
      "text/html": [
       "<div>\n",
       "<style scoped>\n",
       "    .dataframe tbody tr th:only-of-type {\n",
       "        vertical-align: middle;\n",
       "    }\n",
       "\n",
       "    .dataframe tbody tr th {\n",
       "        vertical-align: top;\n",
       "    }\n",
       "\n",
       "    .dataframe thead th {\n",
       "        text-align: right;\n",
       "    }\n",
       "</style>\n",
       "<table border=\"1\" class=\"dataframe\">\n",
       "  <thead>\n",
       "    <tr style=\"text-align: right;\">\n",
       "      <th></th>\n",
       "      <th>age</th>\n",
       "      <th>sex</th>\n",
       "      <th>bmi</th>\n",
       "      <th>bp</th>\n",
       "      <th>s1</th>\n",
       "      <th>s2</th>\n",
       "      <th>s3</th>\n",
       "      <th>s4</th>\n",
       "      <th>s5</th>\n",
       "      <th>s6</th>\n",
       "      <th>glu</th>\n",
       "    </tr>\n",
       "    <tr>\n",
       "      <th>Index</th>\n",
       "      <th></th>\n",
       "      <th></th>\n",
       "      <th></th>\n",
       "      <th></th>\n",
       "      <th></th>\n",
       "      <th></th>\n",
       "      <th></th>\n",
       "      <th></th>\n",
       "      <th></th>\n",
       "      <th></th>\n",
       "      <th></th>\n",
       "    </tr>\n",
       "  </thead>\n",
       "  <tbody>\n",
       "    <tr>\n",
       "      <th>0</th>\n",
       "      <td>0.038076</td>\n",
       "      <td>0.050680</td>\n",
       "      <td>0.061696</td>\n",
       "      <td>0.021872</td>\n",
       "      <td>-0.044223</td>\n",
       "      <td>-0.034821</td>\n",
       "      <td>-0.043401</td>\n",
       "      <td>-0.002592</td>\n",
       "      <td>0.019907</td>\n",
       "      <td>-0.017646</td>\n",
       "      <td>151.0</td>\n",
       "    </tr>\n",
       "    <tr>\n",
       "      <th>1</th>\n",
       "      <td>-0.001882</td>\n",
       "      <td>-0.044642</td>\n",
       "      <td>-0.051474</td>\n",
       "      <td>-0.026328</td>\n",
       "      <td>-0.008449</td>\n",
       "      <td>-0.019163</td>\n",
       "      <td>0.074412</td>\n",
       "      <td>-0.039493</td>\n",
       "      <td>-0.068332</td>\n",
       "      <td>-0.092204</td>\n",
       "      <td>75.0</td>\n",
       "    </tr>\n",
       "    <tr>\n",
       "      <th>2</th>\n",
       "      <td>0.085299</td>\n",
       "      <td>0.050680</td>\n",
       "      <td>0.044451</td>\n",
       "      <td>-0.005670</td>\n",
       "      <td>-0.045599</td>\n",
       "      <td>-0.034194</td>\n",
       "      <td>-0.032356</td>\n",
       "      <td>-0.002592</td>\n",
       "      <td>0.002861</td>\n",
       "      <td>-0.025930</td>\n",
       "      <td>141.0</td>\n",
       "    </tr>\n",
       "    <tr>\n",
       "      <th>3</th>\n",
       "      <td>-0.089063</td>\n",
       "      <td>-0.044642</td>\n",
       "      <td>-0.011595</td>\n",
       "      <td>-0.036656</td>\n",
       "      <td>0.012191</td>\n",
       "      <td>0.024991</td>\n",
       "      <td>-0.036038</td>\n",
       "      <td>0.034309</td>\n",
       "      <td>0.022688</td>\n",
       "      <td>-0.009362</td>\n",
       "      <td>206.0</td>\n",
       "    </tr>\n",
       "    <tr>\n",
       "      <th>4</th>\n",
       "      <td>0.005383</td>\n",
       "      <td>-0.044642</td>\n",
       "      <td>-0.036385</td>\n",
       "      <td>0.021872</td>\n",
       "      <td>0.003935</td>\n",
       "      <td>0.015596</td>\n",
       "      <td>0.008142</td>\n",
       "      <td>-0.002592</td>\n",
       "      <td>-0.031988</td>\n",
       "      <td>-0.046641</td>\n",
       "      <td>135.0</td>\n",
       "    </tr>\n",
       "  </tbody>\n",
       "</table>\n",
       "</div>"
      ],
      "text/plain": [
       "            age       sex       bmi        bp        s1        s2        s3  \\\n",
       "Index                                                                         \n",
       "0      0.038076  0.050680  0.061696  0.021872 -0.044223 -0.034821 -0.043401   \n",
       "1     -0.001882 -0.044642 -0.051474 -0.026328 -0.008449 -0.019163  0.074412   \n",
       "2      0.085299  0.050680  0.044451 -0.005670 -0.045599 -0.034194 -0.032356   \n",
       "3     -0.089063 -0.044642 -0.011595 -0.036656  0.012191  0.024991 -0.036038   \n",
       "4      0.005383 -0.044642 -0.036385  0.021872  0.003935  0.015596  0.008142   \n",
       "\n",
       "             s4        s5        s6    glu  \n",
       "Index                                       \n",
       "0     -0.002592  0.019907 -0.017646  151.0  \n",
       "1     -0.039493 -0.068332 -0.092204   75.0  \n",
       "2     -0.002592  0.002861 -0.025930  141.0  \n",
       "3      0.034309  0.022688 -0.009362  206.0  \n",
       "4     -0.002592 -0.031988 -0.046641  135.0  "
      ]
     },
     "execution_count": 27,
     "metadata": {},
     "output_type": "execute_result"
    }
   ],
   "source": [
    "diabetes = pd.read_csv(\"../data/diabetes.txt\", index_col=0)\n",
    "diabetes.head()"
   ]
  },
  {
   "cell_type": "code",
   "execution_count": 28,
   "metadata": {},
   "outputs": [
    {
     "data": {
      "text/plain": [
       "(442, 11)"
      ]
     },
     "execution_count": 28,
     "metadata": {},
     "output_type": "execute_result"
    }
   ],
   "source": [
    "diabetes.shape"
   ]
  },
  {
   "cell_type": "code",
   "execution_count": 29,
   "metadata": {},
   "outputs": [],
   "source": [
    "X = diabetes.iloc[:, :-1].values\n",
    "y = diabetes.iloc[:, -1].values"
   ]
  },
  {
   "cell_type": "markdown",
   "metadata": {},
   "source": [
    "### Direct procedure"
   ]
  },
  {
   "cell_type": "code",
   "execution_count": 30,
   "metadata": {},
   "outputs": [],
   "source": [
    "training_samples = 400\n",
    "\n",
    "X_train = X[:training_samples, :].copy()\n",
    "X_test = X[training_samples:, :].copy()\n",
    "\n",
    "y_train = y[:training_samples].copy()\n",
    "y_test = y[training_samples:].copy()"
   ]
  },
  {
   "cell_type": "code",
   "execution_count": 31,
   "metadata": {},
   "outputs": [
    {
     "name": "stdout",
     "output_type": "stream",
     "text": [
      "Verifying if distributions correspond\n",
      "Train\n",
      "Mean\n",
      "[ 6.90346674e-06  8.74501623e-04 -4.39659541e-04  9.05002451e-05\n",
      " -6.84910109e-04 -9.59628229e-04 -3.11877202e-04 -1.75238581e-04\n",
      "  4.40114081e-04 -8.91302689e-04]\n",
      "Std\n",
      "[0.04785924 0.0476126  0.04682002 0.04686824 0.04728375 0.04708328\n",
      " 0.04708473 0.04761204 0.04813429 0.04755817]\n",
      "\n",
      "Test\n",
      "Mean\n",
      "[-6.57473023e-05 -8.32858689e-03  4.18723372e-03 -8.61907096e-04\n",
      "  6.52295342e-03  9.13931646e-03  2.97025907e-03  1.66893886e-03\n",
      " -4.19156267e-03  8.48859704e-03]\n",
      "Std\n",
      "[0.04466728 0.04629024 0.05397103 0.05374384 0.0496953  0.05103441\n",
      " 0.05182429 0.04708357 0.04152469 0.04678833]\n"
     ]
    }
   ],
   "source": [
    "print(\"Verifying if distributions correspond\")\n",
    "print(\"Train\")\n",
    "print(\"Mean\")\n",
    "print(X_train.mean(axis=0))\n",
    "print(\"Std\")\n",
    "print(X_train.std(axis=0))\n",
    "\n",
    "print(\"\\nTest\")\n",
    "print(\"Mean\")\n",
    "print(X_test.mean(axis=0))\n",
    "print(\"Std\")\n",
    "print(X_test.std(axis=0))"
   ]
  },
  {
   "cell_type": "code",
   "execution_count": 32,
   "metadata": {},
   "outputs": [
    {
     "name": "stdout",
     "output_type": "stream",
     "text": [
      "Train score: 0.499\n",
      "Test score: 0.70\n"
     ]
    }
   ],
   "source": [
    "linreg = LinearRegression()\n",
    "linreg.fit(X_train, y_train)\n",
    "\n",
    "print(f\"Train score: {linreg.r2_score(X_train, y_train):.3f}\")\n",
    "print(f\"Test score: {linreg.r2_score(X_test, y_test):.2f}\")"
   ]
  },
  {
   "cell_type": "code",
   "execution_count": 33,
   "metadata": {},
   "outputs": [
    {
     "name": "stdout",
     "output_type": "stream",
     "text": [
      "Beta 0: 152.73; p-value: 0.00\n",
      "Beta 1: 5.03; p-value: 0.94\n",
      "Beta 2: -238.41; p-value: 0.00\n",
      "Beta 3: 521.64; p-value: 0.00\n",
      "Beta 4: 299.93; p-value: 0.00\n",
      "Beta 5: -752.09; p-value: 0.08\n",
      "Beta 6: 445.12; p-value: 0.21\n",
      "Beta 7: 83.50; p-value: 0.71\n",
      "Beta 8: 185.57; p-value: 0.28\n",
      "Beta 9: 706.46; p-value: 0.00\n",
      "Beta 10: 88.69; p-value: 0.22\n"
     ]
    }
   ],
   "source": [
    "for i, val in enumerate(linreg.betas):\n",
    "    pval = linreg.pvalues[i]\n",
    "    print(f\"Beta {i}: {val:.2f}; p-value: {pval:.2f}\")"
   ]
  },
  {
   "cell_type": "markdown",
   "metadata": {},
   "source": [
    "### Backward Feature Elimination based on p-values"
   ]
  },
  {
   "cell_type": "code",
   "execution_count": 34,
   "metadata": {},
   "outputs": [],
   "source": [
    "class LinearBFE:\n",
    "    \n",
    "    def __init__(self, alpha=0.05, fit_intercept=True, original_cols=None, verbose=False):\n",
    "        \n",
    "        self.alpha = 0.05\n",
    "        self.fit_intercept = fit_intercept\n",
    "        self.index_cols = None\n",
    "        self.original_cols = original_cols\n",
    "        self.verbose = verbose\n",
    "    \n",
    "    def fit(self, X, y=None):\n",
    "        \n",
    "        X = np.array(X)\n",
    "        y = np.array(y)\n",
    "        \n",
    "        self.index_cols = np.arange(X.shape[1])\n",
    "        \n",
    "        if self.original_cols is None:\n",
    "            self.original_cols = self.index_cols.copy()\n",
    "        \n",
    "        self.remain_cols = self.original_cols.copy()\n",
    "        self.keep_ = self.index_cols.copy()\n",
    "        \n",
    "        max_iter = X.shape[1]\n",
    "        if not self.fit_intercept:\n",
    "            max_iter = max_iter - 1\n",
    "        \n",
    "        for _ in range(max_iter):\n",
    "            \n",
    "            linreg = LinearRegression(fit_intercept=self.fit_intercept)\n",
    "            linreg.fit(X, y)\n",
    "            \n",
    "            if np.any(linreg.pvalues > 0.05):\n",
    "                drop_col = np.argmax(linreg.pvalues)\n",
    "                \n",
    "                if self.fit_intercept:\n",
    "                    if (drop_col == 0):\n",
    "                        self.fit_intercept = False\n",
    "                        if self.verbose:\n",
    "                            print(f\"Intercept dropped: {linreg.pvalues[0]:.3f}\")\n",
    "                        continue\n",
    "                    else:\n",
    "                        x_drop = drop_col - 1\n",
    "                        \n",
    "                if self.verbose:\n",
    "                    print(f\"Column dropped: {self.remain_cols[x_drop]} - {linreg.pvalues[drop_col]:.3f}\")\n",
    "                \n",
    "                X = np.delete(X, x_drop, axis=1)\n",
    "                self.remain_cols = np.delete(self.remain_cols, x_drop)\n",
    "                self.keep_ = np.delete(self.keep_, x_drop)\n",
    "            \n",
    "            else:\n",
    "                if self.verbose:\n",
    "                    print(\"All remaing are significant\")\n",
    "                self.linreg = linreg\n",
    "                break\n",
    "    \n",
    "    def transform(self, X, y=None):\n",
    "        X = np.array(X)\n",
    "        X = X[:, self.keep_]\n",
    "        return X\n",
    "    \n",
    "    def predict(self, X, y=None):\n",
    "        X = self.transform(X)\n",
    "        return self.linreg.predict(X)\n",
    "    \n",
    "    def fit_predict(self, X, y=None):\n",
    "        self.fit(X, y)\n",
    "        return self.predict(X, y)\n",
    "    \n",
    "    def r2_score(self, X, y=None):\n",
    "        X = self.transform(X)\n",
    "        return self.linreg.r2_score(X, y)"
   ]
  },
  {
   "cell_type": "code",
   "execution_count": 35,
   "metadata": {},
   "outputs": [
    {
     "name": "stdout",
     "output_type": "stream",
     "text": [
      "Column dropped: age - 0.937\n",
      "Column dropped: s3 - 0.709\n",
      "Column dropped: s4 - 0.265\n",
      "Column dropped: s6 - 0.176\n",
      "All remaing are significant\n"
     ]
    }
   ],
   "source": [
    "bfe = LinearBFE(alpha=0.01, verbose=True, original_cols=diabetes.columns[:-1])\n",
    "bfe.fit(X_train, y_train)"
   ]
  },
  {
   "cell_type": "code",
   "execution_count": 36,
   "metadata": {},
   "outputs": [
    {
     "name": "stdout",
     "output_type": "stream",
     "text": [
      "Train score: 0.495\n",
      "Test score: 0.71\n"
     ]
    }
   ],
   "source": [
    "print(f\"Train score: {bfe.r2_score(X_train, y_train):.3f}\")\n",
    "print(f\"Test score: {bfe.r2_score(X_test, y_test):.2f}\")"
   ]
  },
  {
   "cell_type": "code",
   "execution_count": 37,
   "metadata": {},
   "outputs": [],
   "source": [
    "train_scores_raw = []\n",
    "test_scores_raw = []\n",
    "\n",
    "train_scores_clean = []\n",
    "test_scores_clean = []"
   ]
  },
  {
   "cell_type": "code",
   "execution_count": 38,
   "metadata": {},
   "outputs": [],
   "source": [
    "for seed in range(500):\n",
    "    \n",
    "    X_train, X_test, y_train, y_test = train_test_split(X, y, test_size=0.2, random_state=seed)\n",
    "    \n",
    "    linreg = LinearRegression(fit_intercept=True)\n",
    "    linreg.fit(X_train, y_train)\n",
    "    \n",
    "    train_scores_raw.append(linreg.r2_score(X_train, y_train))\n",
    "    test_scores_raw.append(linreg.r2_score(X_test, y_test))\n",
    "    \n",
    "    bfe = LinearBFE(alpha=0.01, fit_intercept=True)\n",
    "    bfe.fit(X_train, y_train)\n",
    "    \n",
    "    train_scores_clean.append(bfe.r2_score(X_train, y_train))\n",
    "    test_scores_clean.append(bfe.r2_score(X_test, y_test))"
   ]
  },
  {
   "cell_type": "code",
   "execution_count": 39,
   "metadata": {},
   "outputs": [
    {
     "name": "stdout",
     "output_type": "stream",
     "text": [
      "No column removal score: 0.478\n",
      "Column removal score: 0.481\n"
     ]
    }
   ],
   "source": [
    "print(f\"No column removal score: {np.mean(test_scores_raw):.3f}\")\n",
    "print(f\"Column removal score: {np.mean(test_scores_clean):.3f}\")"
   ]
  },
  {
   "cell_type": "code",
   "execution_count": 40,
   "metadata": {},
   "outputs": [],
   "source": [
    "from scipy.stats import wilcoxon"
   ]
  },
  {
   "cell_type": "code",
   "execution_count": 41,
   "metadata": {},
   "outputs": [
    {
     "data": {
      "text/plain": [
       "WilcoxonResult(statistic=48510.0, pvalue=1.2606674531880719e-05)"
      ]
     },
     "execution_count": 41,
     "metadata": {},
     "output_type": "execute_result"
    }
   ],
   "source": [
    "wilcoxon(test_scores_raw, test_scores_clean)"
   ]
  },
  {
   "cell_type": "code",
   "execution_count": null,
   "metadata": {},
   "outputs": [],
   "source": []
  }
 ],
 "metadata": {
  "kernelspec": {
   "display_name": "Python 3.9.7 ('venv': venv)",
   "language": "python",
   "name": "python3"
  },
  "language_info": {
   "codemirror_mode": {
    "name": "ipython",
    "version": 3
   },
   "file_extension": ".py",
   "mimetype": "text/x-python",
   "name": "python",
   "nbconvert_exporter": "python",
   "pygments_lexer": "ipython3",
   "version": "3.9.7"
  },
  "orig_nbformat": 4,
  "vscode": {
   "interpreter": {
    "hash": "dbedec980263149dde7855e7bb5bb02ef30139ed6f06e1bfbb35f5254a0ad8b4"
   }
  }
 },
 "nbformat": 4,
 "nbformat_minor": 2
}
